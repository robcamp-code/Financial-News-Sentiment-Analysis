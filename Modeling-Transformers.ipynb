{
 "cells": [
  {
   "cell_type": "code",
   "execution_count": 16,
   "id": "8d334756",
   "metadata": {},
   "outputs": [],
   "source": [
    "from sklearn.model_selection import train_test_split\n",
    "from sklearn.linear_model import LogisticRegression\n",
    "import xgboost as xgb\n",
    "from sklearn.metrics import accuracy_score, confusion_matrix, roc_auc_score\n",
    "from sklearn.svm import LinearSVC\n",
    "import pandas as pd\n",
    "import numpy as np\n",
    "from joblib import load, dump\n",
    "import torch"
   ]
  },
  {
   "cell_type": "code",
   "execution_count": 43,
   "id": "e4378c5c",
   "metadata": {},
   "outputs": [],
   "source": [
    "model_log = torch.load(\"Objects/Models/model_log.pt\")"
   ]
  },
  {
   "cell_type": "markdown",
   "id": "39ce388e",
   "metadata": {},
   "source": [
    "# NLTK Vader Scores"
   ]
  },
  {
   "cell_type": "code",
   "execution_count": 2,
   "id": "7283d1c4",
   "metadata": {},
   "outputs": [],
   "source": [
    "vader_sentiments = load(\"Objects/Data/sentiments.joblib\")\n",
    "transformers = load(\"Objects/Data/transformers.joblib\")\n",
    "y = torch.load(\"Objects/Data/labels.pt\")"
   ]
  },
  {
   "cell_type": "code",
   "execution_count": 3,
   "id": "ca13ffca",
   "metadata": {},
   "outputs": [],
   "source": [
    "vader_sentiments.pos.fillna(vader_sentiments.pos.mean(), inplace=True)\n",
    "vader_sentiments.neg.fillna(vader_sentiments.neg.mean(), inplace=True)\n",
    "vader_sentiments.neu.fillna(vader_sentiments.neu.mean(), inplace=True)\n",
    "vader_sentiments.compound.fillna(vader_sentiments.compound.mean(), inplace=True)"
   ]
  },
  {
   "cell_type": "code",
   "execution_count": 4,
   "id": "09779f0b",
   "metadata": {},
   "outputs": [],
   "source": [
    "y = y.numpy()"
   ]
  },
  {
   "cell_type": "code",
   "execution_count": 5,
   "id": "4af9cb84",
   "metadata": {},
   "outputs": [
    {
     "data": {
      "text/plain": [
       "0.6028368794326241"
      ]
     },
     "execution_count": 5,
     "metadata": {},
     "output_type": "execute_result"
    }
   ],
   "source": [
    "x_train, x_test, y_train, y_test = train_test_split(vader_sentiments, y, test_size=846, random_state=1)\n",
    "\n",
    "lr = LogisticRegression()\n",
    "_ = lr.fit(x_train, y_train)\n",
    "y_pred = lr.predict(x_test)\n",
    "accuracy_score(y_pred, y_test)"
   ]
  },
  {
   "cell_type": "markdown",
   "id": "1cd8aa43",
   "metadata": {},
   "source": [
    "# Huggingface Transformers"
   ]
  },
  {
   "cell_type": "code",
   "execution_count": 6,
   "id": "dd9423db",
   "metadata": {},
   "outputs": [],
   "source": [
    "x_train, x_test, y_train, y_test = train_test_split(transformers, y, test_size=846, random_state=10\n",
    "                                                   )"
   ]
  },
  {
   "cell_type": "code",
   "execution_count": 7,
   "id": "81127d44",
   "metadata": {},
   "outputs": [
    {
     "name": "stderr",
     "output_type": "stream",
     "text": [
      "/Users/robertcampbell/opt/anaconda3/lib/python3.8/site-packages/sklearn/linear_model/_logistic.py:763: ConvergenceWarning: lbfgs failed to converge (status=1):\n",
      "STOP: TOTAL NO. of ITERATIONS REACHED LIMIT.\n",
      "\n",
      "Increase the number of iterations (max_iter) or scale the data as shown in:\n",
      "    https://scikit-learn.org/stable/modules/preprocessing.html\n",
      "Please also refer to the documentation for alternative solver options:\n",
      "    https://scikit-learn.org/stable/modules/linear_model.html#logistic-regression\n",
      "  n_iter_i = _check_optimize_result(\n"
     ]
    },
    {
     "data": {
      "text/plain": [
       "0.8534278959810875"
      ]
     },
     "execution_count": 7,
     "metadata": {},
     "output_type": "execute_result"
    }
   ],
   "source": [
    "lr = LogisticRegression()\n",
    "_ = lr.fit(x_train, y_train)\n",
    "y_pred = lr.predict(x_test)\n",
    "accuracy_score(y_pred, y_test)"
   ]
  },
  {
   "cell_type": "markdown",
   "id": "4abd144a",
   "metadata": {},
   "source": [
    "# Huggingface Transformers + NLTK vader scores"
   ]
  },
  {
   "cell_type": "code",
   "execution_count": 32,
   "id": "c3ce3046",
   "metadata": {},
   "outputs": [],
   "source": [
    "transformers_df = pd.DataFrame(transformers)"
   ]
  },
  {
   "cell_type": "code",
   "execution_count": 33,
   "id": "ada209d6",
   "metadata": {},
   "outputs": [],
   "source": [
    "df = pd.concat([vader_sentiments, transformers_df], axis=1)"
   ]
  },
  {
   "cell_type": "code",
   "execution_count": 34,
   "id": "ef2f4939",
   "metadata": {},
   "outputs": [],
   "source": [
    "x_train, x_test, y_train, y_test = train_test_split(df, y, test_size=846, random_state=10)"
   ]
  },
  {
   "cell_type": "code",
   "execution_count": 41,
   "id": "87257ebb",
   "metadata": {},
   "outputs": [
    {
     "name": "stderr",
     "output_type": "stream",
     "text": [
      "/Users/robertcampbell/opt/anaconda3/lib/python3.8/site-packages/sklearn/linear_model/_logistic.py:763: ConvergenceWarning: lbfgs failed to converge (status=1):\n",
      "STOP: TOTAL NO. of ITERATIONS REACHED LIMIT.\n",
      "\n",
      "Increase the number of iterations (max_iter) or scale the data as shown in:\n",
      "    https://scikit-learn.org/stable/modules/preprocessing.html\n",
      "Please also refer to the documentation for alternative solver options:\n",
      "    https://scikit-learn.org/stable/modules/linear_model.html#logistic-regression\n",
      "  n_iter_i = _check_optimize_result(\n"
     ]
    }
   ],
   "source": [
    "lg = LogisticRegression()\n",
    "_ = lg.fit(x_train, y_train)\n",
    "y_pred = lg.predict(x_test)\n",
    "y_proba = lg.predict_proba(x_test)\n",
    "confusion = confusion_matrix(y_test, y_pred)\n",
    "acc = accuracy_score(y_pred, y_test)"
   ]
  },
  {
   "cell_type": "code",
   "execution_count": 36,
   "id": "e181b1e8",
   "metadata": {},
   "outputs": [],
   "source": [
    "auc = roc_auc_score(y_test, y_proba, multi_class='ovr')"
   ]
  },
  {
   "cell_type": "code",
   "execution_count": 37,
   "id": "2c359fec",
   "metadata": {},
   "outputs": [
    {
     "data": {
      "text/plain": [
       "0.9404138413989361"
      ]
     },
     "execution_count": 37,
     "metadata": {},
     "output_type": "execute_result"
    }
   ],
   "source": [
    "auc"
   ]
  },
  {
   "cell_type": "code",
   "execution_count": 38,
   "id": "cf84aa38",
   "metadata": {},
   "outputs": [
    {
     "data": {
      "text/plain": [
       "array([[ 83,  17,   5],\n",
       "       [ 13, 466,  35],\n",
       "       [  4,  47, 176]])"
      ]
     },
     "execution_count": 38,
     "metadata": {},
     "output_type": "execute_result"
    }
   ],
   "source": [
    "confusion"
   ]
  },
  {
   "cell_type": "markdown",
   "id": "786ffda9",
   "metadata": {},
   "source": [
    "# Log Model"
   ]
  },
  {
   "cell_type": "code",
   "execution_count": 39,
   "id": "a9baba73",
   "metadata": {},
   "outputs": [],
   "source": [
    "def log_model(model, acc, **params):\n",
    "    log_entry = {\n",
    "        \"model\": model,\n",
    "        \"accuracy\": acc,\n",
    "        \n",
    "    }\n",
    "    for i in params:\n",
    "        log_entry[i] = params[i]\n",
    "    \n",
    "    model_log.append(log_entry)"
   ]
  },
  {
   "cell_type": "code",
   "execution_count": 31,
   "id": "dd4450af",
   "metadata": {},
   "outputs": [],
   "source": [
    "log_entry = {\n",
    "    'features': 'huggingface transformers + vader scores',\n",
    "    'model_type': 'logistic_regression',\n",
    "    'confusion_matrix': confusion,\n",
    "    'roc_auc': auc,\n",
    "    'notes': 'Hugging Face Transformers'\n",
    "}"
   ]
  },
  {
   "cell_type": "code",
   "execution_count": 44,
   "id": "16164426",
   "metadata": {},
   "outputs": [],
   "source": [
    "log_model(lg, acc, **log_entry)"
   ]
  },
  {
   "cell_type": "code",
   "execution_count": 47,
   "id": "80f948d4",
   "metadata": {},
   "outputs": [
    {
     "data": {
      "text/plain": [
       "array([[ 83,  17,   5],\n",
       "       [ 13, 466,  35],\n",
       "       [  4,  47, 176]])"
      ]
     },
     "execution_count": 47,
     "metadata": {},
     "output_type": "execute_result"
    }
   ],
   "source": [
    "model_log[-1]['confusion_matrix']"
   ]
  },
  {
   "cell_type": "code",
   "execution_count": 48,
   "id": "702f47c4",
   "metadata": {},
   "outputs": [
    {
     "data": {
      "text/plain": [
       "array([[ 59,  29,  10],\n",
       "       [ 10, 446,  39],\n",
       "       [  6,  87, 160]])"
      ]
     },
     "execution_count": 48,
     "metadata": {},
     "output_type": "execute_result"
    }
   ],
   "source": [
    "model_log[0]['confusion_matrix']"
   ]
  },
  {
   "cell_type": "code",
   "execution_count": 50,
   "id": "6a14fc32",
   "metadata": {},
   "outputs": [],
   "source": [
    "torch.save(model_log, 'Objects/Models/model_log.pt')"
   ]
  },
  {
   "cell_type": "code",
   "execution_count": null,
   "id": "57b2e269",
   "metadata": {},
   "outputs": [],
   "source": []
  }
 ],
 "metadata": {
  "hide_input": false,
  "kernelspec": {
   "display_name": "Python 3 (ipykernel)",
   "language": "python",
   "name": "python3"
  },
  "language_info": {
   "codemirror_mode": {
    "name": "ipython",
    "version": 3
   },
   "file_extension": ".py",
   "mimetype": "text/x-python",
   "name": "python",
   "nbconvert_exporter": "python",
   "pygments_lexer": "ipython3",
   "version": "3.8.5"
  },
  "toc": {
   "base_numbering": 1,
   "nav_menu": {},
   "number_sections": true,
   "sideBar": true,
   "skip_h1_title": false,
   "title_cell": "Table of Contents",
   "title_sidebar": "Contents",
   "toc_cell": false,
   "toc_position": {},
   "toc_section_display": true,
   "toc_window_display": false
  }
 },
 "nbformat": 4,
 "nbformat_minor": 5
}
