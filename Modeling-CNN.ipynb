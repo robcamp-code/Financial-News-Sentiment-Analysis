{
 "cells": [
  {
   "cell_type": "code",
   "execution_count": 43,
   "id": "94aaa1a9",
   "metadata": {},
   "outputs": [],
   "source": [
    "import seaborn as sns"
   ]
  },
  {
   "cell_type": "code",
   "execution_count": 1,
   "id": "e27d8932",
   "metadata": {},
   "outputs": [],
   "source": [
    "import torch\n",
    "import torch.nn as nn\n",
    "from torch.utils.data import Dataset, DataLoader, random_split\n",
    "import matplotlib.pyplot as plt\n",
    "from joblib import load, dump\n",
    "import pandas as pd"
   ]
  },
  {
   "cell_type": "code",
   "execution_count": 37,
   "id": "c8cb5545",
   "metadata": {},
   "outputs": [],
   "source": [
    "model_log = load(\"Objects/Models/model_log.joblib\")"
   ]
  },
  {
   "cell_type": "code",
   "execution_count": 3,
   "id": "8eac7fc7",
   "metadata": {},
   "outputs": [],
   "source": [
    "device = torch.device('cuda' if torch.cuda.is_available() else 'cpu')"
   ]
  },
  {
   "cell_type": "code",
   "execution_count": 4,
   "id": "62617abd",
   "metadata": {},
   "outputs": [],
   "source": [
    "y = torch.load(\"Objects/Data/labels.pt\")\n",
    "X = torch.load(\"Objects/Data/padded_glove_embeddings.pt\")"
   ]
  },
  {
   "cell_type": "code",
   "execution_count": 5,
   "id": "95412bbf",
   "metadata": {},
   "outputs": [],
   "source": [
    "class Data(Dataset):\n",
    "    def __init__(self, x, y):\n",
    "        self.x = x\n",
    "        self.y = y\n",
    "        self.n_samples = X.size(0)\n",
    "        \n",
    "    def __getitem__(self, idx):\n",
    "        return self.x[idx], self.y[idx]\n",
    "    \n",
    "    def __len__(self):\n",
    "        return self.n_samples\n",
    "        "
   ]
  },
  {
   "cell_type": "code",
   "execution_count": 6,
   "id": "5a006559",
   "metadata": {},
   "outputs": [],
   "source": [
    "data = Data(X, y)"
   ]
  },
  {
   "cell_type": "code",
   "execution_count": 7,
   "id": "b6c2e31d",
   "metadata": {},
   "outputs": [],
   "source": [
    "train_data, test_data = random_split(data, [4000, 846])"
   ]
  },
  {
   "cell_type": "code",
   "execution_count": 8,
   "id": "8a55c336",
   "metadata": {},
   "outputs": [],
   "source": [
    "batch_size=5"
   ]
  },
  {
   "cell_type": "code",
   "execution_count": 9,
   "id": "2dfae896",
   "metadata": {},
   "outputs": [],
   "source": [
    "train_loader = DataLoader(dataset=train_data, batch_size=batch_size, shuffle=True)\n",
    "test_loader = DataLoader(dataset=test_data, batch_size=batch_size, shuffle=False)"
   ]
  },
  {
   "cell_type": "code",
   "execution_count": 14,
   "id": "ca89024e",
   "metadata": {},
   "outputs": [],
   "source": [
    "# define model architechture\n",
    "class CNN(nn.Module):\n",
    "    def __init__(self):\n",
    "        super(CNN, self).__init__()\n",
    "        self.conv1 = nn.Conv2d(1,1,(1,300), stride=1)\n",
    "        self.conv2 = nn.Conv2d(1,1,(2,1), stride=1)\n",
    "        self.conv3 = nn.Conv1d(1,1,(3,300), stride=1)\n",
    "        self.pool1 = nn.MaxPool2d((4,1))\n",
    "        self.pool2 = nn.AvgPool2d((4,1))\n",
    "        \n",
    "        self.activation = nn.ReLU()\n",
    "        \n",
    "        self.flat = nn.Flatten()\n",
    "        self.linear1 = nn.Linear(22, 3)\n",
    "    def forward(self, x):\n",
    "        \n",
    "        output = self.conv1(x)\n",
    "        output = self.pool2(output)\n",
    "        # output = self.conv2(output)\n",
    "        # output = self.pool2(output)\n",
    "        output = self.flat(output)\n",
    "        output = self.linear1(output)\n",
    "        \n",
    "        return output"
   ]
  },
  {
   "cell_type": "code",
   "execution_count": 15,
   "id": "8e6708d9",
   "metadata": {},
   "outputs": [],
   "source": [
    "model = CNN()\n",
    "learning_rate = 0.001\n",
    "optimizer = torch.optim.SGD(model.parameters(), lr=learning_rate)\n",
    "criterion = nn.CrossEntropyLoss()"
   ]
  },
  {
   "cell_type": "code",
   "execution_count": 16,
   "id": "c32d9723",
   "metadata": {},
   "outputs": [],
   "source": [
    "# hypereparameters\n",
    "num_epochs = 10\n",
    "n_total_steps = len(train_loader)"
   ]
  },
  {
   "cell_type": "code",
   "execution_count": 17,
   "id": "e259b649",
   "metadata": {},
   "outputs": [
    {
     "name": "stdout",
     "output_type": "stream",
     "text": [
      "Loss: 1.052107572555542 --- epoch: 1, step: 300/800\n",
      "torch.Size([5, 1, 88, 300])\n",
      "Loss: 1.0161477327346802 --- epoch: 1, step: 600/800\n",
      "torch.Size([5, 1, 88, 300])\n",
      "Loss: 0.963895857334137 --- epoch: 2, step: 300/800\n",
      "torch.Size([5, 1, 88, 300])\n",
      "Loss: 0.9291488528251648 --- epoch: 2, step: 600/800\n",
      "torch.Size([5, 1, 88, 300])\n",
      "Loss: 0.9181738495826721 --- epoch: 3, step: 300/800\n",
      "torch.Size([5, 1, 88, 300])\n",
      "Loss: 0.9433757066726685 --- epoch: 3, step: 600/800\n",
      "torch.Size([5, 1, 88, 300])\n",
      "Loss: 0.8859096765518188 --- epoch: 4, step: 300/800\n",
      "torch.Size([5, 1, 88, 300])\n",
      "Loss: 0.882100522518158 --- epoch: 4, step: 600/800\n",
      "torch.Size([5, 1, 88, 300])\n",
      "Loss: 1.0221188068389893 --- epoch: 5, step: 300/800\n",
      "torch.Size([5, 1, 88, 300])\n",
      "Loss: 0.9435437917709351 --- epoch: 5, step: 600/800\n",
      "torch.Size([5, 1, 88, 300])\n",
      "Loss: 0.9676586389541626 --- epoch: 6, step: 300/800\n",
      "torch.Size([5, 1, 88, 300])\n",
      "Loss: 0.8709978461265564 --- epoch: 6, step: 600/800\n",
      "torch.Size([5, 1, 88, 300])\n",
      "Loss: 0.932421088218689 --- epoch: 7, step: 300/800\n",
      "torch.Size([5, 1, 88, 300])\n",
      "Loss: 0.9421504735946655 --- epoch: 7, step: 600/800\n",
      "torch.Size([5, 1, 88, 300])\n",
      "Loss: 0.9116206169128418 --- epoch: 8, step: 300/800\n",
      "torch.Size([5, 1, 88, 300])\n",
      "Loss: 0.8545786142349243 --- epoch: 8, step: 600/800\n",
      "torch.Size([5, 1, 88, 300])\n",
      "Loss: 0.8847348093986511 --- epoch: 9, step: 300/800\n",
      "torch.Size([5, 1, 88, 300])\n",
      "Loss: 0.8407396078109741 --- epoch: 9, step: 600/800\n",
      "torch.Size([5, 1, 88, 300])\n",
      "Loss: 0.9267140030860901 --- epoch: 10, step: 300/800\n",
      "torch.Size([5, 1, 88, 300])\n",
      "Loss: 0.9412015676498413 --- epoch: 10, step: 600/800\n",
      "torch.Size([5, 1, 88, 300])\n"
     ]
    }
   ],
   "source": [
    "total_losses = []\n",
    "total_loss = 0\n",
    "print_steps = 300\n",
    "loss_step = 25\n",
    "for epoch in range(num_epochs):\n",
    "    for i, (feature, label) in enumerate(train_loader):\n",
    "        \n",
    "        feature = feature.to(device)\n",
    "        label = label.to(device)\n",
    "        feature = feature.view(batch_size, 1, 88, 300)\n",
    "        \n",
    "        #forward pass\n",
    "        outputs = model(feature.float())\n",
    "        loss = criterion(outputs, label)\n",
    "        total_loss += loss\n",
    "        \n",
    "        #back prop\n",
    "        optimizer.zero_grad()\n",
    "        loss.backward()\n",
    "        optimizer.step()\n",
    "        \n",
    "        #log\n",
    "        if (i + 1) % print_steps == 0:\n",
    "            print(f'Loss: {total_losses[-1]} --- epoch: {epoch+1}, step: {i+1}/{n_total_steps}') \n",
    "            print(feature.size())\n",
    "        if (i + 1) % loss_step == 0:\n",
    "            avg_loss = total_loss / loss_step\n",
    "            total_losses.append(avg_loss.item())\n",
    "            total_loss = 0\n",
    "               "
   ]
  },
  {
   "cell_type": "code",
   "execution_count": 51,
   "id": "eb892b06",
   "metadata": {},
   "outputs": [
    {
     "data": {
      "image/png": "[encoded data removed]",
      "text/plain": [
       "<Figure size 432x288 with 1 Axes>"
      ]
     },
     "metadata": {},
     "output_type": "display_data"
    }
   ],
   "source": [
    "sns.set_theme()\n",
    "_ = sns.lineplot(x=range(len(total_losses)), y=total_losses)\n",
    "_ = plt.xlabel(\"training step\")\n",
    "_ = plt.ylabel(\"Loss\")\n",
    "_ = plt.title(\"CNN training\")\n",
    "plt.savefig(\"CNNTraining.png\")"
   ]
  },
  {
   "cell_type": "code",
   "execution_count": 28,
   "id": "6a8a1747",
   "metadata": {},
   "outputs": [],
   "source": [
    "with torch.no_grad():\n",
    "    predictions = torch.tensor([])\n",
    "    labels = torch.tensor([])\n",
    "    for feature, label in test_loader:\n",
    "        feature = feature.to(device)\n",
    "\n",
    "        feature = feature.view(feature.size()[0],1,88,300)\n",
    "        label = label.to(device)\n",
    "        outputs = model(feature.float())\n",
    "        _, predicted = torch.max(outputs, 1)\n",
    "        \n",
    "        predictions = torch.cat([predictions, predicted])\n",
    "        labels = torch.cat([label, labels])"
   ]
  },
  {
   "cell_type": "code",
   "execution_count": 29,
   "id": "d204818c",
   "metadata": {},
   "outputs": [],
   "source": [
    "accuracy = ((predictions == labels).sum() / 846).item()"
   ]
  },
  {
   "cell_type": "code",
   "execution_count": 30,
   "id": "7923395b",
   "metadata": {},
   "outputs": [
    {
     "data": {
      "text/plain": [
       "tensor([1., 1., 1., 1., 1., 1., 1., 1., 1., 1., 1., 1., 1., 1., 1., 1., 1., 1.,\n",
       "        1., 1., 1., 1., 1., 1., 1., 1., 1., 1., 1., 1., 1., 1., 1., 1., 1., 1.,\n",
       "        2., 1., 1., 1., 1., 1., 1., 1., 1., 1., 1., 1., 1., 1., 1., 1., 1., 1.,\n",
       "        1., 1., 1., 1., 1., 1., 1., 1., 2., 1., 1., 1., 1., 1., 1., 1., 1., 1.,\n",
       "        1., 1., 1., 1., 1., 1., 1., 1., 1., 1., 1., 1., 1., 1., 1., 1., 1., 1.,\n",
       "        1., 1., 1., 1., 1., 2., 1., 1., 1., 1., 1., 2., 1., 1., 1., 1., 1., 1.,\n",
       "        1., 1., 2., 1., 1., 1., 1., 1., 1., 1., 1., 1., 1., 2., 1., 1., 1., 1.,\n",
       "        1., 1., 1., 1., 1., 1., 1., 1., 1., 1., 1., 1., 1., 1., 1., 1., 1., 1.,\n",
       "        1., 1., 1., 1., 1., 1., 1., 1., 1., 1., 1., 1., 1., 1., 1., 1., 1., 1.,\n",
       "        1., 1., 1., 1., 1., 1., 1., 1., 1., 1., 1., 1., 1., 1., 1., 1., 1., 1.,\n",
       "        1., 1., 1., 1., 1., 1., 1., 1., 1., 1., 1., 1., 1., 1., 1., 1., 1., 1.,\n",
       "        1., 1., 1., 1., 1., 1., 1., 1., 1., 1., 1., 1., 1., 1., 1., 1., 1., 1.,\n",
       "        1., 1., 1., 1., 1., 1., 1., 1., 1., 1., 1., 1., 1., 1., 1., 1., 1., 1.,\n",
       "        1., 1., 1., 1., 1., 1., 1., 1., 1., 1., 1., 1., 1., 1., 1., 1., 1., 1.,\n",
       "        1., 1., 1., 1., 1., 1., 1., 1., 1., 1., 1., 1., 1., 1., 1., 1., 1., 1.,\n",
       "        1., 1., 1., 1., 1., 1., 1., 1., 1., 1., 1., 1., 1., 1., 1., 1., 1., 1.,\n",
       "        1., 1., 1., 1., 1., 1., 1., 1., 1., 1., 1., 1., 1., 1., 1., 1., 1., 1.,\n",
       "        1., 1., 1., 1., 1., 1., 1., 1., 1., 1., 1., 1., 1., 1., 2., 1., 1., 1.,\n",
       "        1., 1., 1., 1., 1., 2., 1., 1., 1., 1., 1., 1., 1., 1., 1., 1., 1., 1.,\n",
       "        1., 1., 1., 1., 1., 1., 1., 1., 1., 1., 1., 1., 1., 1., 1., 1., 1., 1.,\n",
       "        1., 1., 1., 1., 1., 1., 1., 1., 1., 1., 1., 1., 1., 1., 1., 1., 1., 1.,\n",
       "        1., 1., 1., 1., 1., 1., 1., 1., 1., 1., 2., 1., 1., 1., 1., 1., 1., 1.,\n",
       "        2., 1., 1., 1., 1., 1., 1., 1., 1., 1., 1., 1., 1., 1., 1., 1., 1., 1.,\n",
       "        1., 1., 1., 1., 1., 1., 1., 1., 1., 1., 1., 1., 1., 1., 1., 1., 1., 1.,\n",
       "        1., 1., 1., 1., 1., 1., 1., 1., 1., 1., 1., 1., 1., 1., 1., 1., 1., 1.,\n",
       "        1., 2., 1., 1., 1., 1., 1., 1., 1., 1., 1., 1., 1., 2., 1., 1., 1., 1.,\n",
       "        1., 1., 1., 1., 1., 1., 1., 1., 1., 1., 1., 1., 1., 1., 1., 1., 1., 1.,\n",
       "        1., 1., 1., 1., 1., 1., 1., 1., 1., 1., 1., 1., 1., 1., 1., 1., 1., 1.,\n",
       "        1., 1., 1., 1., 1., 1., 1., 1., 1., 1., 1., 1., 1., 1., 1., 1., 1., 1.,\n",
       "        1., 1., 1., 1., 1., 1., 1., 1., 1., 1., 1., 1., 1., 1., 2., 1., 1., 2.,\n",
       "        1., 1., 1., 1., 1., 1., 1., 1., 1., 1., 1., 1., 1., 2., 1., 1., 1., 2.,\n",
       "        1., 1., 1., 1., 1., 1., 1., 1., 1., 1., 1., 1., 1., 1., 1., 1., 1., 1.,\n",
       "        1., 1., 1., 1., 1., 1., 1., 1., 1., 1., 1., 1., 1., 2., 1., 1., 1., 1.,\n",
       "        1., 1., 1., 1., 1., 1., 1., 1., 1., 1., 1., 1., 1., 1., 1., 1., 1., 1.,\n",
       "        1., 1., 1., 1., 1., 1., 1., 1., 1., 1., 1., 1., 1., 1., 1., 1., 1., 1.,\n",
       "        1., 1., 2., 1., 1., 1., 1., 1., 1., 1., 1., 1., 1., 1., 1., 1., 1., 1.,\n",
       "        1., 1., 1., 1., 1., 1., 1., 1., 1., 1., 1., 1., 1., 1., 1., 1., 1., 1.,\n",
       "        1., 1., 1., 1., 1., 1., 1., 1., 1., 1., 1., 1., 1., 1., 1., 1., 1., 1.,\n",
       "        1., 1., 1., 1., 1., 1., 1., 1., 1., 1., 1., 1., 1., 1., 1., 1., 1., 1.,\n",
       "        1., 1., 1., 1., 1., 1., 1., 1., 1., 1., 1., 1., 1., 1., 1., 1., 1., 1.,\n",
       "        1., 1., 1., 1., 1., 1., 1., 1., 1., 1., 1., 1., 1., 1., 1., 1., 1., 1.,\n",
       "        1., 1., 1., 1., 1., 1., 1., 1., 1., 1., 1., 1., 1., 1., 1., 1., 1., 1.,\n",
       "        2., 1., 1., 1., 1., 1., 1., 1., 1., 1., 1., 1., 1., 1., 1., 1., 1., 1.,\n",
       "        1., 1., 1., 1., 1., 1., 1., 1., 1., 1., 1., 1., 1., 1., 1., 1., 1., 1.,\n",
       "        1., 1., 1., 1., 1., 1., 1., 1., 1., 1., 1., 1., 1., 1., 1., 1., 1., 1.,\n",
       "        1., 1., 1., 1., 1., 1., 1., 1., 1., 1., 1., 1., 1., 1., 1., 1., 1., 1.,\n",
       "        1., 1., 1., 1., 1., 1., 1., 1., 1., 1., 1., 1., 1., 1., 1., 1., 1., 1.])"
      ]
     },
     "execution_count": 30,
     "metadata": {},
     "output_type": "execute_result"
    }
   ],
   "source": [
    "predictions"
   ]
  },
  {
   "cell_type": "code",
   "execution_count": 31,
   "id": "40ebeaa5",
   "metadata": {},
   "outputs": [
    {
     "data": {
      "text/plain": [
       "tensor([0., 1., 1., 1., 1., 0., 0., 2., 2., 1., 1., 1., 1., 2., 1., 1., 2., 2.,\n",
       "        1., 2., 0., 1., 2., 1., 2., 2., 2., 0., 1., 1., 2., 1., 2., 1., 2., 1.,\n",
       "        1., 1., 2., 1., 2., 1., 1., 0., 1., 1., 1., 2., 1., 1., 2., 1., 1., 1.,\n",
       "        1., 0., 2., 1., 1., 0., 2., 0., 1., 1., 1., 2., 1., 1., 2., 2., 2., 1.,\n",
       "        2., 1., 1., 2., 1., 1., 2., 1., 1., 1., 1., 2., 1., 1., 1., 2., 1., 1.,\n",
       "        0., 2., 1., 1., 1., 1., 1., 0., 1., 2., 2., 1., 1., 0., 2., 0., 1., 1.,\n",
       "        1., 1., 1., 2., 1., 0., 1., 1., 1., 2., 1., 1., 2., 1., 1., 1., 2., 1.,\n",
       "        0., 1., 2., 1., 1., 1., 1., 1., 1., 1., 1., 2., 1., 1., 1., 1., 1., 1.,\n",
       "        1., 2., 1., 1., 1., 1., 1., 2., 1., 0., 2., 1., 1., 0., 1., 2., 2., 1.,\n",
       "        1., 1., 2., 1., 0., 2., 0., 1., 1., 1., 1., 1., 1., 1., 1., 1., 2., 1.,\n",
       "        1., 2., 2., 2., 2., 0., 2., 1., 2., 1., 2., 1., 1., 2., 2., 1., 1., 0.,\n",
       "        1., 1., 2., 2., 1., 2., 2., 1., 2., 1., 1., 2., 1., 2., 0., 2., 2., 0.,\n",
       "        1., 1., 1., 1., 1., 2., 1., 2., 2., 1., 1., 1., 2., 1., 1., 0., 1., 1.,\n",
       "        1., 1., 1., 2., 1., 1., 2., 2., 1., 2., 1., 1., 2., 1., 1., 2., 0., 2.,\n",
       "        1., 2., 1., 2., 1., 2., 1., 1., 2., 0., 0., 1., 1., 2., 1., 0., 1., 2.,\n",
       "        2., 0., 1., 2., 2., 1., 2., 0., 2., 2., 2., 0., 1., 1., 2., 1., 1., 1.,\n",
       "        2., 1., 1., 1., 1., 1., 2., 1., 2., 1., 1., 2., 1., 1., 1., 1., 0., 1.,\n",
       "        1., 1., 1., 1., 2., 2., 1., 1., 1., 1., 2., 2., 1., 1., 1., 1., 1., 2.,\n",
       "        1., 1., 1., 0., 1., 2., 1., 2., 1., 1., 1., 1., 0., 1., 1., 2., 0., 2.,\n",
       "        2., 1., 0., 1., 1., 1., 1., 1., 1., 0., 1., 2., 1., 2., 1., 2., 0., 1.,\n",
       "        2., 1., 1., 1., 1., 1., 2., 0., 0., 1., 0., 1., 1., 2., 2., 1., 2., 1.,\n",
       "        1., 1., 1., 1., 1., 1., 0., 1., 2., 1., 2., 1., 2., 1., 1., 1., 1., 0.,\n",
       "        1., 2., 1., 2., 0., 1., 1., 2., 1., 1., 1., 1., 1., 1., 0., 1., 2., 1.,\n",
       "        0., 1., 1., 0., 2., 1., 1., 2., 1., 1., 1., 2., 1., 1., 2., 2., 1., 0.,\n",
       "        1., 0., 2., 1., 2., 1., 1., 2., 1., 2., 0., 1., 1., 1., 2., 2., 1., 1.,\n",
       "        1., 1., 2., 1., 1., 1., 1., 2., 1., 0., 1., 0., 2., 1., 2., 2., 2., 1.,\n",
       "        1., 1., 1., 1., 2., 2., 2., 1., 1., 1., 1., 1., 2., 1., 0., 1., 2., 1.,\n",
       "        1., 1., 2., 0., 1., 1., 1., 1., 1., 2., 1., 2., 0., 2., 1., 1., 1., 0.,\n",
       "        0., 1., 1., 2., 1., 1., 1., 0., 1., 1., 2., 1., 1., 2., 0., 1., 0., 2.,\n",
       "        2., 2., 0., 1., 0., 1., 1., 1., 1., 1., 1., 1., 1., 0., 1., 1., 1., 1.,\n",
       "        1., 1., 2., 2., 0., 1., 2., 1., 1., 1., 1., 1., 1., 1., 2., 1., 1., 1.,\n",
       "        1., 1., 0., 2., 1., 0., 2., 0., 2., 1., 2., 1., 2., 1., 1., 1., 1., 1.,\n",
       "        0., 1., 2., 2., 1., 2., 1., 2., 1., 1., 1., 1., 2., 0., 1., 1., 2., 1.,\n",
       "        2., 1., 1., 1., 1., 0., 2., 2., 1., 1., 1., 1., 1., 2., 1., 2., 1., 1.,\n",
       "        2., 0., 0., 1., 1., 2., 1., 1., 0., 2., 1., 1., 2., 2., 2., 2., 0., 2.,\n",
       "        1., 1., 0., 1., 2., 1., 2., 0., 1., 1., 1., 2., 1., 1., 2., 2., 0., 1.,\n",
       "        2., 2., 1., 1., 2., 1., 0., 1., 1., 1., 2., 1., 2., 2., 0., 0., 1., 2.,\n",
       "        2., 2., 1., 1., 0., 0., 2., 1., 2., 2., 2., 1., 2., 2., 1., 1., 1., 0.,\n",
       "        1., 1., 2., 1., 2., 1., 1., 1., 0., 2., 1., 1., 1., 1., 1., 2., 1., 2.,\n",
       "        1., 1., 2., 1., 1., 1., 2., 1., 1., 0., 1., 1., 1., 1., 2., 1., 0., 2.,\n",
       "        1., 2., 0., 0., 0., 1., 2., 1., 2., 1., 1., 0., 0., 1., 2., 1., 1., 2.,\n",
       "        1., 0., 2., 1., 2., 1., 2., 1., 0., 1., 0., 1., 0., 1., 1., 1., 2., 2.,\n",
       "        2., 1., 2., 2., 2., 1., 2., 2., 1., 1., 2., 1., 0., 1., 2., 2., 1., 1.,\n",
       "        2., 1., 2., 1., 1., 1., 2., 0., 2., 0., 1., 1., 1., 1., 1., 2., 0., 1.,\n",
       "        1., 1., 1., 1., 1., 1., 1., 2., 1., 2., 1., 1., 0., 1., 1., 1., 1., 2.,\n",
       "        1., 2., 1., 1., 1., 1., 1., 0., 1., 1., 1., 2., 1., 2., 1., 0., 2., 1.,\n",
       "        2., 1., 1., 2., 1., 1., 1., 0., 1., 0., 1., 1., 1., 1., 1., 1., 1., 0.])"
      ]
     },
     "execution_count": 31,
     "metadata": {},
     "output_type": "execute_result"
    }
   ],
   "source": [
    "labels"
   ]
  },
  {
   "cell_type": "code",
   "execution_count": 32,
   "id": "36a7834d",
   "metadata": {},
   "outputs": [],
   "source": [
    "def log_model(model, acc, **params):\n",
    "    log_entry = {\n",
    "        \"model\": model,\n",
    "        \"accuracy\": acc,\n",
    "        \n",
    "    }\n",
    "    for i in params:\n",
    "        log_entry[i] = params[i]\n",
    "    \n",
    "    model_log.append(log_entry)"
   ]
  },
  {
   "cell_type": "code",
   "execution_count": 33,
   "id": "f4bd5917",
   "metadata": {},
   "outputs": [
    {
     "data": {
      "text/plain": [
       "CNN(\n",
       "  (conv1): Conv2d(1, 1, kernel_size=(1, 300), stride=(1, 1))\n",
       "  (conv2): Conv2d(1, 1, kernel_size=(2, 1), stride=(1, 1))\n",
       "  (conv3): Conv1d(1, 1, kernel_size=(3, 300), stride=(1,))\n",
       "  (pool1): MaxPool2d(kernel_size=(4, 1), stride=(4, 1), padding=0, dilation=1, ceil_mode=False)\n",
       "  (pool2): AvgPool2d(kernel_size=(4, 1), stride=(4, 1), padding=0)\n",
       "  (activation): ReLU()\n",
       "  (flat): Flatten(start_dim=1, end_dim=-1)\n",
       "  (linear1): Linear(in_features=22, out_features=3, bias=True)\n",
       ")"
      ]
     },
     "execution_count": 33,
     "metadata": {},
     "output_type": "execute_result"
    }
   ],
   "source": [
    "model"
   ]
  },
  {
   "cell_type": "code",
   "execution_count": 34,
   "id": "90e92565",
   "metadata": {},
   "outputs": [],
   "source": [
    "params = {\n",
    "    \"model_name\": \"CNN\",\n",
    "    \"layers\": [\"Conv\", \"MaxPool\", \"Linear\"],\n",
    "    \"hidden_sizes\": [None, None, None],\n",
    "    \"activation\": [None, None, None],\n",
    "    \"dropout\": [None, None, None],\n",
    "    \"notes\": \"Baseline CNN backpropagated its way into predicting all 1s(neutral)\"\n",
    "}"
   ]
  },
  {
   "cell_type": "code",
   "execution_count": 38,
   "id": "1fab1745",
   "metadata": {},
   "outputs": [],
   "source": [
    "log_model(model, accuracy, **params)"
   ]
  },
  {
   "cell_type": "code",
   "execution_count": 39,
   "id": "00087147",
   "metadata": {},
   "outputs": [
    {
     "data": {
      "text/html": [
       "<div>\n",
       "<style scoped>\n",
       "    .dataframe tbody tr th:only-of-type {\n",
       "        vertical-align: middle;\n",
       "    }\n",
       "\n",
       "    .dataframe tbody tr th {\n",
       "        vertical-align: top;\n",
       "    }\n",
       "\n",
       "    .dataframe thead th {\n",
       "        text-align: right;\n",
       "    }\n",
       "</style>\n",
       "<table border=\"1\" class=\"dataframe\">\n",
       "  <thead>\n",
       "    <tr style=\"text-align: right;\">\n",
       "      <th></th>\n",
       "      <th>model</th>\n",
       "      <th>accuracy</th>\n",
       "      <th>model_name</th>\n",
       "      <th>penalty</th>\n",
       "      <th>C</th>\n",
       "      <th>solver</th>\n",
       "      <th>layers</th>\n",
       "      <th>hidden_sizes</th>\n",
       "      <th>activation</th>\n",
       "      <th>dropout</th>\n",
       "      <th>notes</th>\n",
       "    </tr>\n",
       "  </thead>\n",
       "  <tbody>\n",
       "    <tr>\n",
       "      <th>0</th>\n",
       "      <td>(CountVectorizer(), LogisticRegression(C=1, ma...</td>\n",
       "      <td>0.785567</td>\n",
       "      <td>logistic regression</td>\n",
       "      <td>l2</td>\n",
       "      <td>1.00</td>\n",
       "      <td>lbfgs</td>\n",
       "      <td>NaN</td>\n",
       "      <td>NaN</td>\n",
       "      <td>NaN</td>\n",
       "      <td>NaN</td>\n",
       "      <td>NaN</td>\n",
       "    </tr>\n",
       "    <tr>\n",
       "      <th>1</th>\n",
       "      <td>(CountVectorizer(), LogisticRegression(C=0.55,...</td>\n",
       "      <td>0.785567</td>\n",
       "      <td>logistic regression</td>\n",
       "      <td>l2</td>\n",
       "      <td>0.55</td>\n",
       "      <td>sag</td>\n",
       "      <td>NaN</td>\n",
       "      <td>NaN</td>\n",
       "      <td>NaN</td>\n",
       "      <td>NaN</td>\n",
       "      <td>NaN</td>\n",
       "    </tr>\n",
       "    <tr>\n",
       "      <th>2</th>\n",
       "      <td>(CountVectorizer(), XGBClassifier(base_score=0...</td>\n",
       "      <td>0.784536</td>\n",
       "      <td>XGBClassifier</td>\n",
       "      <td>NaN</td>\n",
       "      <td>NaN</td>\n",
       "      <td>NaN</td>\n",
       "      <td>NaN</td>\n",
       "      <td>NaN</td>\n",
       "      <td>NaN</td>\n",
       "      <td>NaN</td>\n",
       "      <td>NaN</td>\n",
       "    </tr>\n",
       "    <tr>\n",
       "      <th>3</th>\n",
       "      <td>CNN(\\n  (conv1): Conv2d(1, 1, kernel_size=(1, ...</td>\n",
       "      <td>0.579196</td>\n",
       "      <td>CNN</td>\n",
       "      <td>NaN</td>\n",
       "      <td>NaN</td>\n",
       "      <td>NaN</td>\n",
       "      <td>[Conv, MaxPool, Linear]</td>\n",
       "      <td>[None, None, None]</td>\n",
       "      <td>[None, None, None]</td>\n",
       "      <td>[None, None, None]</td>\n",
       "      <td>Baseline CNN backpropagated its way into predi...</td>\n",
       "    </tr>\n",
       "  </tbody>\n",
       "</table>\n",
       "</div>"
      ],
      "text/plain": [
       "                                               model  accuracy  \\\n",
       "0  (CountVectorizer(), LogisticRegression(C=1, ma...  0.785567   \n",
       "1  (CountVectorizer(), LogisticRegression(C=0.55,...  0.785567   \n",
       "2  (CountVectorizer(), XGBClassifier(base_score=0...  0.784536   \n",
       "3  CNN(\\n  (conv1): Conv2d(1, 1, kernel_size=(1, ...  0.579196   \n",
       "\n",
       "            model_name penalty     C solver                   layers  \\\n",
       "0  logistic regression      l2  1.00  lbfgs                      NaN   \n",
       "1  logistic regression      l2  0.55    sag                      NaN   \n",
       "2        XGBClassifier     NaN   NaN    NaN                      NaN   \n",
       "3                  CNN     NaN   NaN    NaN  [Conv, MaxPool, Linear]   \n",
       "\n",
       "         hidden_sizes          activation             dropout  \\\n",
       "0                 NaN                 NaN                 NaN   \n",
       "1                 NaN                 NaN                 NaN   \n",
       "2                 NaN                 NaN                 NaN   \n",
       "3  [None, None, None]  [None, None, None]  [None, None, None]   \n",
       "\n",
       "                                               notes  \n",
       "0                                                NaN  \n",
       "1                                                NaN  \n",
       "2                                                NaN  \n",
       "3  Baseline CNN backpropagated its way into predi...  "
      ]
     },
     "execution_count": 39,
     "metadata": {},
     "output_type": "execute_result"
    }
   ],
   "source": [
    "pd.DataFrame().from_dict(model_log)"
   ]
  },
  {
   "cell_type": "code",
   "execution_count": null,
   "id": "27253b33",
   "metadata": {},
   "outputs": [],
   "source": [
    "# Save new model log\n"
   ]
  }
 ],
 "metadata": {
  "hide_input": false,
  "kernelspec": {
   "display_name": "Python 3 (ipykernel)",
   "language": "python",
   "name": "python3"
  },
  "language_info": {
   "codemirror_mode": {
    "name": "ipython",
    "version": 3
   },
   "file_extension": ".py",
   "mimetype": "text/x-python",
   "name": "python",
   "nbconvert_exporter": "python",
   "pygments_lexer": "ipython3",
   "version": "3.8.5"
  },
  "toc": {
   "base_numbering": 1,
   "nav_menu": {},
   "number_sections": true,
   "sideBar": true,
   "skip_h1_title": false,
   "title_cell": "Table of Contents",
   "title_sidebar": "Contents",
   "toc_cell": false,
   "toc_position": {},
   "toc_section_display": true,
   "toc_window_display": false
  }
 },
 "nbformat": 4,
 "nbformat_minor": 5
}
