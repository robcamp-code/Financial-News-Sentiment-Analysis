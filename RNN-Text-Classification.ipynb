{
 "cells": [
  {
   "cell_type": "code",
   "execution_count": 7,
   "id": "f5ded39d",
   "metadata": {},
   "outputs": [],
   "source": [
    "import torch\n",
    "import torch.nn as nn\n",
    "from torch.utils.data import Dataset, DataLoader, random_split\n",
    "from torch.nn.utils.rnn import pack_padded_sequence, pad_packed_sequence, pad_sequence\n",
    "import matplotlib.pyplot as plt"
   ]
  },
  {
   "cell_type": "code",
   "execution_count": 8,
   "id": "d3867ec5",
   "metadata": {},
   "outputs": [],
   "source": [
    "import numpy as np"
   ]
  },
  {
   "cell_type": "code",
   "execution_count": 9,
   "id": "70dd70fa",
   "metadata": {},
   "outputs": [],
   "source": [
    "from sklearn.metrics import confusion_matrix, accuracy_score"
   ]
  },
  {
   "cell_type": "markdown",
   "id": "bc6c02ed",
   "metadata": {},
   "source": [
    "# Loading Data"
   ]
  },
  {
   "cell_type": "code",
   "execution_count": 25,
   "id": "b3e35cd6",
   "metadata": {},
   "outputs": [],
   "source": [
    "y = torch.load(\"Objects/labels.pt\")\n",
    "X = torch.load(\"Objects/glove_embeddings.pt\")"
   ]
  },
  {
   "cell_type": "code",
   "execution_count": 26,
   "id": "bae15219",
   "metadata": {},
   "outputs": [],
   "source": [
    "X = pad_sequence(X.to_numpy(), batch_first=True)"
   ]
  },
  {
   "cell_type": "code",
   "execution_count": 27,
   "id": "2e48b2a4",
   "metadata": {},
   "outputs": [],
   "source": [
    "class Data(Dataset):\n",
    "    def __init__(self):\n",
    "        self.x = X\n",
    "        self.y = y\n",
    "        \n",
    "        self.n_samples = len(y)\n",
    "        \n",
    "    def __getitem__(self, idx):\n",
    "        return self.x[idx], self.y[idx]\n",
    "    \n",
    "    def __len__(self):\n",
    "        return self.n_samples"
   ]
  },
  {
   "cell_type": "code",
   "execution_count": 28,
   "id": "fdf0e2fc",
   "metadata": {},
   "outputs": [],
   "source": [
    "data = Data()"
   ]
  },
  {
   "cell_type": "code",
   "execution_count": 29,
   "id": "531ead05",
   "metadata": {},
   "outputs": [],
   "source": [
    "train_data, test_data = random_split(data, [4400, 446])"
   ]
  },
  {
   "cell_type": "code",
   "execution_count": 30,
   "id": "4d52e076",
   "metadata": {},
   "outputs": [],
   "source": [
    "batch_size = 5"
   ]
  },
  {
   "cell_type": "code",
   "execution_count": 31,
   "id": "2c63cac4",
   "metadata": {},
   "outputs": [],
   "source": [
    "train_loader = DataLoader(dataset=train_data, batch_size=batch_size, shuffle=True)\n",
    "test_loader = DataLoader(dataset=test_data, batch_size=batch_size, shuffle=True)"
   ]
  },
  {
   "cell_type": "markdown",
   "id": "3e3eabc8",
   "metadata": {},
   "source": [
    "# Helper Functions"
   ]
  },
  {
   "cell_type": "code",
   "execution_count": 32,
   "id": "1cee929a",
   "metadata": {
    "code_folding": []
   },
   "outputs": [],
   "source": [
    "# Gets the lengths of all of the sequences in a batch\n",
    "def get_lengths(features):\n",
    "    num_pads = 0\n",
    "    length_list = []\n",
    "    for i in features:\n",
    "        for j in range(88):\n",
    "            if torch.sum(i[j] == 0).item() == 300:\n",
    "                num_pads += 1\n",
    "        length = 88 - num_pads\n",
    "        length_list.append(length)\n",
    "        num_pads = 0\n",
    "    return length_list\n"
   ]
  },
  {
   "cell_type": "code",
   "execution_count": 33,
   "id": "c8cc604c",
   "metadata": {},
   "outputs": [],
   "source": [
    "# convert output matrix into categories\n",
    "# i.e [0.1, 3, -0.1] ----> 'Neutral'\n",
    "\n",
    "def get_category(output_matrix):\n",
    "  \n",
    "    outputs = []\n",
    "    \n",
    "    cat_map = {0: 'negative', 1: 'neutral', 2: 'positive'}\n",
    "    \n",
    "    for i in output_matrix:\n",
    "        val = torch.argmax(i).item()\n",
    "        outputs.append(cat_map[val])\n",
    "    \n",
    "    return outputs"
   ]
  },
  {
   "cell_type": "markdown",
   "id": "51b5b404",
   "metadata": {},
   "source": [
    "# Define Architechture"
   ]
  },
  {
   "cell_type": "code",
   "execution_count": 92,
   "id": "45cd870e",
   "metadata": {},
   "outputs": [],
   "source": [
    "# Typical RNN Model\n",
    "class RNN(nn.Module):\n",
    "    def __init__(self, input_size, hidden_size, num_layers, output_size):\n",
    "        super(RNN, self).__init__()\n",
    "        self.num_layers = num_layers\n",
    "        self.hidden_size = hidden_size\n",
    "        self.rnn = nn.RNN(input_size, hidden_size, num_layers, batch_first=True)\n",
    "        self.linear1 = nn.Linear(hidden_size, output_size)\n",
    "        \n",
    "    def forward(self, input_tensor):\n",
    "        h0 = torch.zeros(self.num_layers, 10, self.hidden_size)\n",
    "        \n",
    "        output, h_n = self.rnn(input_tensor, h0)\n",
    "        \n",
    "        output = pad_packed_sequence(output, batch_first=True)\n",
    "        \n",
    "        # length of sequences\n",
    "        indices = output[1] - 1 \n",
    "        \n",
    "        # update batch size (if its the last batch, the size will be different)\n",
    "        current_batch_size = output[0].size()[0]\n",
    "        \n",
    "        output = output[0][range(current_batch_size), indices, :]\n",
    "        \n",
    "        output = self.linear1(output)\n",
    "        \n",
    "        return output"
   ]
  },
  {
   "cell_type": "code",
   "execution_count": 54,
   "id": "9f00cc3c",
   "metadata": {},
   "outputs": [],
   "source": [
    "class GRU(nn.Module):\n",
    "    def __init__(self, input_size, hidden_size, num_layers, output_size):\n",
    "        super(GRU, self).__init__()\n",
    "        self.num_layers = num_layers\n",
    "        self.hidden_size = hidden_size\n",
    "        self.rnn = nn.GRU(input_size, hidden_size, num_layers, batch_first=True)\n",
    "        self.linear1 = nn.Linear(hidden_size, output_size)\n",
    "        \n",
    "    def forward(self, input_tensor):\n",
    "        h0 = torch.zeros(self.num_layers, 10, self.hidden_size)\n",
    "        \n",
    "        output, h_n = self.rnn(input_tensor, h0)\n",
    "        \n",
    "        output = pad_packed_sequence(output, batch_first=True)\n",
    "        \n",
    "        # length of sequences\n",
    "        indices = output[1] - 1 \n",
    "        \n",
    "        # update batch size (if its the last batch, the size will be different)\n",
    "        current_batch_size = output[0].size()[0]\n",
    "        \n",
    "        output = output[0][range(current_batch_size), indices, :]\n",
    "        \n",
    "        output = self.linear1(output.view(current_batch_size,64))\n",
    "        \n",
    "        return output"
   ]
  },
  {
   "cell_type": "code",
   "execution_count": 98,
   "id": "ffbe250b",
   "metadata": {},
   "outputs": [],
   "source": [
    "class LSTM(nn.Module):\n",
    "    def __init__(self, input_size, hidden_size, num_layers, output_size):\n",
    "        super(LSTM, self).__init__()\n",
    "        self.num_layers = num_layers\n",
    "        self.hidden_size = hidden_size\n",
    "        self.rnn = nn.LSTM(input_size, hidden_size, num_layers, batch_first=True)\n",
    "        self.linear1 = nn.Linear(hidden_size, output_size)\n",
    "        \n",
    "    def forward(self, input_tensor):\n",
    "        \n",
    "        h0 = torch.zeros(self.num_layers, 10, self.hidden_size)\n",
    "        c0 = torch.zeros(self.num_layers, 10, self.hidden_size)\n",
    "        output, (h_n, c_n) = self.rnn(input_tensor, (h0, c0))\n",
    "        \n",
    "        \n",
    "        output = pad_packed_sequence(output, batch_first=True)\n",
    "        \n",
    "        # length of sequences\n",
    "        indices = output[1] - 1 \n",
    "        \n",
    "        # update batch size (if its the last batch, the size will be different)\n",
    "        current_batch_size = output[0].size()[0]\n",
    "        \n",
    "        output = output[0][range(current_batch_size), indices, :]\n",
    "        \n",
    "        output = self.linear1(output.view(current_batch_size,64))\n",
    "        \n",
    "        return output"
   ]
  },
  {
   "cell_type": "markdown",
   "id": "d6af0486",
   "metadata": {},
   "source": [
    "## hyperparameters"
   ]
  },
  {
   "cell_type": "code",
   "execution_count": 86,
   "id": "abb80c48",
   "metadata": {},
   "outputs": [],
   "source": [
    "num_epochs = 10\n",
    "hidden_size = 64\n",
    "output_size = 3\n",
    "input_size = 300\n",
    "num_layers = 1"
   ]
  },
  {
   "cell_type": "markdown",
   "id": "b5601bec",
   "metadata": {},
   "source": [
    "## Example Forward pass"
   ]
  },
  {
   "cell_type": "code",
   "execution_count": 87,
   "id": "10de51e5",
   "metadata": {},
   "outputs": [],
   "source": [
    "example_rnn = RNN(input_size, hidden_size, num_layers, output_size)"
   ]
  },
  {
   "cell_type": "code",
   "execution_count": 88,
   "id": "1bde986c",
   "metadata": {},
   "outputs": [],
   "source": [
    "example_data = iter(train_loader).next()"
   ]
  },
  {
   "cell_type": "code",
   "execution_count": 89,
   "id": "ceaa2c26",
   "metadata": {},
   "outputs": [
    {
     "name": "stdout",
     "output_type": "stream",
     "text": [
      "Shape of Data: torch.Size([5, 88, 300])\n",
      "Labels: tensor([1, 1, 1, 1, 2])\n"
     ]
    }
   ],
   "source": [
    "print(f'Shape of Data: {example_data[0].size()}')\n",
    "print(f'Labels: {example_data[1]}')\n",
    "\n",
    "# example_data is a padded sequence of glove word embeddings\n",
    "\n",
    "# -> [0.1, -1, 2, -0.23, ... -0.12, 1.22, 0.01] 300 dimensional embeddings with 88 being the longest sequence\n",
    "# -> [-0.1, 0, 1, -0.21, ... -0.1, 0, 0.1, 0.1]\n",
    "# -> [0, 0, 0, 0, ... -0, 0, 0] # seequences shorter than 88 have a padding value of 0"
   ]
  },
  {
   "cell_type": "code",
   "execution_count": 90,
   "id": "ee08df7a",
   "metadata": {},
   "outputs": [],
   "source": [
    "# first we need to pack the sequence using pytorch's packed sequence\n",
    "\n",
    "# 1.) get feature lengths\n",
    "feature_lengths = get_lengths(example_data[0])\n",
    "                                    \n",
    "# 2.) pack the sequence; Parameters --> batch_first: ensures the batch size is first dimension, enforse_sorted: allows for unsorted sequence\n",
    "packed = pack_padded_sequence(example_data[0], feature_lengths, batch_first = True, enforce_sorted=False)"
   ]
  },
  {
   "cell_type": "markdown",
   "id": "5db37814",
   "metadata": {},
   "source": [
    "this creates a pytorch [PackedSequence](\"https://pytorch.org/docs/stable/generated/torch.nn.utils.rnn.PackedSequence.html#torch.nn.utils.rnn.PackedSequence\") object, and you can click the link to the documentation. All pytorch recurrent layers accept this data type as an input. This is very useful because we can pass sequences of variable length into our network and we can train on the orginal sequence instead of a padded sequence. Here we will pass a sample batch from our training data as a packed sequence through an RNN network. "
   ]
  },
  {
   "cell_type": "code",
   "execution_count": 93,
   "id": "9961031a",
   "metadata": {
    "collapsed": true
   },
   "outputs": [
    {
     "name": "stdout",
     "output_type": "stream",
     "text": [
      "tensor([[ 3.4250e-01,  1.2086e-01,  2.0981e-01, -9.7839e-02, -8.1826e-01,\n",
      "         -7.6284e-02,  7.7917e-01, -7.1370e-01, -2.9931e-02,  9.8397e-02,\n",
      "         -6.7217e-01,  9.7613e-02, -1.7813e-01,  7.1389e-01,  7.8130e-01,\n",
      "          2.3248e-01,  3.6372e-01, -8.3909e-03,  4.2826e-01, -6.0969e-01,\n",
      "          4.3287e-01, -4.6750e-01,  3.5054e-01,  3.1022e-02,  4.8378e-01,\n",
      "          6.5342e-02,  3.0154e-01,  1.8664e-02,  6.1125e-01, -5.9462e-01,\n",
      "         -1.6414e-01,  4.8485e-01, -7.4002e-01, -1.9750e-01,  7.1268e-02,\n",
      "          1.0213e-01,  2.9473e-01,  4.7267e-01,  3.9441e-01,  3.7787e-01,\n",
      "          3.1589e-01, -2.6609e-01, -1.1995e-01,  1.0029e-01,  6.8082e-01,\n",
      "         -1.9115e-01, -8.4104e-02,  4.5412e-01, -4.1435e-01,  3.0284e-01,\n",
      "          1.0518e-01,  1.0963e-02, -2.1144e-01,  4.1045e-01,  1.3906e-01,\n",
      "         -2.7106e-01,  5.8126e-01,  2.2131e-01,  1.0419e-01,  2.4421e-01,\n",
      "          5.2437e-01,  1.8421e-01,  4.9146e-01,  3.4458e-01],\n",
      "        [ 6.1660e-01,  4.4456e-01,  8.0630e-01, -9.0595e-02, -7.9533e-01,\n",
      "         -2.6600e-01,  6.2133e-01, -4.5836e-01, -3.8790e-01, -3.3074e-02,\n",
      "         -2.9562e-01,  3.9788e-01,  1.5001e-03,  6.3009e-01,  3.4304e-01,\n",
      "          8.7772e-02, -5.8524e-02,  4.0064e-01,  7.1404e-01, -4.7261e-01,\n",
      "          2.6152e-01, -3.8936e-02,  9.8044e-02,  3.0444e-01,  4.9296e-01,\n",
      "          3.6209e-01,  9.8825e-02,  3.0607e-01,  5.4988e-01, -4.5405e-01,\n",
      "          1.7805e-01,  5.1129e-01, -8.7881e-01, -3.4751e-01, -1.7094e-01,\n",
      "         -4.2102e-01,  2.8189e-01,  1.5772e-01,  2.2407e-01,  1.8467e-01,\n",
      "         -3.7712e-02, -1.6179e-01, -1.5011e-01,  1.9227e-01,  4.8734e-01,\n",
      "          5.0449e-03, -3.0674e-01,  6.3971e-01, -2.9349e-01,  2.0249e-01,\n",
      "          2.5256e-01, -1.0888e-01,  7.9721e-07, -1.9577e-01,  3.6031e-01,\n",
      "          2.5894e-02,  5.2119e-01,  1.5593e-01,  2.8964e-01,  3.1349e-01,\n",
      "          4.0019e-01,  4.4409e-01,  1.7835e-01,  1.5463e-01],\n",
      "        [ 5.0928e-01,  1.8001e-01,  5.1619e-01,  2.2180e-01, -4.1826e-01,\n",
      "         -1.8180e-01,  5.2753e-01, -6.0425e-01, -1.8063e-01, -3.2635e-01,\n",
      "         -4.4107e-01,  3.2998e-01, -4.1641e-01,  8.7863e-01,  5.2820e-01,\n",
      "          2.2075e-01,  5.0005e-01,  2.4772e-01,  3.1669e-01, -5.0737e-01,\n",
      "          3.1606e-01,  2.3906e-02, -1.1731e-02,  3.3855e-01,  5.2000e-01,\n",
      "         -2.5207e-01, -4.7190e-02,  3.7959e-01,  1.5583e-01, -1.4720e-01,\n",
      "          5.7505e-01, -7.4902e-02, -8.2925e-01, -2.8028e-01, -4.1688e-02,\n",
      "          2.0849e-01, -7.3205e-02,  5.1581e-01,  4.8149e-01,  4.9472e-02,\n",
      "          6.0045e-01,  9.4639e-02,  1.1423e-01,  4.4011e-02,  6.9427e-01,\n",
      "         -2.2837e-01, -4.1463e-02,  4.6486e-01, -5.3323e-01, -3.5354e-01,\n",
      "         -4.1096e-01,  3.8618e-01, -6.6157e-02,  4.7061e-01,  3.1072e-01,\n",
      "         -5.1678e-01,  3.0102e-01, -2.0879e-02, -2.5020e-02,  6.6408e-01,\n",
      "          4.7911e-01, -2.0687e-01, -1.0248e-01,  4.7315e-01],\n",
      "        [ 1.8078e-01,  2.2784e-01,  6.7581e-01,  3.2452e-01, -8.0996e-01,\n",
      "          7.5405e-01,  7.3191e-01, -6.3017e-01,  4.9121e-02,  2.1204e-01,\n",
      "         -8.6510e-02, -9.1502e-04,  6.3507e-02,  6.7285e-01,  2.9465e-01,\n",
      "          1.7875e-02, -3.9127e-01, -7.0177e-02,  6.6051e-01, -4.5813e-01,\n",
      "          4.2306e-01,  6.7487e-02, -2.2218e-02, -2.9924e-01,  4.7706e-01,\n",
      "          2.6974e-01, -2.3506e-01,  2.5121e-01,  5.9809e-01, -5.1310e-01,\n",
      "          5.5402e-01, -5.3589e-02, -7.5346e-01, -8.8713e-02, -4.3374e-01,\n",
      "         -5.0265e-01,  1.4935e-01,  2.1334e-01,  2.3302e-01,  3.6983e-01,\n",
      "          7.5633e-02,  1.7293e-01, -1.5245e-01,  5.1615e-01,  3.4290e-01,\n",
      "         -5.1845e-01, -3.2765e-01,  2.0366e-01, -1.7084e-01,  4.7549e-01,\n",
      "          6.7288e-02, -3.5781e-01, -1.8028e-01,  5.5657e-02,  5.7553e-01,\n",
      "         -2.2367e-01,  6.9881e-01,  1.3497e-01,  1.4891e-01,  4.8392e-01,\n",
      "          6.4487e-01,  2.3436e-01, -2.7387e-01,  2.1802e-01],\n",
      "        [ 4.7869e-01,  4.5875e-01,  6.7721e-01,  7.1583e-02, -5.3915e-01,\n",
      "          4.8851e-03,  7.7106e-01, -2.5451e-01, -2.7300e-01, -2.9653e-01,\n",
      "         -4.6840e-01,  5.4846e-01, -1.4661e-01,  7.2900e-01,  3.2025e-01,\n",
      "          2.7997e-01, -1.3108e-01,  3.6733e-01,  7.1299e-01, -6.0877e-01,\n",
      "          6.0295e-02,  4.2583e-02, -1.8874e-01,  2.6987e-01,  5.8950e-01,\n",
      "          4.7866e-01, -3.6992e-01,  1.5577e-01,  3.6165e-01, -4.9252e-01,\n",
      "          3.4112e-01,  3.5487e-01, -8.3268e-01, -2.3838e-01, -2.5603e-01,\n",
      "         -4.2094e-01,  4.0992e-02,  3.0236e-01,  9.4698e-02, -1.3983e-01,\n",
      "         -6.5377e-02,  1.9707e-01, -3.9092e-01,  4.9630e-01,  5.8424e-01,\n",
      "         -2.8614e-01,  2.6962e-01,  5.5258e-01, -7.7819e-02,  4.9191e-01,\n",
      "          2.1732e-01, -2.8809e-01, -2.1832e-02,  3.5264e-01,  5.5177e-01,\n",
      "          1.2122e-01,  3.6050e-01,  3.3724e-01,  3.8840e-01,  4.9129e-01,\n",
      "          5.1799e-02,  1.0088e-01,  2.9142e-01,  3.7599e-01]],\n",
      "       grad_fn=<IndexBackward>)\n",
      "tensor([[ 0.1144,  0.4975, -0.2908],\n",
      "        [-0.3151,  0.2261, -0.1820],\n",
      "        [-0.1881,  0.3908, -0.0931],\n",
      "        [-0.4833,  0.5179, -0.0536],\n",
      "        [-0.2653,  0.1161, -0.2191]], grad_fn=<AddmmBackward>)\n"
     ]
    }
   ],
   "source": [
    "output = example_rnn(packed.float())\n",
    "print(output)"
   ]
  },
  {
   "cell_type": "code",
   "execution_count": 62,
   "id": "3f17fccb",
   "metadata": {},
   "outputs": [
    {
     "data": {
      "text/plain": [
       "['negative', 'neutral', 'negative', 'negative', 'neutral']"
      ]
     },
     "execution_count": 62,
     "metadata": {},
     "output_type": "execute_result"
    }
   ],
   "source": [
    "# get predictions as category\n",
    "get_category(output)"
   ]
  },
  {
   "cell_type": "code",
   "execution_count": 63,
   "id": "bf622469",
   "metadata": {},
   "outputs": [
    {
     "data": {
      "text/plain": [
       "tensor([2, 1, 2, 2, 1])"
      ]
     },
     "execution_count": 63,
     "metadata": {},
     "output_type": "execute_result"
    }
   ],
   "source": [
    "# actual values\n",
    "example_data[1]"
   ]
  },
  {
   "cell_type": "markdown",
   "id": "fdf1d17c",
   "metadata": {},
   "source": [
    "# Training"
   ]
  },
  {
   "cell_type": "code",
   "execution_count": 94,
   "id": "2ffd3a81",
   "metadata": {},
   "outputs": [],
   "source": [
    "learning_rate = 0.001"
   ]
  },
  {
   "cell_type": "code",
   "execution_count": 99,
   "id": "36f4ce99",
   "metadata": {},
   "outputs": [],
   "source": [
    "rnn = LSTM(input_size, hidden_size, num_layers, output_size)\n",
    "optimizer = torch.optim.Adam(rnn.parameters(), lr=learning_rate)\n",
    "criterion = nn.CrossEntropyLoss()"
   ]
  },
  {
   "cell_type": "code",
   "execution_count": 100,
   "id": "5e1013c4",
   "metadata": {},
   "outputs": [
    {
     "name": "stdout",
     "output_type": "stream",
     "text": [
      "Epoch: 0 --- Step:100 / 880.0 --- Loss: 0.7353146076202393\n",
      "Epoch: 0 --- Step:200 / 880.0 --- Loss: 0.8452717661857605\n",
      "Epoch: 0 --- Step:300 / 880.0 --- Loss: 0.7754443287849426\n",
      "Epoch: 0 --- Step:400 / 880.0 --- Loss: 0.8266008496284485\n",
      "Epoch: 0 --- Step:500 / 880.0 --- Loss: 0.7447283267974854\n",
      "Epoch: 0 --- Step:600 / 880.0 --- Loss: 0.8402159214019775\n",
      "Epoch: 0 --- Step:700 / 880.0 --- Loss: 0.760612964630127\n",
      "Epoch: 0 --- Step:800 / 880.0 --- Loss: 0.7216203808784485\n",
      "Epoch: 1 --- Step:100 / 880.0 --- Loss: 0.6923043727874756\n",
      "Epoch: 1 --- Step:200 / 880.0 --- Loss: 0.6399832963943481\n",
      "Epoch: 1 --- Step:300 / 880.0 --- Loss: 0.6120502352714539\n",
      "Epoch: 1 --- Step:400 / 880.0 --- Loss: 0.6253939270973206\n",
      "Epoch: 1 --- Step:500 / 880.0 --- Loss: 0.5372741222381592\n",
      "Epoch: 1 --- Step:600 / 880.0 --- Loss: 0.6991738080978394\n",
      "Epoch: 1 --- Step:700 / 880.0 --- Loss: 0.6174448132514954\n",
      "Epoch: 1 --- Step:800 / 880.0 --- Loss: 0.6307486891746521\n",
      "Epoch: 2 --- Step:100 / 880.0 --- Loss: 0.5817336440086365\n",
      "Epoch: 2 --- Step:200 / 880.0 --- Loss: 0.6606594920158386\n",
      "Epoch: 2 --- Step:300 / 880.0 --- Loss: 0.5080796480178833\n",
      "Epoch: 2 --- Step:400 / 880.0 --- Loss: 0.5712653994560242\n",
      "Epoch: 2 --- Step:500 / 880.0 --- Loss: 0.35267505049705505\n",
      "Epoch: 2 --- Step:600 / 880.0 --- Loss: 0.46362292766571045\n",
      "Epoch: 2 --- Step:700 / 880.0 --- Loss: 0.6021022200584412\n",
      "Epoch: 2 --- Step:800 / 880.0 --- Loss: 0.648578941822052\n",
      "Epoch: 3 --- Step:100 / 880.0 --- Loss: 0.3049115836620331\n",
      "Epoch: 3 --- Step:200 / 880.0 --- Loss: 0.30227017402648926\n",
      "Epoch: 3 --- Step:300 / 880.0 --- Loss: 0.3548976182937622\n",
      "Epoch: 3 --- Step:400 / 880.0 --- Loss: 0.38222381472587585\n",
      "Epoch: 3 --- Step:500 / 880.0 --- Loss: 0.43973299860954285\n",
      "Epoch: 3 --- Step:600 / 880.0 --- Loss: 0.376323401927948\n",
      "Epoch: 3 --- Step:700 / 880.0 --- Loss: 0.3048610985279083\n",
      "Epoch: 3 --- Step:800 / 880.0 --- Loss: 0.30518388748168945\n",
      "Epoch: 4 --- Step:100 / 880.0 --- Loss: 0.29731351137161255\n",
      "Epoch: 4 --- Step:200 / 880.0 --- Loss: 0.2990981638431549\n",
      "Epoch: 4 --- Step:300 / 880.0 --- Loss: 0.24199678003787994\n",
      "Epoch: 4 --- Step:400 / 880.0 --- Loss: 0.25813302397727966\n",
      "Epoch: 4 --- Step:500 / 880.0 --- Loss: 0.2374175637960434\n",
      "Epoch: 4 --- Step:600 / 880.0 --- Loss: 0.23573949933052063\n",
      "Epoch: 4 --- Step:700 / 880.0 --- Loss: 0.22481605410575867\n",
      "Epoch: 4 --- Step:800 / 880.0 --- Loss: 0.2736206352710724\n",
      "Epoch: 5 --- Step:100 / 880.0 --- Loss: 0.09719698876142502\n",
      "Epoch: 5 --- Step:200 / 880.0 --- Loss: 0.0863277018070221\n",
      "Epoch: 5 --- Step:300 / 880.0 --- Loss: 0.12357095628976822\n",
      "Epoch: 5 --- Step:400 / 880.0 --- Loss: 0.1693384051322937\n",
      "Epoch: 5 --- Step:500 / 880.0 --- Loss: 0.18017417192459106\n",
      "Epoch: 5 --- Step:600 / 880.0 --- Loss: 0.18931449949741364\n",
      "Epoch: 5 --- Step:700 / 880.0 --- Loss: 0.27922776341438293\n",
      "Epoch: 5 --- Step:800 / 880.0 --- Loss: 0.1811666041612625\n",
      "Epoch: 6 --- Step:100 / 880.0 --- Loss: 0.10383497923612595\n",
      "Epoch: 6 --- Step:200 / 880.0 --- Loss: 0.1418224722146988\n",
      "Epoch: 6 --- Step:300 / 880.0 --- Loss: 0.10212443023920059\n",
      "Epoch: 6 --- Step:400 / 880.0 --- Loss: 0.13044355809688568\n",
      "Epoch: 6 --- Step:500 / 880.0 --- Loss: 0.1684054583311081\n",
      "Epoch: 6 --- Step:600 / 880.0 --- Loss: 0.09357594698667526\n",
      "Epoch: 6 --- Step:700 / 880.0 --- Loss: 0.12383195757865906\n",
      "Epoch: 6 --- Step:800 / 880.0 --- Loss: 0.16649813950061798\n",
      "Epoch: 7 --- Step:100 / 880.0 --- Loss: 0.06603416055440903\n",
      "Epoch: 7 --- Step:200 / 880.0 --- Loss: 0.06038209795951843\n",
      "Epoch: 7 --- Step:300 / 880.0 --- Loss: 0.14148744940757751\n",
      "Epoch: 7 --- Step:400 / 880.0 --- Loss: 0.0836329460144043\n",
      "Epoch: 7 --- Step:500 / 880.0 --- Loss: 0.057632409036159515\n",
      "Epoch: 7 --- Step:600 / 880.0 --- Loss: 0.08571775257587433\n",
      "Epoch: 7 --- Step:700 / 880.0 --- Loss: 0.1573498696088791\n",
      "Epoch: 7 --- Step:800 / 880.0 --- Loss: 0.12542259693145752\n",
      "Epoch: 8 --- Step:100 / 880.0 --- Loss: 0.01846919022500515\n",
      "Epoch: 8 --- Step:200 / 880.0 --- Loss: 0.053959641605615616\n",
      "Epoch: 8 --- Step:300 / 880.0 --- Loss: 0.10979948937892914\n",
      "Epoch: 8 --- Step:400 / 880.0 --- Loss: 0.023265734314918518\n",
      "Epoch: 8 --- Step:500 / 880.0 --- Loss: 0.07334566861391068\n",
      "Epoch: 8 --- Step:600 / 880.0 --- Loss: 0.05689125508069992\n",
      "Epoch: 8 --- Step:700 / 880.0 --- Loss: 0.17531698942184448\n",
      "Epoch: 8 --- Step:800 / 880.0 --- Loss: 0.0691286101937294\n",
      "Epoch: 9 --- Step:100 / 880.0 --- Loss: 0.014242565259337425\n",
      "Epoch: 9 --- Step:200 / 880.0 --- Loss: 0.1007101759314537\n",
      "Epoch: 9 --- Step:300 / 880.0 --- Loss: 0.018127864226698875\n",
      "Epoch: 9 --- Step:400 / 880.0 --- Loss: 0.0446145199239254\n",
      "Epoch: 9 --- Step:500 / 880.0 --- Loss: 0.053546253591775894\n",
      "Epoch: 9 --- Step:600 / 880.0 --- Loss: 0.034911662340164185\n",
      "Epoch: 9 --- Step:700 / 880.0 --- Loss: 0.028052331879734993\n",
      "Epoch: 9 --- Step:800 / 880.0 --- Loss: 0.04041037708520889\n"
     ]
    }
   ],
   "source": [
    "# Training loop\n",
    "n_total_steps = np.ceil(len(train_data) / batch_size)\n",
    "all_losses = []\n",
    "loss_step = 25\n",
    "current_loss = 0\n",
    "\n",
    "for epoch in range(num_epochs):\n",
    "    for i, (feature, label) in enumerate(train_loader):\n",
    "        \n",
    "        # pack seequence\n",
    "        sequence_lengths = get_lengths(feature)\n",
    "        \n",
    "        packed = pack_padded_sequence(feature, sequence_lengths, batch_first=True, enforce_sorted=False)\n",
    "       \n",
    "        # forward pass\n",
    "        output = rnn(packed.float())\n",
    "        \n",
    "        #backward pass\n",
    "        loss = criterion(output, label)\n",
    "        loss.backward()\n",
    "        current_loss += loss\n",
    "        \n",
    "        #update weights\n",
    "        optimizer.step()\n",
    "        optimizer.zero_grad()\n",
    "        \n",
    "        # Store Average Losses for plotting\n",
    "        if (i+1) % loss_step == 0:\n",
    "            avg_loss = current_loss / loss_step\n",
    "            all_losses.append(avg_loss)\n",
    "            current_loss = 0\n",
    "\n",
    "        #log results\n",
    "        if (i+1) % 100 == 0:\n",
    "            print(f'Epoch: {epoch} --- Step:{i+1} / {n_total_steps} --- Loss: {all_losses[-1]}') \n",
    "            pass\n",
    "        "
   ]
  },
  {
   "cell_type": "code",
   "execution_count": 101,
   "id": "2244c0d1",
   "metadata": {},
   "outputs": [
    {
     "data": {
      "image/png": "[encoded data removed]",
      "text/plain": [
       "<Figure size 432x288 with 1 Axes>"
      ]
     },
     "metadata": {
      "needs_background": "light"
     },
     "output_type": "display_data"
    }
   ],
   "source": [
    "all_losses = [i.item() for i in all_losses]\n",
    "plt.plot(all_losses)\n",
    "plt.show()"
   ]
  },
  {
   "cell_type": "markdown",
   "id": "959d1caf",
   "metadata": {},
   "source": [
    "# Model Evaluation"
   ]
  },
  {
   "cell_type": "code",
   "execution_count": 102,
   "id": "92e29501",
   "metadata": {},
   "outputs": [],
   "source": [
    "with torch.no_grad():\n",
    "    predictions = []\n",
    "    labels = []\n",
    "    for (feature, label) in test_loader:\n",
    "        \n",
    "        #pack sequence\n",
    "        sequence_lengths = get_lengths(feature)\n",
    "        packed = pack_padded_sequence(feature, sequence_lengths, batch_first=True, enforce_sorted=False)\n",
    "        \n",
    "        # forward pass\n",
    "        output = rnn(packed.float())\n",
    "        \n",
    "        for i in range(output.size()[0]):\n",
    "            pred = torch.argmax(output[i]).item()\n",
    "            predictions.append(pred)\n",
    "            actual = label[i]\n",
    "            labels.append(actual)"
   ]
  },
  {
   "cell_type": "code",
   "execution_count": 103,
   "id": "b1d0b4c3",
   "metadata": {},
   "outputs": [],
   "source": [
    "total_acc = accuracy_score(predictions, labels)"
   ]
  },
  {
   "cell_type": "code",
   "execution_count": 104,
   "id": "b1f566a9",
   "metadata": {},
   "outputs": [
    {
     "data": {
      "text/plain": [
       "array([[ 48,   9,   5],\n",
       "       [ 16, 223,  32],\n",
       "       [  8,  23,  82]])"
      ]
     },
     "execution_count": 104,
     "metadata": {},
     "output_type": "execute_result"
    }
   ],
   "source": [
    "confusion_matrix(predictions, labels)"
   ]
  },
  {
   "cell_type": "markdown",
   "id": "300af4c1",
   "metadata": {},
   "source": [
    "## Logging Model"
   ]
  },
  {
   "cell_type": "code",
   "execution_count": 105,
   "id": "eeb9ab0e",
   "metadata": {},
   "outputs": [
    {
     "data": {
      "text/plain": [
       "0.7914798206278026"
      ]
     },
     "execution_count": 105,
     "metadata": {},
     "output_type": "execute_result"
    }
   ],
   "source": [
    "total_acc"
   ]
  },
  {
   "cell_type": "code",
   "execution_count": 106,
   "id": "f3b6137d",
   "metadata": {},
   "outputs": [
    {
     "data": {
      "text/plain": [
       "LSTM(\n",
       "  (rnn): LSTM(300, 64, batch_first=True)\n",
       "  (linear1): Linear(in_features=64, out_features=3, bias=True)\n",
       ")"
      ]
     },
     "execution_count": 106,
     "metadata": {},
     "output_type": "execute_result"
    }
   ],
   "source": [
    "rnn"
   ]
  },
  {
   "cell_type": "code",
   "execution_count": 107,
   "id": "7aa75411",
   "metadata": {},
   "outputs": [],
   "source": [
    "log_entry = {\n",
    "    'model': rnn,\n",
    "    'features': 'glove embeddings',\n",
    "    'model_type': 'LSTM',\n",
    "    'acc': total_acc,\n",
    "    'notes': 'LSTM baseline'\n",
    "    \n",
    "}"
   ]
  },
  {
   "cell_type": "code",
   "execution_count": 73,
   "id": "788cb3b3",
   "metadata": {},
   "outputs": [],
   "source": [
    "model_log = []"
   ]
  },
  {
   "cell_type": "code",
   "execution_count": 108,
   "id": "90163c65",
   "metadata": {},
   "outputs": [],
   "source": [
    "model_log.append(rnn)"
   ]
  },
  {
   "cell_type": "code",
   "execution_count": 109,
   "id": "23683e7d",
   "metadata": {},
   "outputs": [
    {
     "data": {
      "text/plain": [
       "[GRU(\n",
       "   (rnn): GRU(300, 64, batch_first=True)\n",
       "   (linear1): Linear(in_features=64, out_features=3, bias=True)\n",
       " ),\n",
       " LSTM(\n",
       "   (rnn): LSTM(300, 64, batch_first=True)\n",
       "   (linear1): Linear(in_features=64, out_features=3, bias=True)\n",
       " )]"
      ]
     },
     "execution_count": 109,
     "metadata": {},
     "output_type": "execute_result"
    }
   ],
   "source": [
    "model_log"
   ]
  },
  {
   "cell_type": "code",
   "execution_count": null,
   "id": "ef7319d2",
   "metadata": {},
   "outputs": [],
   "source": []
  }
 ],
 "metadata": {
  "hide_input": false,
  "kernelspec": {
   "display_name": "Python 3 (ipykernel)",
   "language": "python",
   "name": "python3"
  },
  "language_info": {
   "codemirror_mode": {
    "name": "ipython",
    "version": 3
   },
   "file_extension": ".py",
   "mimetype": "text/x-python",
   "name": "python",
   "nbconvert_exporter": "python",
   "pygments_lexer": "ipython3",
   "version": "3.8.5"
  },
  "toc": {
   "base_numbering": 1,
   "nav_menu": {},
   "number_sections": true,
   "sideBar": true,
   "skip_h1_title": false,
   "title_cell": "Table of Contents",
   "title_sidebar": "Contents",
   "toc_cell": false,
   "toc_position": {},
   "toc_section_display": true,
   "toc_window_display": false
  }
 },
 "nbformat": 4,
 "nbformat_minor": 5
}
