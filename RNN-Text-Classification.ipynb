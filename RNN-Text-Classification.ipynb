{
 "cells": [
  {
   "cell_type": "code",
   "execution_count": 71,
   "id": "f5ded39d",
   "metadata": {},
   "outputs": [],
   "source": [
    "import torch\n",
    "import torch.nn as nn\n",
    "from torch.utils.data import Dataset, DataLoader, random_split\n",
    "from torch.nn.utils.rnn import pack_padded_sequence, pad_packed_sequence\n",
    "import matplotlib.pyplot as plt"
   ]
  },
  {
   "cell_type": "code",
   "execution_count": 72,
   "id": "d3867ec5",
   "metadata": {},
   "outputs": [],
   "source": [
    "import numpy as np"
   ]
  },
  {
   "cell_type": "code",
   "execution_count": 116,
   "id": "70dd70fa",
   "metadata": {},
   "outputs": [],
   "source": [
    "from sklearn.metrics import confusion_matrix, accuracy_score"
   ]
  },
  {
   "cell_type": "markdown",
   "id": "bc6c02ed",
   "metadata": {},
   "source": [
    "# Loading Data"
   ]
  },
  {
   "cell_type": "code",
   "execution_count": 73,
   "id": "b3e35cd6",
   "metadata": {},
   "outputs": [],
   "source": [
    "y = torch.load(\"Objects/labels.pt\")\n",
    "X = torch.load(\"Objects/padded_glove_embeddings.pt\")"
   ]
  },
  {
   "cell_type": "code",
   "execution_count": 74,
   "id": "2e48b2a4",
   "metadata": {},
   "outputs": [],
   "source": [
    "class Data(Dataset):\n",
    "    def __init__(self):\n",
    "        self.x = X\n",
    "        self.y = y\n",
    "        \n",
    "        self.n_samples = len(y)\n",
    "        \n",
    "    def __getitem__(self, idx):\n",
    "        return self.x[idx], self.y[idx]\n",
    "    \n",
    "    def __len__(self):\n",
    "        return self.n_samples"
   ]
  },
  {
   "cell_type": "code",
   "execution_count": 75,
   "id": "fdf0e2fc",
   "metadata": {},
   "outputs": [],
   "source": [
    "data = Data()"
   ]
  },
  {
   "cell_type": "code",
   "execution_count": 76,
   "id": "531ead05",
   "metadata": {},
   "outputs": [],
   "source": [
    "train_data, test_data = random_split(data, [4400, 446])"
   ]
  },
  {
   "cell_type": "code",
   "execution_count": 77,
   "id": "4d52e076",
   "metadata": {},
   "outputs": [],
   "source": [
    "batch_size = 5"
   ]
  },
  {
   "cell_type": "code",
   "execution_count": 78,
   "id": "2c63cac4",
   "metadata": {},
   "outputs": [],
   "source": [
    "train_loader = DataLoader(dataset=train_data, batch_size=batch_size, shuffle=True)\n",
    "test_loader = DataLoader(dataset=test_data, batch_size=batch_size, shuffle=True)"
   ]
  },
  {
   "cell_type": "markdown",
   "id": "3e3eabc8",
   "metadata": {},
   "source": [
    "# Helper Functions"
   ]
  },
  {
   "cell_type": "code",
   "execution_count": 149,
   "id": "1cee929a",
   "metadata": {
    "code_folding": []
   },
   "outputs": [],
   "source": [
    "# Gets the lengths of all of the sequences in a batch\n",
    "def get_lengths(features):\n",
    "    num_pads = 0\n",
    "    length_list = []\n",
    "    for i in features:\n",
    "        for j in range(88):\n",
    "            if torch.sum(i[j] == 0).item() == 300:\n",
    "                num_pads += 1\n",
    "        length = 88 - num_pads\n",
    "        length_list.append(length)\n",
    "        num_pads = 0\n",
    "    return length_list\n"
   ]
  },
  {
   "cell_type": "code",
   "execution_count": 154,
   "id": "c8cc604c",
   "metadata": {},
   "outputs": [],
   "source": [
    "# convert output matrix into categories\n",
    "# i.e [0.1, 3, -0.1] ----> 'Neutral'\n",
    "\n",
    "def get_category(output_matrix):\n",
    "  \n",
    "    outputs = []\n",
    "    \n",
    "    cat_map = {0: 'negative', 1: 'neutral', 2: 'positive'}\n",
    "    \n",
    "    for i in output_matrix:\n",
    "        val = torch.argmax(i).item()\n",
    "        outputs.append(cat_map[val])\n",
    "    \n",
    "    return outputs"
   ]
  },
  {
   "cell_type": "markdown",
   "id": "51b5b404",
   "metadata": {},
   "source": [
    "# Define Architechture"
   ]
  },
  {
   "cell_type": "code",
   "execution_count": 160,
   "id": "45cd870e",
   "metadata": {},
   "outputs": [],
   "source": [
    "# Typical RNN Model\n",
    "class RNN(nn.Module):\n",
    "    def __init__(self, input_size, hidden_size, num_layers, output_size):\n",
    "        super(RNN, self).__init__()\n",
    "        self.num_layers = num_layers\n",
    "        self.hidden_size = hidden_size\n",
    "        self.rnn = nn.RNN(input_size, hidden_size, num_layers, batch_first=True)\n",
    "        self.linear1 = nn.Linear(hidden_size, output_size)\n",
    "        \n",
    "    def forward(self, input_tensor):\n",
    "        h0 = torch.zeros(self.num_layers, 10, self.hidden_size)\n",
    "        \n",
    "        output, h_n = self.rnn(input_tensor, h0)\n",
    "        \n",
    "        output = pad_packed_sequence(output, batch_first=True)\n",
    "        \n",
    "        # length of sequences\n",
    "        indices = output[1] - 1 \n",
    "        \n",
    "        # update batch size (if its the last batch, the size will be different)\n",
    "        current_batch_size = output[0].size()[0]\n",
    "        \n",
    "        output = output[0][range(current_batch_size), indices, :]\n",
    "        print(output[0])\n",
    "        output = self.linear1(output.view(current_batch_size,64))\n",
    "        \n",
    "        return output"
   ]
  },
  {
   "cell_type": "code",
   "execution_count": 161,
   "id": "9f00cc3c",
   "metadata": {},
   "outputs": [],
   "source": [
    "class GRU(nn.Module):\n",
    "    def __init__(self, input_size, hidden_size, num_layers, output_size):\n",
    "        super(GRU, self).__init__()\n",
    "        self.num_layers = num_layers\n",
    "        self.hidden_size = hidden_size\n",
    "        self.rnn = nn.GRU(input_size, hidden_size, num_layers, batch_first=True)\n",
    "        self.linear1 = nn.Linear(hidden_size, output_size)\n",
    "        \n",
    "    def forward(self, input_tensor):\n",
    "        h0 = torch.zeros(self.num_layers, 10, self.hidden_size)\n",
    "        \n",
    "        output, h_n = self.rnn(input_tensor, h0)\n",
    "        \n",
    "        output = pad_packed_sequence(output, batch_first=True)\n",
    "        \n",
    "        # length of sequences\n",
    "        indices = output[1] - 1 \n",
    "        \n",
    "        # update batch size (if its the last batch, the size will be different)\n",
    "        current_batch_size = output[0].size()[0]\n",
    "        \n",
    "        output = output[0][range(current_batch_size), indices, :]\n",
    "        \n",
    "        output = self.linear1(output.view(current_batch_size,64))\n",
    "        \n",
    "        return output"
   ]
  },
  {
   "cell_type": "code",
   "execution_count": 162,
   "id": "ffbe250b",
   "metadata": {},
   "outputs": [],
   "source": [
    "class LSTM(nn.Module):\n",
    "    def __init__(self, input_size, hidden_size, num_layers, output_size):\n",
    "        super(GRU, self).__init__()\n",
    "        self.num_layers = num_layers\n",
    "        self.hidden_size = hidden_size\n",
    "        self.rnn = nn.LSTM(input_size, hidden_size, num_layers, batch_first=True)\n",
    "        self.linear1 = nn.Linear(hidden_size, output_size)\n",
    "        \n",
    "    def forward(self, input_tensor):\n",
    "        \n",
    "        h0 = torch.zeros(self.num_layers, 10, self.hidden_size)\n",
    "        c0 = torch.zeros(self.num_layers, 10, self.hidden_size)\n",
    "        output, (h_n, c_n) = self.rnn(input_tensor, (h0, c0))\n",
    "        \n",
    "        \n",
    "        output = pad_packed_sequence(output, batch_first=True)\n",
    "        \n",
    "        # length of sequences\n",
    "        indices = output[1] - 1 \n",
    "        \n",
    "        # update batch size (if its the last batch, the size will be different)\n",
    "        current_batch_size = output[0].size()[0]\n",
    "        \n",
    "        output = output[0][range(current_batch_size), indices, :]\n",
    "        \n",
    "        output = self.linear1(output.view(current_batch_size,64))\n",
    "        \n",
    "        return output"
   ]
  },
  {
   "cell_type": "markdown",
   "id": "d6af0486",
   "metadata": {},
   "source": [
    "## hyperparameters"
   ]
  },
  {
   "cell_type": "code",
   "execution_count": 163,
   "id": "abb80c48",
   "metadata": {},
   "outputs": [],
   "source": [
    "num_epochs = 10\n",
    "hidden_size = 64\n",
    "output_size = 3\n",
    "input_size = 300\n",
    "num_layers = 1"
   ]
  },
  {
   "cell_type": "markdown",
   "id": "b5601bec",
   "metadata": {},
   "source": [
    "## Example Forward pass"
   ]
  },
  {
   "cell_type": "code",
   "execution_count": 122,
   "id": "10de51e5",
   "metadata": {},
   "outputs": [],
   "source": [
    "example_rnn = RNN(input_size, hidden_size, num_layers, output_size)"
   ]
  },
  {
   "cell_type": "code",
   "execution_count": 126,
   "id": "1bde986c",
   "metadata": {},
   "outputs": [],
   "source": [
    "example_data = iter(train_loader).next()"
   ]
  },
  {
   "cell_type": "code",
   "execution_count": 134,
   "id": "ceaa2c26",
   "metadata": {},
   "outputs": [
    {
     "name": "stdout",
     "output_type": "stream",
     "text": [
      "Shape of Data: torch.Size([5, 88, 300])\n",
      "Labels: tensor([2, 2, 2, 1, 2])\n"
     ]
    }
   ],
   "source": [
    "print(f'Shape of Data: {example_data[0].size()}')\n",
    "print(f'Labels: {example_data[1]}')\n",
    "\n",
    "# example_data is a padded sequence of glove word embeddings\n",
    "\n",
    "# -> [0.1, -1, 2, -0.23, ... -0.12, 1.22, 0.01] 300 dimensional embeddings with 88 being the longest sequence\n",
    "# -> [-0.1, 0, 1, -0.21, ... -0.1, 0, 0.1, 0.1]\n",
    "# -> [0, 0, 0, 0, ... -0, 0, 0] # seequences shorter than 88 have a padding value of 0"
   ]
  },
  {
   "cell_type": "code",
   "execution_count": 142,
   "id": "ee08df7a",
   "metadata": {},
   "outputs": [],
   "source": [
    "# first we need to pack the sequence using pytorch's packed sequence\n",
    "\n",
    "# 1.) get feature lengths\n",
    "feature_lengths = get_lengths(features)\n",
    "                                    \n",
    "# 2.) pack the sequence; Parameters --> batch_first: ensures the batch size is first dimension, enforse_sorted: allows for unsorted sequence\n",
    "packed = pack_padded_sequence(example_data[0], feature_lengths, batch_first = True, enforce_sorted=False)"
   ]
  },
  {
   "cell_type": "markdown",
   "id": "5db37814",
   "metadata": {},
   "source": [
    "this creates a pytorch [PackedSequence](\"https://pytorch.org/docs/stable/generated/torch.nn.utils.rnn.PackedSequence.html#torch.nn.utils.rnn.PackedSequence\") object, and you can click the link to the documentation. All pytorch recurrent layers accept this data type as an input. This is very useful because we can pass sequences of variable length into our network and we can train on the orginal sequence instead of a padded sequence. Here we will pass a sample batch from our training data as a packed sequence through an RNN network. "
   ]
  },
  {
   "cell_type": "code",
   "execution_count": 148,
   "id": "9961031a",
   "metadata": {
    "collapsed": true
   },
   "outputs": [
    {
     "name": "stdout",
     "output_type": "stream",
     "text": [
      "tensor([[ 0.0249,  0.1733,  0.0568],\n",
      "        [-0.0740,  0.2515,  0.0628],\n",
      "        [ 0.0311,  0.1835,  0.0631],\n",
      "        [ 0.0215,  0.1860,  0.0455],\n",
      "        [ 0.0242,  0.1741,  0.0584]], grad_fn=<AddmmBackward>)\n"
     ]
    }
   ],
   "source": [
    "output = example_rnn(packed.float())\n",
    "print(output)"
   ]
  },
  {
   "cell_type": "code",
   "execution_count": 155,
   "id": "3f17fccb",
   "metadata": {
    "collapsed": true
   },
   "outputs": [
    {
     "data": {
      "text/plain": [
       "['neutral', 'neutral', 'neutral', 'neutral', 'neutral']"
      ]
     },
     "execution_count": 155,
     "metadata": {},
     "output_type": "execute_result"
    }
   ],
   "source": [
    "# get predictions as category\n",
    "get_category(output)"
   ]
  },
  {
   "cell_type": "code",
   "execution_count": 157,
   "id": "bf622469",
   "metadata": {
    "collapsed": true
   },
   "outputs": [
    {
     "data": {
      "text/plain": [
       "tensor([2, 2, 2, 1, 2])"
      ]
     },
     "execution_count": 157,
     "metadata": {},
     "output_type": "execute_result"
    }
   ],
   "source": [
    "# actual values\n",
    "example_data[1]"
   ]
  },
  {
   "cell_type": "markdown",
   "id": "fdf1d17c",
   "metadata": {},
   "source": [
    "# Training"
   ]
  },
  {
   "cell_type": "code",
   "execution_count": 158,
   "id": "2ffd3a81",
   "metadata": {},
   "outputs": [],
   "source": [
    "learning_rate = 0.001"
   ]
  },
  {
   "cell_type": "code",
   "execution_count": 165,
   "id": "36f4ce99",
   "metadata": {},
   "outputs": [],
   "source": [
    "rnn = GRU(input_size, hidden_size, num_layers, output_size)\n",
    "optimizer = torch.optim.Adam(rnn.parameters(), lr=learning_rate)\n",
    "criterion = nn.CrossEntropyLoss()"
   ]
  },
  {
   "cell_type": "code",
   "execution_count": 166,
   "id": "5e1013c4",
   "metadata": {},
   "outputs": [
    {
     "name": "stdout",
     "output_type": "stream",
     "text": [
      "Epoch: 0 --- Step:100 / 880.0 --- Loss: 0.9263509511947632\n",
      "Epoch: 0 --- Step:200 / 880.0 --- Loss: 0.8402549624443054\n",
      "Epoch: 0 --- Step:300 / 880.0 --- Loss: 0.9259245991706848\n",
      "Epoch: 0 --- Step:400 / 880.0 --- Loss: 0.8133220076560974\n",
      "Epoch: 0 --- Step:500 / 880.0 --- Loss: 0.9129823446273804\n",
      "Epoch: 0 --- Step:600 / 880.0 --- Loss: 0.7977561950683594\n",
      "Epoch: 0 --- Step:700 / 880.0 --- Loss: 0.7395559549331665\n",
      "Epoch: 0 --- Step:800 / 880.0 --- Loss: 0.8404589295387268\n",
      "Epoch: 1 --- Step:100 / 880.0 --- Loss: 0.6806210875511169\n",
      "Epoch: 1 --- Step:200 / 880.0 --- Loss: 0.7476555705070496\n",
      "Epoch: 1 --- Step:300 / 880.0 --- Loss: 0.6359633803367615\n",
      "Epoch: 1 --- Step:400 / 880.0 --- Loss: 0.7432424426078796\n",
      "Epoch: 1 --- Step:500 / 880.0 --- Loss: 0.7127344012260437\n",
      "Epoch: 1 --- Step:600 / 880.0 --- Loss: 0.6423919796943665\n",
      "Epoch: 1 --- Step:700 / 880.0 --- Loss: 0.6937677264213562\n",
      "Epoch: 1 --- Step:800 / 880.0 --- Loss: 0.6499698758125305\n",
      "Epoch: 2 --- Step:100 / 880.0 --- Loss: 0.46970489621162415\n",
      "Epoch: 2 --- Step:200 / 880.0 --- Loss: 0.5219691395759583\n",
      "Epoch: 2 --- Step:300 / 880.0 --- Loss: 0.5006968975067139\n",
      "Epoch: 2 --- Step:400 / 880.0 --- Loss: 0.4288738965988159\n",
      "Epoch: 2 --- Step:500 / 880.0 --- Loss: 0.6384665966033936\n",
      "Epoch: 2 --- Step:600 / 880.0 --- Loss: 0.5484310388565063\n",
      "Epoch: 2 --- Step:700 / 880.0 --- Loss: 0.4450419247150421\n",
      "Epoch: 2 --- Step:800 / 880.0 --- Loss: 0.4442957043647766\n",
      "Epoch: 3 --- Step:100 / 880.0 --- Loss: 0.42323440313339233\n",
      "Epoch: 3 --- Step:200 / 880.0 --- Loss: 0.3489772081375122\n",
      "Epoch: 3 --- Step:300 / 880.0 --- Loss: 0.49438637495040894\n",
      "Epoch: 3 --- Step:400 / 880.0 --- Loss: 0.4585798978805542\n",
      "Epoch: 3 --- Step:500 / 880.0 --- Loss: 0.3700109124183655\n",
      "Epoch: 3 --- Step:600 / 880.0 --- Loss: 0.4901484549045563\n",
      "Epoch: 3 --- Step:700 / 880.0 --- Loss: 0.3567410707473755\n",
      "Epoch: 3 --- Step:800 / 880.0 --- Loss: 0.41673117876052856\n",
      "Epoch: 4 --- Step:100 / 880.0 --- Loss: 0.28581953048706055\n",
      "Epoch: 4 --- Step:200 / 880.0 --- Loss: 0.34020358324050903\n",
      "Epoch: 4 --- Step:300 / 880.0 --- Loss: 0.3088078498840332\n",
      "Epoch: 4 --- Step:400 / 880.0 --- Loss: 0.34077465534210205\n",
      "Epoch: 4 --- Step:500 / 880.0 --- Loss: 0.32879874110221863\n",
      "Epoch: 4 --- Step:600 / 880.0 --- Loss: 0.3342430889606476\n",
      "Epoch: 4 --- Step:700 / 880.0 --- Loss: 0.31505635380744934\n",
      "Epoch: 4 --- Step:800 / 880.0 --- Loss: 0.41259902715682983\n",
      "Epoch: 5 --- Step:100 / 880.0 --- Loss: 0.289774090051651\n",
      "Epoch: 5 --- Step:200 / 880.0 --- Loss: 0.2998656630516052\n",
      "Epoch: 5 --- Step:300 / 880.0 --- Loss: 0.33035561442375183\n",
      "Epoch: 5 --- Step:400 / 880.0 --- Loss: 0.2508796751499176\n",
      "Epoch: 5 --- Step:500 / 880.0 --- Loss: 0.401993066072464\n",
      "Epoch: 5 --- Step:600 / 880.0 --- Loss: 0.29160699248313904\n",
      "Epoch: 5 --- Step:700 / 880.0 --- Loss: 0.2623356580734253\n",
      "Epoch: 5 --- Step:800 / 880.0 --- Loss: 0.3154344856739044\n",
      "Epoch: 6 --- Step:100 / 880.0 --- Loss: 0.20703628659248352\n",
      "Epoch: 6 --- Step:200 / 880.0 --- Loss: 0.23027841746807098\n",
      "Epoch: 6 --- Step:300 / 880.0 --- Loss: 0.22779104113578796\n",
      "Epoch: 6 --- Step:400 / 880.0 --- Loss: 0.2731029689311981\n",
      "Epoch: 6 --- Step:500 / 880.0 --- Loss: 0.22806105017662048\n",
      "Epoch: 6 --- Step:600 / 880.0 --- Loss: 0.18282023072242737\n",
      "Epoch: 6 --- Step:700 / 880.0 --- Loss: 0.291655957698822\n",
      "Epoch: 6 --- Step:800 / 880.0 --- Loss: 0.2706385850906372\n",
      "Epoch: 7 --- Step:100 / 880.0 --- Loss: 0.09899405390024185\n",
      "Epoch: 7 --- Step:200 / 880.0 --- Loss: 0.17324794828891754\n",
      "Epoch: 7 --- Step:300 / 880.0 --- Loss: 0.10768235474824905\n",
      "Epoch: 7 --- Step:400 / 880.0 --- Loss: 0.20215970277786255\n",
      "Epoch: 7 --- Step:500 / 880.0 --- Loss: 0.2540382146835327\n",
      "Epoch: 7 --- Step:600 / 880.0 --- Loss: 0.23585763573646545\n",
      "Epoch: 7 --- Step:700 / 880.0 --- Loss: 0.1660114824771881\n",
      "Epoch: 7 --- Step:800 / 880.0 --- Loss: 0.17073646187782288\n",
      "Epoch: 8 --- Step:100 / 880.0 --- Loss: 0.08766096085309982\n",
      "Epoch: 8 --- Step:200 / 880.0 --- Loss: 0.08059529960155487\n",
      "Epoch: 8 --- Step:300 / 880.0 --- Loss: 0.2603706419467926\n",
      "Epoch: 8 --- Step:400 / 880.0 --- Loss: 0.22463373839855194\n",
      "Epoch: 8 --- Step:500 / 880.0 --- Loss: 0.21367879211902618\n",
      "Epoch: 8 --- Step:600 / 880.0 --- Loss: 0.23332440853118896\n",
      "Epoch: 8 --- Step:700 / 880.0 --- Loss: 0.16288703680038452\n",
      "Epoch: 8 --- Step:800 / 880.0 --- Loss: 0.19844424724578857\n",
      "Epoch: 9 --- Step:100 / 880.0 --- Loss: 0.16194921731948853\n",
      "Epoch: 9 --- Step:200 / 880.0 --- Loss: 0.170019268989563\n",
      "Epoch: 9 --- Step:300 / 880.0 --- Loss: 0.08954908698797226\n",
      "Epoch: 9 --- Step:400 / 880.0 --- Loss: 0.06122072786092758\n",
      "Epoch: 9 --- Step:500 / 880.0 --- Loss: 0.16153419017791748\n",
      "Epoch: 9 --- Step:600 / 880.0 --- Loss: 0.12194755673408508\n",
      "Epoch: 9 --- Step:700 / 880.0 --- Loss: 0.13657042384147644\n",
      "Epoch: 9 --- Step:800 / 880.0 --- Loss: 0.1899712234735489\n"
     ]
    }
   ],
   "source": [
    "# Training loop\n",
    "n_total_steps = np.ceil(len(train_data) / batch_size)\n",
    "all_losses = []\n",
    "loss_step = 25\n",
    "current_loss = 0\n",
    "\n",
    "for epoch in range(num_epochs):\n",
    "    for i, (feature, label) in enumerate(train_loader):\n",
    "        \n",
    "        # pack seequence\n",
    "        sequence_lengths = get_lengths(features)\n",
    "        \n",
    "        packed = pack_padded_sequence(feature, sequence_lengths, batch_first=True, enforce_sorted=False)\n",
    "       \n",
    "        # forward pass\n",
    "        output = rnn(packed.float())\n",
    "        \n",
    "        #backward pass\n",
    "        loss = criterion(output, label)\n",
    "        loss.backward()\n",
    "        current_loss += loss\n",
    "        \n",
    "        #update weights\n",
    "        optimizer.step()\n",
    "        optimizer.zero_grad()\n",
    "        \n",
    "        # Store Average Losses for plotting\n",
    "        if (i+1) % loss_step == 0:\n",
    "            avg_loss = current_loss / loss_step\n",
    "            all_losses.append(avg_loss)\n",
    "            current_loss = 0\n",
    "\n",
    "        #log results\n",
    "        if (i+1) % 100 == 0:\n",
    "            print(f'Epoch: {epoch} --- Step:{i+1} / {n_total_steps} --- Loss: {all_losses[-1]}') \n",
    "            pass\n",
    "        "
   ]
  },
  {
   "cell_type": "code",
   "execution_count": 167,
   "id": "2244c0d1",
   "metadata": {},
   "outputs": [
    {
     "data": {
      "image/png": "[encoded data removed]",
      "text/plain": [
       "<Figure size 432x288 with 1 Axes>"
      ]
     },
     "metadata": {
      "needs_background": "light"
     },
     "output_type": "display_data"
    }
   ],
   "source": [
    "all_losses = [i.item() for i in all_losses]\n",
    "plt.plot(all_losses)\n",
    "plt.show()"
   ]
  },
  {
   "cell_type": "markdown",
   "id": "959d1caf",
   "metadata": {},
   "source": [
    "# Model Evaluation"
   ]
  },
  {
   "cell_type": "code",
   "execution_count": 168,
   "id": "92e29501",
   "metadata": {},
   "outputs": [],
   "source": [
    "with torch.no_grad():\n",
    "    predictions = []\n",
    "    labels = []\n",
    "    for (feature, label) in test_loader:\n",
    "        \n",
    "        #pack sequence\n",
    "        sequence_lengths = get_lengths(feature)\n",
    "        packed = pack_padded_sequence(feature, sequence_lengths, batch_first=True, enforce_sorted=False)\n",
    "        \n",
    "        # forward pass\n",
    "        output = rnn(packed.float())\n",
    "        \n",
    "        for i in range(output.size()[0]):\n",
    "            pred = torch.argmax(output[i]).item()\n",
    "            predictions.append(pred)\n",
    "            actual = label[i]\n",
    "            labels.append(actual)"
   ]
  },
  {
   "cell_type": "code",
   "execution_count": 169,
   "id": "b1d0b4c3",
   "metadata": {},
   "outputs": [],
   "source": [
    "total_acc = accuracy_score(predictions, labels)"
   ]
  },
  {
   "cell_type": "code",
   "execution_count": 170,
   "id": "b1f566a9",
   "metadata": {},
   "outputs": [
    {
     "data": {
      "text/plain": [
       "array([[ 38,  11,   5],\n",
       "       [ 15, 223,  55],\n",
       "       [  3,  17,  79]])"
      ]
     },
     "execution_count": 170,
     "metadata": {},
     "output_type": "execute_result"
    }
   ],
   "source": [
    "confusion_matrix(predictions, labels)"
   ]
  },
  {
   "cell_type": "markdown",
   "id": "300af4c1",
   "metadata": {},
   "source": [
    "## Logging Model"
   ]
  },
  {
   "cell_type": "code",
   "execution_count": 172,
   "id": "eeb9ab0e",
   "metadata": {},
   "outputs": [
    {
     "data": {
      "text/plain": [
       "0.7623318385650224"
      ]
     },
     "execution_count": 172,
     "metadata": {},
     "output_type": "execute_result"
    }
   ],
   "source": [
    "total_acc"
   ]
  },
  {
   "cell_type": "code",
   "execution_count": 171,
   "id": "788cb3b3",
   "metadata": {},
   "outputs": [],
   "source": [
    "model_log = []"
   ]
  },
  {
   "cell_type": "code",
   "execution_count": null,
   "id": "90163c65",
   "metadata": {},
   "outputs": [],
   "source": [
    "model_log.append"
   ]
  }
 ],
 "metadata": {
  "hide_input": false,
  "kernelspec": {
   "display_name": "Python 3 (ipykernel)",
   "language": "python",
   "name": "python3"
  },
  "language_info": {
   "codemirror_mode": {
    "name": "ipython",
    "version": 3
   },
   "file_extension": ".py",
   "mimetype": "text/x-python",
   "name": "python",
   "nbconvert_exporter": "python",
   "pygments_lexer": "ipython3",
   "version": "3.8.5"
  },
  "toc": {
   "base_numbering": 1,
   "nav_menu": {},
   "number_sections": true,
   "sideBar": true,
   "skip_h1_title": false,
   "title_cell": "Table of Contents",
   "title_sidebar": "Contents",
   "toc_cell": false,
   "toc_position": {},
   "toc_section_display": true,
   "toc_window_display": false
  }
 },
 "nbformat": 4,
 "nbformat_minor": 5
}
