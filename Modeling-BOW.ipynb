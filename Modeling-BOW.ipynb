{
 "cells": [
  {
   "cell_type": "code",
   "execution_count": 1,
   "id": "e0e85878",
   "metadata": {},
   "outputs": [],
   "source": [
    "from sklearn.pipeline import Pipeline\n",
    "from sklearn.feature_extraction.text import CountVectorizer, TfidfVectorizer\n",
    "from sklearn.metrics import accuracy_score, confusion_matrix\n",
    "from sklearn.linear_model import LogisticRegression\n",
    "\n",
    "import xgboost as xgb\n",
    "from sklearn.model_selection import train_test_split, GridSearchCV, RandomizedSearchCV\n",
    "import pandas as pd\n",
    "import numpy as np"
   ]
  },
  {
   "cell_type": "code",
   "execution_count": 2,
   "id": "0fe4b501",
   "metadata": {},
   "outputs": [],
   "source": [
    "from joblib import load, dump"
   ]
  },
  {
   "cell_type": "code",
   "execution_count": 3,
   "id": "e4e86ba2",
   "metadata": {},
   "outputs": [],
   "source": [
    "import warnings\n",
    "warnings.filterwarnings('ignore')"
   ]
  },
  {
   "cell_type": "markdown",
   "id": "8f0cabbc",
   "metadata": {},
   "source": [
    "# BOW model"
   ]
  },
  {
   "cell_type": "code",
   "execution_count": 4,
   "id": "33ff93b7",
   "metadata": {},
   "outputs": [],
   "source": [
    "model_log = []"
   ]
  },
  {
   "cell_type": "markdown",
   "id": "a45b2107",
   "metadata": {},
   "source": [
    "## Logistic Regression"
   ]
  },
  {
   "cell_type": "code",
   "execution_count": 5,
   "id": "c379be3a",
   "metadata": {},
   "outputs": [],
   "source": [
    "df = pd.read_csv(\"Data/FinancialNewsData.csv\", encoding=\"Windows-1252\", names=[\"label\", \"headline\"])"
   ]
  },
  {
   "cell_type": "code",
   "execution_count": 6,
   "id": "ac754659",
   "metadata": {},
   "outputs": [],
   "source": [
    "X = df.headline\n",
    "y = df.label"
   ]
  },
  {
   "cell_type": "code",
   "execution_count": 7,
   "id": "a8edd6db",
   "metadata": {},
   "outputs": [],
   "source": [
    "x_train, x_test, y_train, y_test = train_test_split(X, y, test_size=0.2, random_state=1)"
   ]
  },
  {
   "cell_type": "code",
   "execution_count": 8,
   "id": "592c5784",
   "metadata": {},
   "outputs": [
    {
     "name": "stdout",
     "output_type": "stream",
     "text": [
      "[[ 71  10   6]\n",
      " [ 40 516  97]\n",
      " [ 11  44 175]]\n",
      "0.7855670103092783\n"
     ]
    }
   ],
   "source": [
    "#tunable params\n",
    "# slover: ‘newton-cg’, ‘sag’, ‘saga’ and ‘lbfgs’\n",
    "# penalty: 'l1', 'l2', 'elasticnet'\n",
    "# l1_ratio: 0.5 (only for 'elasticnet')\n",
    "# C\n",
    "\n",
    "pipeline = Pipeline([\n",
    "    ('vectorizer', CountVectorizer()),\n",
    "    ('classifier', LogisticRegression(penalty='l2', solver='lbfgs', C=1, max_iter=500))\n",
    "])\n",
    "\n",
    "_ = pipeline.fit(x_train, y_train)\n",
    "y_pred = pipeline.predict(x_test)\n",
    "acc = accuracy_score(y_pred, y_test)\n",
    "print(confusion_matrix(y_pred, y_test))\n",
    "print(acc)"
   ]
  },
  {
   "cell_type": "markdown",
   "id": "4001aefd",
   "metadata": {},
   "source": [
    "## Model Log Entry"
   ]
  },
  {
   "cell_type": "code",
   "execution_count": 9,
   "id": "bc6d729c",
   "metadata": {},
   "outputs": [],
   "source": [
    "def log_model(model, acc, **params):\n",
    "    log_entry = {\n",
    "        \"model\": model,\n",
    "        \"accuracy\": acc,\n",
    "    }\n",
    "    for i in params:\n",
    "        log_entry[i] = params[i]\n",
    "    \n",
    "    model_log.append(log_entry)"
   ]
  },
  {
   "cell_type": "code",
   "execution_count": 10,
   "id": "cb762ada",
   "metadata": {},
   "outputs": [],
   "source": [
    "model_params = {\n",
    "    \"model_name\": \"logistic regression\", \n",
    "    \"penalty\": 'l2', \"C\": 1, \n",
    "    \"solver\": 'lbfgs'\n",
    "}"
   ]
  },
  {
   "cell_type": "code",
   "execution_count": 11,
   "id": "832d48d0",
   "metadata": {},
   "outputs": [],
   "source": [
    "log_model(pipeline, acc, **model_params)"
   ]
  },
  {
   "cell_type": "markdown",
   "id": "08e9e19d",
   "metadata": {},
   "source": [
    "## Hyperparameter Tuning for Logistic Regression"
   ]
  },
  {
   "cell_type": "code",
   "execution_count": 12,
   "id": "225a7424",
   "metadata": {},
   "outputs": [],
   "source": [
    "param_grid = {\n",
    "    'classifier__penalty': ['l2'],\n",
    "    'classifier__C': np.logspace(-5,5,20),\n",
    "    'classifier__solver': ['newton-cg', 'sag','saga','lbfgs']\n",
    "}"
   ]
  },
  {
   "cell_type": "code",
   "execution_count": 13,
   "id": "d377b0d2",
   "metadata": {},
   "outputs": [],
   "source": [
    "grid_search = GridSearchCV(pipeline, param_grid, cv=2)"
   ]
  },
  {
   "cell_type": "code",
   "execution_count": 14,
   "id": "6157f5bb",
   "metadata": {},
   "outputs": [],
   "source": [
    "classifier = grid_search.fit(X, y)"
   ]
  },
  {
   "cell_type": "code",
   "execution_count": 15,
   "id": "d711690c",
   "metadata": {},
   "outputs": [
    {
     "name": "stdout",
     "output_type": "stream",
     "text": [
      "Best Score: 0.6510524143623607\n",
      "Best Parameters: {'classifier__C': 0.5455594781168515, 'classifier__penalty': 'l2', 'classifier__solver': 'sag'}\n"
     ]
    }
   ],
   "source": [
    "print(f'Best Score: {classifier.best_score_}')\n",
    "print(f'Best Parameters: {classifier.best_params_}')"
   ]
  },
  {
   "cell_type": "code",
   "execution_count": 16,
   "id": "c8a60dce",
   "metadata": {},
   "outputs": [
    {
     "name": "stdout",
     "output_type": "stream",
     "text": [
      "[[ 71  10   6]\n",
      " [ 40 516  97]\n",
      " [ 11  44 175]]\n",
      "0.7855670103092783\n"
     ]
    }
   ],
   "source": [
    "logistic_tuned = Pipeline([\n",
    "    ('vectorizer', CountVectorizer()),\n",
    "    ('classifier', LogisticRegression(penalty='l2', solver='sag', C=0.55, max_iter=500))\n",
    "])\n",
    "_ = pipeline.fit(x_train, y_train)\n",
    "y_pred = pipeline.predict(x_test)\n",
    "acc = accuracy_score(y_pred, y_test)\n",
    "print(confusion_matrix(y_pred, y_test))\n",
    "print(acc)"
   ]
  },
  {
   "cell_type": "code",
   "execution_count": 17,
   "id": "6b8b8a23",
   "metadata": {},
   "outputs": [],
   "source": [
    "model_params = {\n",
    "    \"model_name\": \"logistic regression\", \n",
    "    \"penalty\": 'l2', \"C\": 0.55, \n",
    "    \"solver\": 'sag'\n",
    "}"
   ]
  },
  {
   "cell_type": "code",
   "execution_count": 18,
   "id": "db079a2e",
   "metadata": {},
   "outputs": [],
   "source": [
    "log_model(logistic_tuned, acc, **model_params)"
   ]
  },
  {
   "cell_type": "markdown",
   "id": "0d0b67de",
   "metadata": {},
   "source": [
    "## XGB model"
   ]
  },
  {
   "cell_type": "code",
   "execution_count": 19,
   "id": "41e7a64f",
   "metadata": {},
   "outputs": [],
   "source": [
    "xgb_pipeline = Pipeline([\n",
    "    ('vectorizer', CountVectorizer()),\n",
    "    ('classifier', xgb.XGBClassifier())\n",
    "])\n",
    "    "
   ]
  },
  {
   "cell_type": "code",
   "execution_count": 20,
   "id": "e09bad49",
   "metadata": {},
   "outputs": [
    {
     "name": "stdout",
     "output_type": "stream",
     "text": [
      "[11:56:17] WARNING: /opt/concourse/worker/volumes/live/7a2b9f41-3287-451b-6691-43e9a6c0910f/volume/xgboost-split_1619728204606/work/src/learner.cc:1061: Starting in XGBoost 1.3.0, the default evaluation metric used with the objective 'multi:softprob' was changed from 'merror' to 'mlogloss'. Explicitly set eval_metric if you'd like to restore the old behavior.\n"
     ]
    },
    {
     "data": {
      "text/plain": [
       "0.7845360824742268"
      ]
     },
     "execution_count": 20,
     "metadata": {},
     "output_type": "execute_result"
    }
   ],
   "source": [
    "_ = xgb_pipeline.fit(x_train, y_train)\n",
    "y_pred = xgb_pipeline.predict(x_test)\n",
    "acc = accuracy_score(y_pred, y_test)\n",
    "acc"
   ]
  },
  {
   "cell_type": "code",
   "execution_count": 21,
   "id": "36741ee5",
   "metadata": {},
   "outputs": [],
   "source": [
    "xgb_params = {\n",
    "    \"model_name\": \"XGBClassifier\",\n",
    "}"
   ]
  },
  {
   "cell_type": "code",
   "execution_count": 22,
   "id": "bded9693",
   "metadata": {},
   "outputs": [],
   "source": [
    "log_model(xgb_pipeline, acc, **xgb_params)"
   ]
  },
  {
   "cell_type": "markdown",
   "id": "542b8685",
   "metadata": {},
   "source": [
    " we can tune the XGB, but I don't see it being necessary. It achieves very similar results as Logistic regression. I just wanted to test out a tree based model to see if there were any major improvements"
   ]
  },
  {
   "cell_type": "markdown",
   "id": "aa6e6330",
   "metadata": {},
   "source": [
    "# Save Model Log"
   ]
  },
  {
   "cell_type": "code",
   "execution_count": 23,
   "id": "4f845f1b",
   "metadata": {},
   "outputs": [
    {
     "data": {
      "text/html": [
       "<div>\n",
       "<style scoped>\n",
       "    .dataframe tbody tr th:only-of-type {\n",
       "        vertical-align: middle;\n",
       "    }\n",
       "\n",
       "    .dataframe tbody tr th {\n",
       "        vertical-align: top;\n",
       "    }\n",
       "\n",
       "    .dataframe thead th {\n",
       "        text-align: right;\n",
       "    }\n",
       "</style>\n",
       "<table border=\"1\" class=\"dataframe\">\n",
       "  <thead>\n",
       "    <tr style=\"text-align: right;\">\n",
       "      <th></th>\n",
       "      <th>model</th>\n",
       "      <th>accuracy</th>\n",
       "      <th>model_name</th>\n",
       "      <th>penalty</th>\n",
       "      <th>C</th>\n",
       "      <th>solver</th>\n",
       "    </tr>\n",
       "  </thead>\n",
       "  <tbody>\n",
       "    <tr>\n",
       "      <th>0</th>\n",
       "      <td>(CountVectorizer(), LogisticRegression(C=1, ma...</td>\n",
       "      <td>0.785567</td>\n",
       "      <td>logistic regression</td>\n",
       "      <td>l2</td>\n",
       "      <td>1.00</td>\n",
       "      <td>lbfgs</td>\n",
       "    </tr>\n",
       "    <tr>\n",
       "      <th>1</th>\n",
       "      <td>(CountVectorizer(), LogisticRegression(C=0.55,...</td>\n",
       "      <td>0.785567</td>\n",
       "      <td>logistic regression</td>\n",
       "      <td>l2</td>\n",
       "      <td>0.55</td>\n",
       "      <td>sag</td>\n",
       "    </tr>\n",
       "    <tr>\n",
       "      <th>2</th>\n",
       "      <td>(CountVectorizer(), XGBClassifier(base_score=0...</td>\n",
       "      <td>0.784536</td>\n",
       "      <td>XGBClassifier</td>\n",
       "      <td>NaN</td>\n",
       "      <td>NaN</td>\n",
       "      <td>NaN</td>\n",
       "    </tr>\n",
       "  </tbody>\n",
       "</table>\n",
       "</div>"
      ],
      "text/plain": [
       "                                               model  accuracy  \\\n",
       "0  (CountVectorizer(), LogisticRegression(C=1, ma...  0.785567   \n",
       "1  (CountVectorizer(), LogisticRegression(C=0.55,...  0.785567   \n",
       "2  (CountVectorizer(), XGBClassifier(base_score=0...  0.784536   \n",
       "\n",
       "            model_name penalty     C solver  \n",
       "0  logistic regression      l2  1.00  lbfgs  \n",
       "1  logistic regression      l2  0.55    sag  \n",
       "2        XGBClassifier     NaN   NaN    NaN  "
      ]
     },
     "execution_count": 23,
     "metadata": {},
     "output_type": "execute_result"
    }
   ],
   "source": [
    "pd.DataFrame().from_dict(model_log)"
   ]
  },
  {
   "cell_type": "code",
   "execution_count": 24,
   "id": "1d4b0f3b",
   "metadata": {},
   "outputs": [
    {
     "data": {
      "text/plain": [
       "['Objects/Models/model_log.joblib']"
      ]
     },
     "execution_count": 24,
     "metadata": {},
     "output_type": "execute_result"
    }
   ],
   "source": [
    "dump(model_log, \"Objects/Models/model_log.joblib\")"
   ]
  }
 ],
 "metadata": {
  "hide_input": false,
  "kernelspec": {
   "display_name": "Python 3 (ipykernel)",
   "language": "python",
   "name": "python3"
  },
  "language_info": {
   "codemirror_mode": {
    "name": "ipython",
    "version": 3
   },
   "file_extension": ".py",
   "mimetype": "text/x-python",
   "name": "python",
   "nbconvert_exporter": "python",
   "pygments_lexer": "ipython3",
   "version": "3.8.5"
  },
  "toc": {
   "base_numbering": 1,
   "nav_menu": {},
   "number_sections": true,
   "sideBar": true,
   "skip_h1_title": false,
   "title_cell": "Table of Contents",
   "title_sidebar": "Contents",
   "toc_cell": false,
   "toc_position": {},
   "toc_section_display": true,
   "toc_window_display": false
  }
 },
 "nbformat": 4,
 "nbformat_minor": 5
}
