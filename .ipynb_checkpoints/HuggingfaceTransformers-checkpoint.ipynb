{
 "cells": [
  {
   "cell_type": "markdown",
   "id": "e176bc60",
   "metadata": {},
   "source": [
    "# Load and Imports"
   ]
  },
  {
   "cell_type": "code",
   "execution_count": 34,
   "id": "e570e852",
   "metadata": {},
   "outputs": [],
   "source": [
    "from sentence_transformers import SentenceTransformer\n",
    "import pandas as pd\n",
    "import numpy as np\n",
    "from joblib import dump"
   ]
  },
  {
   "cell_type": "code",
   "execution_count": 8,
   "id": "9112713c",
   "metadata": {},
   "outputs": [],
   "source": [
    "df = pd.read_csv(\"Data/FinancialNewsData.csv\", encoding='Windows-1252', names=[\"Label\", \"Headline\"])"
   ]
  },
  {
   "cell_type": "code",
   "execution_count": 22,
   "id": "5c06d021",
   "metadata": {},
   "outputs": [],
   "source": [
    "df.Headline = df.Headline.str.replace(\" , \", \", \")"
   ]
  },
  {
   "cell_type": "code",
   "execution_count": 24,
   "id": "a506aae8",
   "metadata": {},
   "outputs": [],
   "source": []
  },
  {
   "cell_type": "markdown",
   "id": "4da51bf1",
   "metadata": {},
   "source": [
    "# Word Embeddings"
   ]
  },
  {
   "cell_type": "markdown",
   "id": "ffba65fb",
   "metadata": {},
   "source": [
    "## Hugginface"
   ]
  },
  {
   "cell_type": "code",
   "execution_count": 28,
   "id": "e2009de8",
   "metadata": {},
   "outputs": [],
   "source": [
    "sentences = []\n",
    "def get_sentences(x):\n",
    "    sentences.append(x)\n",
    "_ = df.Headline.apply(lambda x: get_sentences(x))"
   ]
  },
  {
   "cell_type": "code",
   "execution_count": 29,
   "id": "da5caee0",
   "metadata": {},
   "outputs": [],
   "source": [
    "model = SentenceTransformer('sentence-transformers/paraphrase-xlm-r-multilingual-v1')"
   ]
  },
  {
   "cell_type": "code",
   "execution_count": 30,
   "id": "27345d63",
   "metadata": {},
   "outputs": [],
   "source": [
    "embeddings = model.encode(sentences)"
   ]
  },
  {
   "cell_type": "code",
   "execution_count": 33,
   "id": "e1c1640d",
   "metadata": {},
   "outputs": [
    {
     "data": {
      "text/plain": [
       "(4846, 768)"
      ]
     },
     "execution_count": 33,
     "metadata": {},
     "output_type": "execute_result"
    }
   ],
   "source": [
    "embeddings.shape"
   ]
  },
  {
   "cell_type": "markdown",
   "id": "8bb9acc5",
   "metadata": {},
   "source": [
    "# Save Embeddings"
   ]
  },
  {
   "cell_type": "code",
   "execution_count": 35,
   "id": "908c9a97",
   "metadata": {},
   "outputs": [
    {
     "data": {
      "text/plain": [
       "['Objects/embeddings.joblib']"
      ]
     },
     "execution_count": 35,
     "metadata": {},
     "output_type": "execute_result"
    }
   ],
   "source": [
    "dump(embeddings, \"Objects/embeddings.joblib\")"
   ]
  },
  {
   "cell_type": "code",
   "execution_count": null,
   "id": "5e736b53",
   "metadata": {},
   "outputs": [],
   "source": []
  }
 ],
 "metadata": {
  "hide_input": false,
  "kernelspec": {
   "display_name": "Python 3 (ipykernel)",
   "language": "python",
   "name": "python3"
  },
  "language_info": {
   "codemirror_mode": {
    "name": "ipython",
    "version": 3
   },
   "file_extension": ".py",
   "mimetype": "text/x-python",
   "name": "python",
   "nbconvert_exporter": "python",
   "pygments_lexer": "ipython3",
   "version": "3.8.5"
  },
  "toc": {
   "base_numbering": 1,
   "nav_menu": {},
   "number_sections": true,
   "sideBar": true,
   "skip_h1_title": false,
   "title_cell": "Table of Contents",
   "title_sidebar": "Contents",
   "toc_cell": false,
   "toc_position": {},
   "toc_section_display": true,
   "toc_window_display": false
  }
 },
 "nbformat": 4,
 "nbformat_minor": 5
}
