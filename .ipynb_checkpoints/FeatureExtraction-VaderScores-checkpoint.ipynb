{
 "cells": [
  {
   "cell_type": "code",
   "execution_count": 1,
   "id": "6f4266c5",
   "metadata": {},
   "outputs": [],
   "source": [
    "from nltk.sentiment.vader import SentimentIntensityAnalyzer"
   ]
  },
  {
   "cell_type": "code",
   "execution_count": 2,
   "id": "2f126e82",
   "metadata": {},
   "outputs": [],
   "source": [
    "import pandas as pd\n",
    "import numpy as np\n",
    "from joblib import dump, load"
   ]
  },
  {
   "cell_type": "code",
   "execution_count": 3,
   "id": "b2fe77d2",
   "metadata": {},
   "outputs": [],
   "source": [
    "df = pd.read_csv(\"data/FinancialNewsData.csv\", encoding=\"Windows-1252\", names=['Labels', 'Headlines', 'pos', 'neg', 'neu', 'compound'])"
   ]
  },
  {
   "cell_type": "code",
   "execution_count": 4,
   "id": "fddc5e9d",
   "metadata": {},
   "outputs": [
    {
     "data": {
      "text/html": [
       "<div>\n",
       "<style scoped>\n",
       "    .dataframe tbody tr th:only-of-type {\n",
       "        vertical-align: middle;\n",
       "    }\n",
       "\n",
       "    .dataframe tbody tr th {\n",
       "        vertical-align: top;\n",
       "    }\n",
       "\n",
       "    .dataframe thead th {\n",
       "        text-align: right;\n",
       "    }\n",
       "</style>\n",
       "<table border=\"1\" class=\"dataframe\">\n",
       "  <thead>\n",
       "    <tr style=\"text-align: right;\">\n",
       "      <th></th>\n",
       "      <th>Labels</th>\n",
       "      <th>Headlines</th>\n",
       "      <th>pos</th>\n",
       "      <th>neg</th>\n",
       "      <th>neu</th>\n",
       "      <th>compound</th>\n",
       "    </tr>\n",
       "  </thead>\n",
       "  <tbody>\n",
       "    <tr>\n",
       "      <th>0</th>\n",
       "      <td>neutral</td>\n",
       "      <td>According to Gran , the company has no plans t...</td>\n",
       "      <td>NaN</td>\n",
       "      <td>NaN</td>\n",
       "      <td>NaN</td>\n",
       "      <td>NaN</td>\n",
       "    </tr>\n",
       "    <tr>\n",
       "      <th>1</th>\n",
       "      <td>neutral</td>\n",
       "      <td>Technopolis plans to develop in stages an area...</td>\n",
       "      <td>NaN</td>\n",
       "      <td>NaN</td>\n",
       "      <td>NaN</td>\n",
       "      <td>NaN</td>\n",
       "    </tr>\n",
       "    <tr>\n",
       "      <th>2</th>\n",
       "      <td>negative</td>\n",
       "      <td>The international electronic industry company ...</td>\n",
       "      <td>NaN</td>\n",
       "      <td>NaN</td>\n",
       "      <td>NaN</td>\n",
       "      <td>NaN</td>\n",
       "    </tr>\n",
       "    <tr>\n",
       "      <th>3</th>\n",
       "      <td>positive</td>\n",
       "      <td>With the new production plant the company woul...</td>\n",
       "      <td>NaN</td>\n",
       "      <td>NaN</td>\n",
       "      <td>NaN</td>\n",
       "      <td>NaN</td>\n",
       "    </tr>\n",
       "    <tr>\n",
       "      <th>4</th>\n",
       "      <td>positive</td>\n",
       "      <td>According to the company 's updated strategy f...</td>\n",
       "      <td>NaN</td>\n",
       "      <td>NaN</td>\n",
       "      <td>NaN</td>\n",
       "      <td>NaN</td>\n",
       "    </tr>\n",
       "  </tbody>\n",
       "</table>\n",
       "</div>"
      ],
      "text/plain": [
       "     Labels                                          Headlines  pos  neg  neu  \\\n",
       "0   neutral  According to Gran , the company has no plans t...  NaN  NaN  NaN   \n",
       "1   neutral  Technopolis plans to develop in stages an area...  NaN  NaN  NaN   \n",
       "2  negative  The international electronic industry company ...  NaN  NaN  NaN   \n",
       "3  positive  With the new production plant the company woul...  NaN  NaN  NaN   \n",
       "4  positive  According to the company 's updated strategy f...  NaN  NaN  NaN   \n",
       "\n",
       "   compound  \n",
       "0       NaN  \n",
       "1       NaN  \n",
       "2       NaN  \n",
       "3       NaN  \n",
       "4       NaN  "
      ]
     },
     "execution_count": 4,
     "metadata": {},
     "output_type": "execute_result"
    }
   ],
   "source": [
    "df.head()"
   ]
  },
  {
   "cell_type": "code",
   "execution_count": 5,
   "id": "8a223f5a",
   "metadata": {},
   "outputs": [],
   "source": [
    "sentiment = SentimentIntensityAnalyzer()"
   ]
  },
  {
   "cell_type": "code",
   "execution_count": 6,
   "id": "f2c4d592",
   "metadata": {},
   "outputs": [],
   "source": [
    "def analyze_sentiment(index, x):\n",
    "    scores = sentiment.polarity_scores(x)\n",
    "    \n",
    "    scores_array = np.array([scores['pos'], scores['neg'], scores['neu'], scores['compound']])\n",
    "    \n",
    "    df.loc[index, ['pos', 'neg', 'neu', 'compound']] = scores_array"
   ]
  },
  {
   "cell_type": "code",
   "execution_count": 7,
   "id": "22e4f4c2",
   "metadata": {},
   "outputs": [],
   "source": [
    "_ = df.Headlines.apply(lambda x: analyze_sentiment(df[df.Headlines == x].index[0], x))"
   ]
  },
  {
   "cell_type": "code",
   "execution_count": 8,
   "id": "480ac2c4",
   "metadata": {},
   "outputs": [],
   "source": [
    "label_group = df.groupby(\"Labels\")"
   ]
  },
  {
   "cell_type": "code",
   "execution_count": 9,
   "id": "7975a3cb",
   "metadata": {},
   "outputs": [
    {
     "data": {
      "text/html": [
       "<div>\n",
       "<style scoped>\n",
       "    .dataframe tbody tr th:only-of-type {\n",
       "        vertical-align: middle;\n",
       "    }\n",
       "\n",
       "    .dataframe tbody tr th {\n",
       "        vertical-align: top;\n",
       "    }\n",
       "\n",
       "    .dataframe thead th {\n",
       "        text-align: right;\n",
       "    }\n",
       "</style>\n",
       "<table border=\"1\" class=\"dataframe\">\n",
       "  <thead>\n",
       "    <tr style=\"text-align: right;\">\n",
       "      <th></th>\n",
       "      <th>pos</th>\n",
       "      <th>neg</th>\n",
       "      <th>neu</th>\n",
       "      <th>compound</th>\n",
       "    </tr>\n",
       "    <tr>\n",
       "      <th>Labels</th>\n",
       "      <th></th>\n",
       "      <th></th>\n",
       "      <th></th>\n",
       "      <th></th>\n",
       "    </tr>\n",
       "  </thead>\n",
       "  <tbody>\n",
       "    <tr>\n",
       "      <th>negative</th>\n",
       "      <td>0.062959</td>\n",
       "      <td>0.061205</td>\n",
       "      <td>0.875841</td>\n",
       "      <td>0.028814</td>\n",
       "    </tr>\n",
       "    <tr>\n",
       "      <th>neutral</th>\n",
       "      <td>0.069501</td>\n",
       "      <td>0.013034</td>\n",
       "      <td>0.917466</td>\n",
       "      <td>0.150642</td>\n",
       "    </tr>\n",
       "    <tr>\n",
       "      <th>positive</th>\n",
       "      <td>0.128504</td>\n",
       "      <td>0.010993</td>\n",
       "      <td>0.860510</td>\n",
       "      <td>0.325071</td>\n",
       "    </tr>\n",
       "  </tbody>\n",
       "</table>\n",
       "</div>"
      ],
      "text/plain": [
       "               pos       neg       neu  compound\n",
       "Labels                                          \n",
       "negative  0.062959  0.061205  0.875841  0.028814\n",
       "neutral   0.069501  0.013034  0.917466  0.150642\n",
       "positive  0.128504  0.010993  0.860510  0.325071"
      ]
     },
     "execution_count": 9,
     "metadata": {},
     "output_type": "execute_result"
    }
   ],
   "source": [
    "label_group.agg('mean')"
   ]
  },
  {
   "cell_type": "markdown",
   "id": "6b2da252",
   "metadata": {},
   "source": [
    "# Save Polarity Scores"
   ]
  },
  {
   "cell_type": "code",
   "execution_count": 10,
   "id": "46abe24e",
   "metadata": {},
   "outputs": [],
   "source": [
    "sentiment_vectors = df[['pos', 'neg', 'neu', 'compound']]"
   ]
  },
  {
   "cell_type": "code",
   "execution_count": 11,
   "id": "360bdbd7",
   "metadata": {},
   "outputs": [
    {
     "data": {
      "text/plain": [
       "['Objects/sentiments.joblib']"
      ]
     },
     "execution_count": 11,
     "metadata": {},
     "output_type": "execute_result"
    }
   ],
   "source": [
    "dump(sentiment_vectors, \"Objects/sentiments.joblib\")"
   ]
  },
  {
   "cell_type": "code",
   "execution_count": null,
   "id": "c6b49004",
   "metadata": {},
   "outputs": [],
   "source": []
  }
 ],
 "metadata": {
  "hide_input": false,
  "kernelspec": {
   "display_name": "Python 3 (ipykernel)",
   "language": "python",
   "name": "python3"
  },
  "language_info": {
   "codemirror_mode": {
    "name": "ipython",
    "version": 3
   },
   "file_extension": ".py",
   "mimetype": "text/x-python",
   "name": "python",
   "nbconvert_exporter": "python",
   "pygments_lexer": "ipython3",
   "version": "3.8.5"
  },
  "toc": {
   "base_numbering": 1,
   "nav_menu": {},
   "number_sections": true,
   "sideBar": true,
   "skip_h1_title": false,
   "title_cell": "Table of Contents",
   "title_sidebar": "Contents",
   "toc_cell": false,
   "toc_position": {},
   "toc_section_display": true,
   "toc_window_display": false
  }
 },
 "nbformat": 4,
 "nbformat_minor": 5
}
