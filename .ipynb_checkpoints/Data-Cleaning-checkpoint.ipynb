{
 "cells": [
  {
   "cell_type": "code",
   "execution_count": 20,
   "id": "23f54399",
   "metadata": {},
   "outputs": [],
   "source": [
    "import gensim.downloader as api"
   ]
  },
  {
   "cell_type": "code",
   "execution_count": 21,
   "id": "94825456",
   "metadata": {},
   "outputs": [],
   "source": [
    "import numpy as np\n",
    "import pandas as pd\n",
    "import torch\n",
    "from torch.nn.utils.rnn import pad_sequence\n",
    "import spacy\n",
    "from gensim.models import KeyedVectors"
   ]
  },
  {
   "cell_type": "code",
   "execution_count": 22,
   "id": "22e23b59",
   "metadata": {},
   "outputs": [],
   "source": [
    "entity_vector = np.ones((1,300))"
   ]
  },
  {
   "cell_type": "code",
   "execution_count": 23,
   "id": "2cfce881",
   "metadata": {},
   "outputs": [],
   "source": [
    "missing_vector = np.ones((1,300)) * -1"
   ]
  },
  {
   "cell_type": "code",
   "execution_count": 25,
   "id": "249f6a90",
   "metadata": {},
   "outputs": [],
   "source": [
    "word2vec = KeyedVectors.load(\"objects/glove-300.wordvectors\", mmap='r')"
   ]
  },
  {
   "cell_type": "code",
   "execution_count": 26,
   "id": "56a1e0ea",
   "metadata": {},
   "outputs": [],
   "source": [
    "df = pd.read_csv(\"Data/FinancialNewsData.csv\", encoding=\"Windows-1252\", names=[\"label\", \"headline\"])"
   ]
  },
  {
   "cell_type": "code",
   "execution_count": 27,
   "id": "000437ae",
   "metadata": {},
   "outputs": [],
   "source": [
    "nlp = spacy.load('en_core_web_md')"
   ]
  },
  {
   "cell_type": "code",
   "execution_count": 28,
   "id": "bf68932a",
   "metadata": {},
   "outputs": [],
   "source": [
    "df.headline = df.headline.apply(lambda x: nlp(x))"
   ]
  },
  {
   "cell_type": "code",
   "execution_count": 29,
   "id": "2455c1ff",
   "metadata": {},
   "outputs": [],
   "source": [
    "df.label = df.label.map({'negative': 0, 'neutral': 1, 'positive': 2})"
   ]
  },
  {
   "cell_type": "markdown",
   "id": "b854cc8d",
   "metadata": {},
   "source": [
    "# Creating vector sequences"
   ]
  },
  {
   "cell_type": "code",
   "execution_count": 30,
   "id": "8c249bb5",
   "metadata": {},
   "outputs": [],
   "source": [
    "all_sequences = np.array([])\n",
    "def vectorize(doc):\n",
    "    word_sequence = np.array([])\n",
    "    \n",
    "    for v, i in enumerate(doc):\n",
    "        \n",
    "        try:\n",
    "            vec = np.array(word2vec[i.lower_]).reshape(-1, 300)\n",
    "        except:\n",
    "            if i.ent_iob_ == \"\":\n",
    "                vec = missing_vector\n",
    "            else:\n",
    "                vec = entity_vector\n",
    "        if v == 0:\n",
    "            word_sequence = np.append(word_sequence, vec).reshape(-1, 300)\n",
    "        else:\n",
    "            word_sequence = np.append(word_sequence, vec, axis=0)\n",
    "    \n",
    "    \n",
    "    return torch.from_numpy(word_sequence)"
   ]
  },
  {
   "cell_type": "code",
   "execution_count": 31,
   "id": "630bd350",
   "metadata": {},
   "outputs": [],
   "source": [
    "sequences = df.headline.apply(lambda x: vectorize(x))"
   ]
  },
  {
   "cell_type": "code",
   "execution_count": 32,
   "id": "b8dee481",
   "metadata": {},
   "outputs": [],
   "source": [
    "torch.save(sequences, \"Objects/glove_embeddings.pt\")"
   ]
  },
  {
   "cell_type": "code",
   "execution_count": 33,
   "id": "1efbd72e",
   "metadata": {},
   "outputs": [],
   "source": [
    "padded_sequences = pad_sequence(sequences.to_numpy(), batch_first=True)"
   ]
  },
  {
   "cell_type": "code",
   "execution_count": 34,
   "id": "12fdd44e",
   "metadata": {},
   "outputs": [],
   "source": [
    "torch.save(padded_sequences, \"Objects/padded_glove_embeddings.pt\")"
   ]
  },
  {
   "cell_type": "code",
   "execution_count": 35,
   "id": "a8606d59",
   "metadata": {},
   "outputs": [],
   "source": [
    "labels = torch.tensor(df.label)"
   ]
  },
  {
   "cell_type": "code",
   "execution_count": 36,
   "id": "57a71542",
   "metadata": {},
   "outputs": [],
   "source": [
    "torch.save(labels, \"Objects/labels.pt\")"
   ]
  }
 ],
 "metadata": {
  "hide_input": false,
  "kernelspec": {
   "display_name": "Python 3 (ipykernel)",
   "language": "python",
   "name": "python3"
  },
  "language_info": {
   "codemirror_mode": {
    "name": "ipython",
    "version": 3
   },
   "file_extension": ".py",
   "mimetype": "text/x-python",
   "name": "python",
   "nbconvert_exporter": "python",
   "pygments_lexer": "ipython3",
   "version": "3.8.5"
  },
  "toc": {
   "base_numbering": 1,
   "nav_menu": {},
   "number_sections": true,
   "sideBar": true,
   "skip_h1_title": false,
   "title_cell": "Table of Contents",
   "title_sidebar": "Contents",
   "toc_cell": false,
   "toc_position": {},
   "toc_section_display": true,
   "toc_window_display": false
  }
 },
 "nbformat": 4,
 "nbformat_minor": 5
}
