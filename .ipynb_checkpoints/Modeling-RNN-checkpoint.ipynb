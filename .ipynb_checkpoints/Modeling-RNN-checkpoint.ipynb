{
 "cells": [
  {
   "cell_type": "code",
   "execution_count": 1,
   "id": "f5ded39d",
   "metadata": {},
   "outputs": [],
   "source": [
    "import torch\n",
    "import torch.nn as nn\n",
    "from torch.utils.data import Dataset, DataLoader, random_split\n",
    "from torch.nn.utils.rnn import pack_padded_sequence, pad_packed_sequence, pad_sequence\n",
    "import matplotlib.pyplot as plt"
   ]
  },
  {
   "cell_type": "code",
   "execution_count": 92,
   "id": "d3867ec5",
   "metadata": {},
   "outputs": [],
   "source": [
    "import numpy as np\n",
    "from sklearn.metrics import confusion_matrix, accuracy_score, roc_auc_score\n",
    "from joblib import load, dump\n",
    "import seaborn as sns\n",
    "import matplotlib"
   ]
  },
  {
   "cell_type": "code",
   "execution_count": 73,
   "id": "5e326eda",
   "metadata": {},
   "outputs": [],
   "source": [
    "import pandas as pd\n",
    "import copy"
   ]
  },
  {
   "cell_type": "code",
   "execution_count": 4,
   "id": "d9b0a373",
   "metadata": {},
   "outputs": [
    {
     "data": {
      "text/plain": [
       "'1.7.0'"
      ]
     },
     "execution_count": 4,
     "metadata": {},
     "output_type": "execute_result"
    }
   ],
   "source": [
    "torch.__version__"
   ]
  },
  {
   "cell_type": "markdown",
   "id": "bc6c02ed",
   "metadata": {},
   "source": [
    "# Loading Data"
   ]
  },
  {
   "cell_type": "code",
   "execution_count": 5,
   "id": "b3e35cd6",
   "metadata": {},
   "outputs": [],
   "source": [
    "y = torch.load(\"Objects/Data/labels.pt\")\n",
    "X = torch.load(\"Objects/Data/glove_embeddings.pt\")"
   ]
  },
  {
   "cell_type": "code",
   "execution_count": 6,
   "id": "bae15219",
   "metadata": {},
   "outputs": [],
   "source": [
    "X = pad_sequence(X, batch_first=True)"
   ]
  },
  {
   "cell_type": "code",
   "execution_count": 107,
   "id": "788cb3b3",
   "metadata": {},
   "outputs": [],
   "source": [
    "model_log = torch.load(\"Objects/Models/model_log.pt\")"
   ]
  },
  {
   "cell_type": "code",
   "execution_count": 8,
   "id": "2e48b2a4",
   "metadata": {},
   "outputs": [],
   "source": [
    "class Data(Dataset):\n",
    "    def __init__(self):\n",
    "        self.x = X\n",
    "        self.y = y\n",
    "        \n",
    "        self.n_samples = len(y)\n",
    "        \n",
    "    def __getitem__(self, idx):\n",
    "        return self.x[idx], self.y[idx]\n",
    "    \n",
    "    def __len__(self):\n",
    "        return self.n_samples"
   ]
  },
  {
   "cell_type": "code",
   "execution_count": 9,
   "id": "fdf0e2fc",
   "metadata": {},
   "outputs": [],
   "source": [
    "data = Data()"
   ]
  },
  {
   "cell_type": "code",
   "execution_count": 10,
   "id": "531ead05",
   "metadata": {},
   "outputs": [],
   "source": [
    "train_data, test_data = random_split(data, [4000, 846])"
   ]
  },
  {
   "cell_type": "code",
   "execution_count": null,
   "id": "1cd12c64",
   "metadata": {},
   "outputs": [],
   "source": []
  },
  {
   "cell_type": "code",
   "execution_count": 11,
   "id": "4d52e076",
   "metadata": {},
   "outputs": [],
   "source": [
    "batch_size = 16"
   ]
  },
  {
   "cell_type": "code",
   "execution_count": 12,
   "id": "2c63cac4",
   "metadata": {},
   "outputs": [],
   "source": [
    "train_loader = DataLoader(dataset=train_data, batch_size=batch_size, shuffle=True)\n",
    "test_loader = DataLoader(dataset=test_data, batch_size=batch_size, shuffle=True)"
   ]
  },
  {
   "cell_type": "markdown",
   "id": "3e3eabc8",
   "metadata": {},
   "source": [
    "# Helper Functions"
   ]
  },
  {
   "cell_type": "code",
   "execution_count": 13,
   "id": "1cee929a",
   "metadata": {
    "code_folding": []
   },
   "outputs": [],
   "source": [
    "# Gets the lengths of all of the sequences in a batch\n",
    "def get_lengths(features):\n",
    "    num_pads = 0\n",
    "    length_list = []\n",
    "    for i in features:\n",
    "        for j in range(88):\n",
    "            if torch.sum(i[j] == 0).item() == 300:\n",
    "                num_pads += 1\n",
    "        length = 88 - num_pads\n",
    "        length_list.append(length)\n",
    "        num_pads = 0\n",
    "    return length_list\n"
   ]
  },
  {
   "cell_type": "code",
   "execution_count": 14,
   "id": "c8cc604c",
   "metadata": {},
   "outputs": [],
   "source": [
    "# convert output matrix into categories\n",
    "# i.e [0.1, 3, -0.1] ----> 'Neutral'\n",
    "\n",
    "def get_category(output_matrix):\n",
    "  \n",
    "    outputs = []\n",
    "    \n",
    "    cat_map = {0: 'negative', 1: 'neutral', 2: 'positive'}\n",
    "    \n",
    "    for i in output_matrix:\n",
    "        val = torch.argmax(i).item()\n",
    "        outputs.append(cat_map[val])\n",
    "    \n",
    "    return outputs"
   ]
  },
  {
   "cell_type": "markdown",
   "id": "51b5b404",
   "metadata": {},
   "source": [
    "# Define Architechture"
   ]
  },
  {
   "cell_type": "code",
   "execution_count": 15,
   "id": "45cd870e",
   "metadata": {},
   "outputs": [],
   "source": [
    "# Typical RNN Model\n",
    "class RNN(nn.Module):\n",
    "    def __init__(self, input_size, hidden_size, num_layers, output_size):\n",
    "        super(RNN, self).__init__()\n",
    "        self.num_layers = num_layers\n",
    "        self.hidden_size = hidden_size\n",
    "        self.rnn = nn.RNN(input_size, hidden_size, num_layers, batch_first=True)\n",
    "        self.linear1 = nn.Linear(hidden_size, output_size)\n",
    "        \n",
    "    def forward(self, input_tensor):\n",
    "        h0 = torch.zeros(self.num_layers, 2 * batch_size, self.hidden_size)\n",
    "        \n",
    "        output, h_n = self.rnn(input_tensor, h0)\n",
    "        \n",
    "        output = pad_packed_sequence(output, batch_first=True)\n",
    "        \n",
    "        # length of sequences\n",
    "        indices = output[1] - 1 \n",
    "        \n",
    "        # update batch size (if its the last batch, the size will be different)\n",
    "        current_batch_size = output[0].size()[0]\n",
    "        \n",
    "        output = output[0][range(current_batch_size), indices, :]\n",
    "        \n",
    "        output = self.linear1(output)\n",
    "        \n",
    "        return output"
   ]
  },
  {
   "cell_type": "code",
   "execution_count": 16,
   "id": "9f00cc3c",
   "metadata": {},
   "outputs": [],
   "source": [
    "class GRU(nn.Module):\n",
    "    def __init__(self, input_size, hidden_size, num_layers, output_size):\n",
    "        super(GRU, self).__init__()\n",
    "        self.num_layers = num_layers\n",
    "        self.hidden_size = hidden_size\n",
    "        self.rnn = nn.GRU(input_size, hidden_size, num_layers, batch_first=True)\n",
    "        self.linear1 = nn.Linear(hidden_size, output_size)\n",
    "        \n",
    "    def forward(self, input_tensor):\n",
    "        h0 = torch.zeros(self.num_layers, 2 * batch_size, self.hidden_size)\n",
    "        \n",
    "        output, h_n = self.rnn(input_tensor, h0)\n",
    "        \n",
    "        output = pad_packed_sequence(output, batch_first=True)\n",
    "        \n",
    "        # length of sequences\n",
    "        indices = output[1] - 1 \n",
    "        \n",
    "        # update batch size (if its the last batch, the size will be different)\n",
    "        current_batch_size = output[0].size()[0]\n",
    "        \n",
    "        output = output[0][range(current_batch_size), indices, :]\n",
    "        \n",
    "        output = self.linear1(output.view(current_batch_size,64))\n",
    "        \n",
    "        return output"
   ]
  },
  {
   "cell_type": "code",
   "execution_count": 17,
   "id": "ffbe250b",
   "metadata": {},
   "outputs": [],
   "source": [
    "class LSTM(nn.Module):\n",
    "    def __init__(self, input_size, hidden_size, num_layers, output_size):\n",
    "        super(LSTM, self).__init__()\n",
    "        self.num_layers = num_layers\n",
    "        self.hidden_size = hidden_size\n",
    "        self.rnn = nn.LSTM(input_size, hidden_size, num_layers, batch_first=True)\n",
    "        self.linear1 = nn.Linear(hidden_size, output_size)\n",
    "        \n",
    "    def forward(self, input_tensor):\n",
    "        \n",
    "        h0 = torch.zeros(self.num_layers, 2 * batch_size, self.hidden_size)\n",
    "        c0 = torch.zeros(self.num_layers, 2 * batch_size, self.hidden_size)\n",
    "        output, (h_n, c_n) = self.rnn(input_tensor, (h0, c0))\n",
    "        \n",
    "        \n",
    "        output = pad_packed_sequence(output, batch_first=True)\n",
    "        \n",
    "        # length of sequences\n",
    "        indices = output[1] - 1 \n",
    "        \n",
    "        # update batch size (if its the last batch, the size will be different)\n",
    "        current_batch_size = output[0].size()[0]\n",
    "        \n",
    "        output = output[0][range(current_batch_size), indices, :]\n",
    "        \n",
    "        output = self.linear1(output.view(current_batch_size,64))\n",
    "        \n",
    "        return output"
   ]
  },
  {
   "cell_type": "markdown",
   "id": "d6af0486",
   "metadata": {},
   "source": [
    "## hyperparameters"
   ]
  },
  {
   "cell_type": "code",
   "execution_count": 18,
   "id": "abb80c48",
   "metadata": {},
   "outputs": [],
   "source": [
    "num_epochs = 10\n",
    "hidden_size = 64\n",
    "output_size = 3\n",
    "input_size = 300\n",
    "num_layers = 1"
   ]
  },
  {
   "cell_type": "markdown",
   "id": "b5601bec",
   "metadata": {},
   "source": [
    "## Example Forward pass"
   ]
  },
  {
   "cell_type": "code",
   "execution_count": 19,
   "id": "10de51e5",
   "metadata": {},
   "outputs": [],
   "source": [
    "example_rnn = RNN(input_size, hidden_size, num_layers, output_size)"
   ]
  },
  {
   "cell_type": "code",
   "execution_count": 20,
   "id": "1bde986c",
   "metadata": {},
   "outputs": [],
   "source": [
    "example_data = iter(train_loader).next()"
   ]
  },
  {
   "cell_type": "code",
   "execution_count": 21,
   "id": "ceaa2c26",
   "metadata": {},
   "outputs": [
    {
     "name": "stdout",
     "output_type": "stream",
     "text": [
      "Shape of Data: torch.Size([16, 88, 300])\n",
      "Labels: tensor([1, 1, 2, 0, 1, 2, 0, 0, 1, 2, 1, 0, 2, 1, 1, 1])\n"
     ]
    }
   ],
   "source": [
    "print(f'Shape of Data: {example_data[0].size()}')\n",
    "print(f'Labels: {example_data[1]}')\n",
    "\n",
    "# example_data is a padded sequence of glove word embeddings\n",
    "\n",
    "# -> [0.1, -1, 2, -0.23, ... -0.12, 1.22, 0.01] 300 dimensional embeddings with 88 being the longest sequence\n",
    "# -> [-0.1, 0, 1, -0.21, ... -0.1, 0, 0.1, 0.1]\n",
    "# -> [0, 0, 0, 0, ... -0, 0, 0] # seequences shorter than 88 have a padding value of 0"
   ]
  },
  {
   "cell_type": "code",
   "execution_count": 22,
   "id": "ee08df7a",
   "metadata": {},
   "outputs": [],
   "source": [
    "# first we need to pack the sequence using pytorch's packed sequence\n",
    "\n",
    "# 1.) get feature lengths\n",
    "feature_lengths = get_lengths(example_data[0])\n",
    "                                    \n",
    "# 2.) pack the sequence; Parameters --> batch_first: ensures the batch size is first dimension, enforse_sorted: allows for unsorted sequence\n",
    "packed = pack_padded_sequence(example_data[0], feature_lengths, batch_first = True, enforce_sorted=False)"
   ]
  },
  {
   "cell_type": "markdown",
   "id": "5db37814",
   "metadata": {},
   "source": [
    "this creates a pytorch [PackedSequence](\"https://pytorch.org/docs/stable/generated/torch.nn.utils.rnn.PackedSequence.html#torch.nn.utils.rnn.PackedSequence\") object, and you can click the link to the documentation. All pytorch recurrent layers accept this data type as an input. This is very useful because we can pass sequences of variable length into our network and we can train on the orginal sequence instead of a padded sequence. Here we will pass a sample batch from our training data as a packed sequence through an RNN network. "
   ]
  },
  {
   "cell_type": "code",
   "execution_count": 23,
   "id": "9961031a",
   "metadata": {},
   "outputs": [],
   "source": [
    "output = example_rnn(packed.float())"
   ]
  },
  {
   "cell_type": "code",
   "execution_count": 24,
   "id": "3f17fccb",
   "metadata": {},
   "outputs": [
    {
     "data": {
      "text/plain": [
       "['neutral',\n",
       " 'neutral',\n",
       " 'negative',\n",
       " 'positive',\n",
       " 'negative',\n",
       " 'neutral',\n",
       " 'positive',\n",
       " 'positive',\n",
       " 'neutral',\n",
       " 'neutral',\n",
       " 'neutral',\n",
       " 'positive',\n",
       " 'neutral',\n",
       " 'positive',\n",
       " 'negative',\n",
       " 'neutral']"
      ]
     },
     "execution_count": 24,
     "metadata": {},
     "output_type": "execute_result"
    }
   ],
   "source": [
    "# get predictions as category\n",
    "get_category(output)"
   ]
  },
  {
   "cell_type": "code",
   "execution_count": 25,
   "id": "bf622469",
   "metadata": {},
   "outputs": [
    {
     "data": {
      "text/plain": [
       "tensor([1, 1, 2, 0, 1, 2, 0, 0, 1, 2, 1, 0, 2, 1, 1, 1])"
      ]
     },
     "execution_count": 25,
     "metadata": {},
     "output_type": "execute_result"
    }
   ],
   "source": [
    "# actual values\n",
    "example_data[1]"
   ]
  },
  {
   "cell_type": "markdown",
   "id": "fdf1d17c",
   "metadata": {},
   "source": [
    "# Training"
   ]
  },
  {
   "cell_type": "code",
   "execution_count": 26,
   "id": "2ffd3a81",
   "metadata": {},
   "outputs": [],
   "source": [
    "learning_rate = 0.001"
   ]
  },
  {
   "cell_type": "code",
   "execution_count": 74,
   "id": "36f4ce99",
   "metadata": {},
   "outputs": [],
   "source": [
    "rnn = GRU(input_size, hidden_size, num_layers, output_size)\n",
    "optimizer = torch.optim.Adam(rnn.parameters(), lr=learning_rate)\n",
    "criterion = nn.CrossEntropyLoss()"
   ]
  },
  {
   "cell_type": "code",
   "execution_count": 75,
   "id": "36e1881c",
   "metadata": {
    "collapsed": true
   },
   "outputs": [
    {
     "name": "stdout",
     "output_type": "stream",
     "text": [
      "Epoch: 1 --- Step:100 / 250.0 --- Loss: 0.8831146359443665\n",
      "Epoch: 1 --- Step:200 / 250.0 --- Loss: 0.6891460418701172\n",
      "Epoch: 2 --- Step:100 / 250.0 --- Loss: 0.686153769493103\n",
      "Epoch: 2 --- Step:200 / 250.0 --- Loss: 0.6282909512519836\n",
      "Epoch: 3 --- Step:100 / 250.0 --- Loss: 0.4996591806411743\n",
      "Epoch: 3 --- Step:200 / 250.0 --- Loss: 0.5387455821037292\n",
      "Epoch: 4 --- Step:100 / 250.0 --- Loss: 0.41154012084007263\n",
      "Epoch: 4 --- Step:200 / 250.0 --- Loss: 0.43315836787223816\n",
      "Epoch: 5 --- Step:100 / 250.0 --- Loss: 0.3297194242477417\n",
      "Epoch: 5 --- Step:200 / 250.0 --- Loss: 0.3520595133304596\n",
      "Epoch: 6 --- Step:100 / 250.0 --- Loss: 0.23499292135238647\n",
      "Epoch: 6 --- Step:200 / 250.0 --- Loss: 0.2768899202346802\n",
      "Epoch: 7 --- Step:100 / 250.0 --- Loss: 0.19128520786762238\n",
      "Epoch: 7 --- Step:200 / 250.0 --- Loss: 0.25751766562461853\n",
      "Epoch: 8 --- Step:100 / 250.0 --- Loss: 0.11543198674917221\n",
      "Epoch: 8 --- Step:200 / 250.0 --- Loss: 0.1408299058675766\n",
      "Epoch: 9 --- Step:100 / 250.0 --- Loss: 0.0823104977607727\n",
      "Epoch: 9 --- Step:200 / 250.0 --- Loss: 0.08713275194168091\n",
      "Epoch: 10 --- Step:100 / 250.0 --- Loss: 0.07270000129938126\n",
      "Epoch: 10 --- Step:200 / 250.0 --- Loss: 0.0999700129032135\n"
     ]
    }
   ],
   "source": [
    "# training loop params\n",
    "n_total_steps = np.ceil(len(train_data) / batch_size)\n",
    "\n",
    "training_loss = []\n",
    "validation_loss = []\n",
    "\n",
    "loss_step = 25\n",
    "current_loss = 0\n",
    "\n",
    "min_validation_loss = 1.0\n",
    "optimum_model = None\n",
    "\n",
    "\n",
    "## Training loop\n",
    "for epoch in range(num_epochs):\n",
    "    \n",
    "    for i, (feature, label) in enumerate(train_loader):\n",
    "        \n",
    "        # pack seequence\n",
    "        sequence_lengths = get_lengths(feature)\n",
    "        \n",
    "        packed = pack_padded_sequence(feature, sequence_lengths, batch_first=True, enforce_sorted=False)\n",
    "       \n",
    "        # forward pass\n",
    "        output = rnn(packed.float())\n",
    "        \n",
    "        # backward pass\n",
    "        loss = criterion(output, label)\n",
    "        loss.backward()\n",
    "        current_loss += loss\n",
    "        \n",
    "        #update weights\n",
    "        optimizer.step()\n",
    "        optimizer.zero_grad()\n",
    "        \n",
    "        # Store Training and Validation losses\n",
    "        if (i+1) % loss_step == 0:\n",
    "            \n",
    "            # training loss\n",
    "            avg_loss = current_loss / loss_step\n",
    "            training_loss.append(avg_loss.item())\n",
    "            current_loss = 0\n",
    "            \n",
    "            \n",
    "            # validation Loss COMMENT OUT IF NO NEED FOR TRAIN VALIDATION PLOT\n",
    "            with torch.no_grad():\n",
    "                \n",
    "                total_val_loss = 0\n",
    "                num_outputs = 0\n",
    "                for (feature, label) in test_loader:\n",
    "                    \n",
    "                    #pack sequence\n",
    "                    sequence_lengths = get_lengths(feature)\n",
    "                    packed = pack_padded_sequence(feature, sequence_lengths, batch_first=True, enforce_sorted=False)\n",
    "                    \n",
    "                    # forward pass\n",
    "                    output = rnn(packed.float())\n",
    "                    num_outputs += 1\n",
    "                    \n",
    "                    # calculate loss\n",
    "                    val_loss = criterion(output, label)\n",
    "                    total_val_loss += val_loss\n",
    "                    \n",
    "                avg_loss = total_val_loss / num_outputs  \n",
    "                validation_loss.append(avg_loss)\n",
    "                \n",
    "                if avg_loss < min_validation_loss:\n",
    "                    optimum_model = copy.deepcopy(rnn.state_dict())\n",
    "                    min_validation_loss = avg_loss\n",
    "            \n",
    "\n",
    "        #log results\n",
    "        if (i+1) % 100 == 0:\n",
    "            print(f'Epoch: {epoch+1} --- Step:{i+1} / {n_total_steps} --- Loss: {training_loss[-1]}')   "
   ]
  },
  {
   "cell_type": "code",
   "execution_count": 79,
   "id": "617ad44f",
   "metadata": {},
   "outputs": [],
   "source": [
    "sns.set_theme()"
   ]
  },
  {
   "cell_type": "code",
   "execution_count": 80,
   "id": "08a283ba",
   "metadata": {},
   "outputs": [
    {
     "data": {
      "text/plain": [
       "tensor(0.4891)"
      ]
     },
     "execution_count": 80,
     "metadata": {},
     "output_type": "execute_result"
    }
   ],
   "source": [
    "min_validation_loss"
   ]
  },
  {
   "cell_type": "code",
   "execution_count": 81,
   "id": "2244c0d1",
   "metadata": {},
   "outputs": [
    {
     "data": {
      "image/png": "[encoded data removed]",
      "text/plain": [
       "<Figure size 864x576 with 1 Axes>"
      ]
     },
     "metadata": {},
     "output_type": "display_data"
    }
   ],
   "source": [
    "\n",
    "font = {'family': 'monospace', 'size': 30} \n",
    "matplotlib.rc('font', **font)\n",
    "plt.figure(figsize=(12, 8))\n",
    "plt.plot(training_loss)\n",
    "plt.plot(validation_loss)\n",
    "plt.xlabel(\"Train Step\")\n",
    "plt.ylabel(\"Loss\")\n",
    "plt.title(\"GRU Training\")\n",
    "# plt.savefig(\"Objects/images/LSTMTraining.png\")\n",
    "plt.show()"
   ]
  },
  {
   "cell_type": "markdown",
   "id": "959d1caf",
   "metadata": {},
   "source": [
    "# Model Evaluation"
   ]
  },
  {
   "cell_type": "code",
   "execution_count": null,
   "id": "b397d655",
   "metadata": {},
   "outputs": [],
   "source": []
  },
  {
   "cell_type": "code",
   "execution_count": 82,
   "id": "aee37c6d",
   "metadata": {
    "collapsed": true
   },
   "outputs": [
    {
     "data": {
      "text/plain": [
       "GRU(\n",
       "  (rnn): GRU(300, 64, batch_first=True)\n",
       "  (linear1): Linear(in_features=64, out_features=3, bias=True)\n",
       ")"
      ]
     },
     "execution_count": 82,
     "metadata": {},
     "output_type": "execute_result"
    }
   ],
   "source": [
    "opt = GRU(input_size, hidden_size, num_layers, output_size)\n",
    "opt.load_state_dict(optimum_model)\n",
    "opt.eval()"
   ]
  },
  {
   "cell_type": "code",
   "execution_count": 102,
   "id": "36807e5b",
   "metadata": {},
   "outputs": [],
   "source": [
    "with torch.no_grad():\n",
    "    predictions = []\n",
    "    labels = []\n",
    "    probabilities = []\n",
    "    \n",
    "    for (feature, label) in test_loader:\n",
    "        \n",
    "        #pack sequence\n",
    "        sequence_lengths = get_lengths(feature)\n",
    "        packed = pack_padded_sequence(feature, sequence_lengths, batch_first=True, enforce_sorted=False)\n",
    "        \n",
    "        # forward pass\n",
    "        output = opt(packed.float())\n",
    "        softmax_output = torch.softmax(output, 1)\n",
    "        \n",
    "        for i in range(output.size()[0]):\n",
    "            # predictions\n",
    "            pred = torch.argmax(output[i]).item()\n",
    "            predictions.append(pred)\n",
    "            \n",
    "            # probabilities\n",
    "            softmax = [j.item() for j in softmax_output[i]]\n",
    "            probabilities.append(softmax)\n",
    "            \n",
    "            #labels\n",
    "            actual = label[i]\n",
    "            labels.append(actual)  "
   ]
  },
  {
   "cell_type": "code",
   "execution_count": 103,
   "id": "b1d0b4c3",
   "metadata": {},
   "outputs": [],
   "source": [
    "accuracy = accuracy_score(predictions, labels)\n",
    "\n",
    "confusion = confusion_matrix(predictions, labels)\n",
    "\n",
    "auc = roc_auc_score(labels, probabilities, multi_class='ovr')"
   ]
  },
  {
   "cell_type": "markdown",
   "id": "300af4c1",
   "metadata": {},
   "source": [
    "## Logging Model"
   ]
  },
  {
   "cell_type": "code",
   "execution_count": 108,
   "id": "db544d6c",
   "metadata": {},
   "outputs": [],
   "source": [
    "def log_model(model, acc, **params):\n",
    "    log_entry = {\n",
    "        \"model\": model.state_dict(),\n",
    "        \"accuracy\": acc,\n",
    "        \n",
    "    }\n",
    "    for i in params:\n",
    "        log_entry[i] = params[i]\n",
    "    \n",
    "    model_log.append(log_entry)"
   ]
  },
  {
   "cell_type": "code",
   "execution_count": 109,
   "id": "7aa75411",
   "metadata": {},
   "outputs": [],
   "source": [
    "log_entry = {\n",
    "    'features': 'glove embeddings',\n",
    "    'model_type': 'RNN',\n",
    "    'num_layers': 1,\n",
    "    'layers': [\"GRU\", \"Linear\"],\n",
    "    'activation': [\"tanh\", None],\n",
    "    'dropout': [None, None],\n",
    "    'epochs': 20,\n",
    "    'optimizer': 'Adam',\n",
    "    'confusion_matrix': confusion,\n",
    "    'roc_auc': auc,\n",
    "    'notes': 'GRU with roc_auc score'\n",
    "}"
   ]
  },
  {
   "cell_type": "code",
   "execution_count": 110,
   "id": "90163c65",
   "metadata": {},
   "outputs": [],
   "source": [
    "log_model(opt, accuracy, **log_entry)"
   ]
  },
  {
   "cell_type": "code",
   "execution_count": 111,
   "id": "ef7319d2",
   "metadata": {},
   "outputs": [
    {
     "data": {
      "text/plain": [
       "array([[ 68,  18,   6],\n",
       "       [ 21, 443,  70],\n",
       "       [  7,  43, 170]])"
      ]
     },
     "execution_count": 111,
     "metadata": {},
     "output_type": "execute_result"
    }
   ],
   "source": [
    "model_log[-1]['confusion_matrix']"
   ]
  },
  {
   "cell_type": "code",
   "execution_count": 112,
   "id": "03ee8ac3",
   "metadata": {},
   "outputs": [
    {
     "data": {
      "text/plain": [
       "0.8049645390070922"
      ]
     },
     "execution_count": 112,
     "metadata": {},
     "output_type": "execute_result"
    }
   ],
   "source": [
    "model_log[-1]['accuracy']"
   ]
  },
  {
   "cell_type": "code",
   "execution_count": 114,
   "id": "91eb6317",
   "metadata": {},
   "outputs": [],
   "source": [
    "torch.save(model_log, \"Objects/Models/model_log.pt\")"
   ]
  },
  {
   "cell_type": "code",
   "execution_count": null,
   "id": "276c4126",
   "metadata": {},
   "outputs": [],
   "source": []
  }
 ],
 "metadata": {
  "hide_input": false,
  "kernelspec": {
   "display_name": "Python 3 (ipykernel)",
   "language": "python",
   "name": "python3"
  },
  "language_info": {
   "codemirror_mode": {
    "name": "ipython",
    "version": 3
   },
   "file_extension": ".py",
   "mimetype": "text/x-python",
   "name": "python",
   "nbconvert_exporter": "python",
   "pygments_lexer": "ipython3",
   "version": "3.8.5"
  },
  "toc": {
   "base_numbering": 1,
   "nav_menu": {},
   "number_sections": true,
   "sideBar": true,
   "skip_h1_title": false,
   "title_cell": "Table of Contents",
   "title_sidebar": "Contents",
   "toc_cell": false,
   "toc_position": {},
   "toc_section_display": true,
   "toc_window_display": false
  }
 },
 "nbformat": 4,
 "nbformat_minor": 5
}
