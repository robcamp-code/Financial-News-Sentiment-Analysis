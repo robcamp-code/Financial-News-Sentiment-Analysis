{
 "cells": [
  {
   "cell_type": "code",
   "execution_count": 1,
   "id": "f5ded39d",
   "metadata": {},
   "outputs": [],
   "source": [
    "import torch\n",
    "import torch.nn as nn\n",
    "from torch.utils.data import Dataset, DataLoader, random_split\n",
    "from torch.nn.utils.rnn import pack_padded_sequence, pad_packed_sequence, pad_sequence\n",
    "import matplotlib.pyplot as plt"
   ]
  },
  {
   "cell_type": "code",
   "execution_count": 2,
   "id": "d3867ec5",
   "metadata": {},
   "outputs": [],
   "source": [
    "import numpy as np\n",
    "from sklearn.metrics import confusion_matrix, accuracy_score\n",
    "from joblib import load, dump"
   ]
  },
  {
   "cell_type": "code",
   "execution_count": 41,
   "id": "5712d274",
   "metadata": {},
   "outputs": [
    {
     "data": {
      "text/plain": [
       "'1.7.0'"
      ]
     },
     "execution_count": 41,
     "metadata": {},
     "output_type": "execute_result"
    }
   ],
   "source": [
    "torch.__version__"
   ]
  },
  {
   "cell_type": "markdown",
   "id": "bc6c02ed",
   "metadata": {},
   "source": [
    "# Loading Data"
   ]
  },
  {
   "cell_type": "code",
   "execution_count": 4,
   "id": "b3e35cd6",
   "metadata": {},
   "outputs": [],
   "source": [
    "y = torch.load(\"Objects/labels.pt\")\n",
    "X = torch.load(\"Objects/glove_embeddings.pt\")"
   ]
  },
  {
   "cell_type": "code",
   "execution_count": 19,
   "id": "bae15219",
   "metadata": {},
   "outputs": [],
   "source": [
    "X = pad_sequence(X, batch_first=True)"
   ]
  },
  {
   "cell_type": "code",
   "execution_count": 20,
   "id": "2e48b2a4",
   "metadata": {},
   "outputs": [],
   "source": [
    "class Data(Dataset):\n",
    "    def __init__(self):\n",
    "        self.x = X\n",
    "        self.y = y\n",
    "        \n",
    "        self.n_samples = len(y)\n",
    "        \n",
    "    def __getitem__(self, idx):\n",
    "        return self.x[idx], self.y[idx]\n",
    "    \n",
    "    def __len__(self):\n",
    "        return self.n_samples"
   ]
  },
  {
   "cell_type": "code",
   "execution_count": 21,
   "id": "fdf0e2fc",
   "metadata": {},
   "outputs": [],
   "source": [
    "data = Data()"
   ]
  },
  {
   "cell_type": "code",
   "execution_count": 22,
   "id": "531ead05",
   "metadata": {},
   "outputs": [],
   "source": [
    "train_data, test_data = random_split(data, [4400, 446])"
   ]
  },
  {
   "cell_type": "code",
   "execution_count": 23,
   "id": "4d52e076",
   "metadata": {},
   "outputs": [],
   "source": [
    "batch_size = 5"
   ]
  },
  {
   "cell_type": "code",
   "execution_count": 24,
   "id": "2c63cac4",
   "metadata": {},
   "outputs": [],
   "source": [
    "train_loader = DataLoader(dataset=train_data, batch_size=batch_size, shuffle=True)\n",
    "test_loader = DataLoader(dataset=test_data, batch_size=batch_size, shuffle=True)"
   ]
  },
  {
   "cell_type": "markdown",
   "id": "3e3eabc8",
   "metadata": {},
   "source": [
    "# Helper Functions"
   ]
  },
  {
   "cell_type": "code",
   "execution_count": 25,
   "id": "1cee929a",
   "metadata": {
    "code_folding": []
   },
   "outputs": [],
   "source": [
    "# Gets the lengths of all of the sequences in a batch\n",
    "def get_lengths(features):\n",
    "    num_pads = 0\n",
    "    length_list = []\n",
    "    for i in features:\n",
    "        for j in range(88):\n",
    "            if torch.sum(i[j] == 0).item() == 300:\n",
    "                num_pads += 1\n",
    "        length = 88 - num_pads\n",
    "        length_list.append(length)\n",
    "        num_pads = 0\n",
    "    return length_list\n"
   ]
  },
  {
   "cell_type": "code",
   "execution_count": 26,
   "id": "c8cc604c",
   "metadata": {},
   "outputs": [],
   "source": [
    "# convert output matrix into categories\n",
    "# i.e [0.1, 3, -0.1] ----> 'Neutral'\n",
    "\n",
    "def get_category(output_matrix):\n",
    "  \n",
    "    outputs = []\n",
    "    \n",
    "    cat_map = {0: 'negative', 1: 'neutral', 2: 'positive'}\n",
    "    \n",
    "    for i in output_matrix:\n",
    "        val = torch.argmax(i).item()\n",
    "        outputs.append(cat_map[val])\n",
    "    \n",
    "    return outputs"
   ]
  },
  {
   "cell_type": "markdown",
   "id": "51b5b404",
   "metadata": {},
   "source": [
    "# Define Architechture"
   ]
  },
  {
   "cell_type": "code",
   "execution_count": 27,
   "id": "45cd870e",
   "metadata": {},
   "outputs": [],
   "source": [
    "# Typical RNN Model\n",
    "class RNN(nn.Module):\n",
    "    def __init__(self, input_size, hidden_size, num_layers, output_size):\n",
    "        super(RNN, self).__init__()\n",
    "        self.num_layers = num_layers\n",
    "        self.hidden_size = hidden_size\n",
    "        self.rnn = nn.RNN(input_size, hidden_size, num_layers, batch_first=True)\n",
    "        self.linear1 = nn.Linear(hidden_size, output_size)\n",
    "        \n",
    "    def forward(self, input_tensor):\n",
    "        h0 = torch.zeros(self.num_layers, 10, self.hidden_size)\n",
    "        \n",
    "        output, h_n = self.rnn(input_tensor, h0)\n",
    "        \n",
    "        output = pad_packed_sequence(output, batch_first=True)\n",
    "        \n",
    "        # length of sequences\n",
    "        indices = output[1] - 1 \n",
    "        \n",
    "        # update batch size (if its the last batch, the size will be different)\n",
    "        current_batch_size = output[0].size()[0]\n",
    "        \n",
    "        output = output[0][range(current_batch_size), indices, :]\n",
    "        \n",
    "        output = self.linear1(output)\n",
    "        \n",
    "        return output"
   ]
  },
  {
   "cell_type": "code",
   "execution_count": 28,
   "id": "9f00cc3c",
   "metadata": {},
   "outputs": [],
   "source": [
    "class GRU(nn.Module):\n",
    "    def __init__(self, input_size, hidden_size, num_layers, output_size):\n",
    "        super(GRU, self).__init__()\n",
    "        self.num_layers = num_layers\n",
    "        self.hidden_size = hidden_size\n",
    "        self.rnn = nn.GRU(input_size, hidden_size, num_layers, batch_first=True)\n",
    "        self.linear1 = nn.Linear(hidden_size, output_size)\n",
    "        \n",
    "    def forward(self, input_tensor):\n",
    "        h0 = torch.zeros(self.num_layers, 10, self.hidden_size)\n",
    "        \n",
    "        output, h_n = self.rnn(input_tensor, h0)\n",
    "        \n",
    "        output = pad_packed_sequence(output, batch_first=True)\n",
    "        \n",
    "        # length of sequences\n",
    "        indices = output[1] - 1 \n",
    "        \n",
    "        # update batch size (if its the last batch, the size will be different)\n",
    "        current_batch_size = output[0].size()[0]\n",
    "        \n",
    "        output = output[0][range(current_batch_size), indices, :]\n",
    "        \n",
    "        output = self.linear1(output.view(current_batch_size,64))\n",
    "        \n",
    "        return output"
   ]
  },
  {
   "cell_type": "code",
   "execution_count": 29,
   "id": "ffbe250b",
   "metadata": {},
   "outputs": [],
   "source": [
    "class LSTM(nn.Module):\n",
    "    def __init__(self, input_size, hidden_size, num_layers, output_size):\n",
    "        super(LSTM, self).__init__()\n",
    "        self.num_layers = num_layers\n",
    "        self.hidden_size = hidden_size\n",
    "        self.rnn = nn.LSTM(input_size, hidden_size, num_layers, batch_first=True)\n",
    "        self.linear1 = nn.Linear(hidden_size, output_size)\n",
    "        \n",
    "    def forward(self, input_tensor):\n",
    "        \n",
    "        h0 = torch.zeros(self.num_layers, 10, self.hidden_size)\n",
    "        c0 = torch.zeros(self.num_layers, 10, self.hidden_size)\n",
    "        output, (h_n, c_n) = self.rnn(input_tensor, (h0, c0))\n",
    "        \n",
    "        \n",
    "        output = pad_packed_sequence(output, batch_first=True)\n",
    "        \n",
    "        # length of sequences\n",
    "        indices = output[1] - 1 \n",
    "        \n",
    "        # update batch size (if its the last batch, the size will be different)\n",
    "        current_batch_size = output[0].size()[0]\n",
    "        \n",
    "        output = output[0][range(current_batch_size), indices, :]\n",
    "        \n",
    "        output = self.linear1(output.view(current_batch_size,64))\n",
    "        \n",
    "        return output"
   ]
  },
  {
   "cell_type": "markdown",
   "id": "d6af0486",
   "metadata": {},
   "source": [
    "## hyperparameters"
   ]
  },
  {
   "cell_type": "code",
   "execution_count": 30,
   "id": "abb80c48",
   "metadata": {},
   "outputs": [],
   "source": [
    "num_epochs = 10\n",
    "hidden_size = 64\n",
    "output_size = 3\n",
    "input_size = 300\n",
    "num_layers = 1"
   ]
  },
  {
   "cell_type": "markdown",
   "id": "b5601bec",
   "metadata": {},
   "source": [
    "## Example Forward pass"
   ]
  },
  {
   "cell_type": "code",
   "execution_count": 31,
   "id": "10de51e5",
   "metadata": {},
   "outputs": [],
   "source": [
    "example_rnn = RNN(input_size, hidden_size, num_layers, output_size)"
   ]
  },
  {
   "cell_type": "code",
   "execution_count": 32,
   "id": "1bde986c",
   "metadata": {},
   "outputs": [],
   "source": [
    "example_data = iter(train_loader).next()"
   ]
  },
  {
   "cell_type": "code",
   "execution_count": 33,
   "id": "ceaa2c26",
   "metadata": {},
   "outputs": [
    {
     "name": "stdout",
     "output_type": "stream",
     "text": [
      "Shape of Data: torch.Size([5, 88, 300])\n",
      "Labels: tensor([1, 0, 1, 1, 2])\n"
     ]
    }
   ],
   "source": [
    "print(f'Shape of Data: {example_data[0].size()}')\n",
    "print(f'Labels: {example_data[1]}')\n",
    "\n",
    "# example_data is a padded sequence of glove word embeddings\n",
    "\n",
    "# -> [0.1, -1, 2, -0.23, ... -0.12, 1.22, 0.01] 300 dimensional embeddings with 88 being the longest sequence\n",
    "# -> [-0.1, 0, 1, -0.21, ... -0.1, 0, 0.1, 0.1]\n",
    "# -> [0, 0, 0, 0, ... -0, 0, 0] # seequences shorter than 88 have a padding value of 0"
   ]
  },
  {
   "cell_type": "code",
   "execution_count": 34,
   "id": "ee08df7a",
   "metadata": {},
   "outputs": [],
   "source": [
    "# first we need to pack the sequence using pytorch's packed sequence\n",
    "\n",
    "# 1.) get feature lengths\n",
    "feature_lengths = get_lengths(example_data[0])\n",
    "                                    \n",
    "# 2.) pack the sequence; Parameters --> batch_first: ensures the batch size is first dimension, enforse_sorted: allows for unsorted sequence\n",
    "packed = pack_padded_sequence(example_data[0], feature_lengths, batch_first = True, enforce_sorted=False)"
   ]
  },
  {
   "cell_type": "markdown",
   "id": "5db37814",
   "metadata": {},
   "source": [
    "this creates a pytorch [PackedSequence](\"https://pytorch.org/docs/stable/generated/torch.nn.utils.rnn.PackedSequence.html#torch.nn.utils.rnn.PackedSequence\") object, and you can click the link to the documentation. All pytorch recurrent layers accept this data type as an input. This is very useful because we can pass sequences of variable length into our network and we can train on the orginal sequence instead of a padded sequence. Here we will pass a sample batch from our training data as a packed sequence through an RNN network. "
   ]
  },
  {
   "cell_type": "code",
   "execution_count": 35,
   "id": "9961031a",
   "metadata": {
    "collapsed": true
   },
   "outputs": [
    {
     "name": "stdout",
     "output_type": "stream",
     "text": [
      "tensor([[-0.1283, -0.1059, -0.1173],\n",
      "        [-0.2939,  0.1227, -0.0232],\n",
      "        [-0.3710, -0.1710, -0.0014],\n",
      "        [-0.3319, -0.0008,  0.0522],\n",
      "        [ 0.3201,  0.1090,  0.6843]], grad_fn=<AddmmBackward>)\n"
     ]
    }
   ],
   "source": [
    "output = example_rnn(packed.float())\n",
    "print(output)"
   ]
  },
  {
   "cell_type": "code",
   "execution_count": 36,
   "id": "3f17fccb",
   "metadata": {
    "collapsed": true
   },
   "outputs": [
    {
     "data": {
      "text/plain": [
       "['neutral', 'neutral', 'positive', 'positive', 'positive']"
      ]
     },
     "execution_count": 36,
     "metadata": {},
     "output_type": "execute_result"
    }
   ],
   "source": [
    "# get predictions as category\n",
    "get_category(output)"
   ]
  },
  {
   "cell_type": "code",
   "execution_count": 37,
   "id": "bf622469",
   "metadata": {
    "collapsed": true
   },
   "outputs": [
    {
     "data": {
      "text/plain": [
       "tensor([1, 0, 1, 1, 2])"
      ]
     },
     "execution_count": 37,
     "metadata": {},
     "output_type": "execute_result"
    }
   ],
   "source": [
    "# actual values\n",
    "example_data[1]"
   ]
  },
  {
   "cell_type": "markdown",
   "id": "fdf1d17c",
   "metadata": {},
   "source": [
    "# Training"
   ]
  },
  {
   "cell_type": "code",
   "execution_count": 38,
   "id": "2ffd3a81",
   "metadata": {},
   "outputs": [],
   "source": [
    "learning_rate = 0.001"
   ]
  },
  {
   "cell_type": "code",
   "execution_count": 39,
   "id": "36f4ce99",
   "metadata": {},
   "outputs": [],
   "source": [
    "rnn = LSTM(input_size, hidden_size, num_layers, output_size)\n",
    "optimizer = torch.optim.Adam(rnn.parameters(), lr=learning_rate)\n",
    "criterion = nn.CrossEntropyLoss()"
   ]
  },
  {
   "cell_type": "code",
   "execution_count": 40,
   "id": "5e1013c4",
   "metadata": {
    "collapsed": true
   },
   "outputs": [
    {
     "name": "stdout",
     "output_type": "stream",
     "text": [
      "Epoch: 0 --- Step:100 / 880.0 --- Loss: 0.9207510948181152\n",
      "Epoch: 0 --- Step:200 / 880.0 --- Loss: 0.8001932501792908\n",
      "Epoch: 0 --- Step:300 / 880.0 --- Loss: 0.8795307278633118\n",
      "Epoch: 0 --- Step:400 / 880.0 --- Loss: 0.7426342964172363\n",
      "Epoch: 0 --- Step:500 / 880.0 --- Loss: 0.7526466846466064\n",
      "Epoch: 0 --- Step:600 / 880.0 --- Loss: 0.8615525960922241\n",
      "Epoch: 0 --- Step:700 / 880.0 --- Loss: 0.7933746576309204\n",
      "Epoch: 0 --- Step:800 / 880.0 --- Loss: 0.7859766483306885\n",
      "Epoch: 1 --- Step:100 / 880.0 --- Loss: 0.6306761503219604\n",
      "Epoch: 1 --- Step:200 / 880.0 --- Loss: 0.5654397010803223\n",
      "Epoch: 1 --- Step:300 / 880.0 --- Loss: 0.6273181438446045\n",
      "Epoch: 1 --- Step:400 / 880.0 --- Loss: 0.6423795819282532\n",
      "Epoch: 1 --- Step:500 / 880.0 --- Loss: 0.6015596389770508\n",
      "Epoch: 1 --- Step:600 / 880.0 --- Loss: 0.4925574064254761\n",
      "Epoch: 1 --- Step:700 / 880.0 --- Loss: 0.6992363929748535\n",
      "Epoch: 1 --- Step:800 / 880.0 --- Loss: 0.48974066972732544\n",
      "Epoch: 2 --- Step:100 / 880.0 --- Loss: 0.34564200043678284\n",
      "Epoch: 2 --- Step:200 / 880.0 --- Loss: 0.6321600079536438\n",
      "Epoch: 2 --- Step:300 / 880.0 --- Loss: 0.4181075394153595\n",
      "Epoch: 2 --- Step:400 / 880.0 --- Loss: 0.46585166454315186\n",
      "Epoch: 2 --- Step:500 / 880.0 --- Loss: 0.5529509782791138\n",
      "Epoch: 2 --- Step:600 / 880.0 --- Loss: 0.44988974928855896\n",
      "Epoch: 2 --- Step:700 / 880.0 --- Loss: 0.5199720859527588\n",
      "Epoch: 2 --- Step:800 / 880.0 --- Loss: 0.3975912928581238\n",
      "Epoch: 3 --- Step:100 / 880.0 --- Loss: 0.4719294011592865\n",
      "Epoch: 3 --- Step:200 / 880.0 --- Loss: 0.25954991579055786\n",
      "Epoch: 3 --- Step:300 / 880.0 --- Loss: 0.25602856278419495\n",
      "Epoch: 3 --- Step:400 / 880.0 --- Loss: 0.30296069383621216\n",
      "Epoch: 3 --- Step:500 / 880.0 --- Loss: 0.25488990545272827\n",
      "Epoch: 3 --- Step:600 / 880.0 --- Loss: 0.3643036186695099\n",
      "Epoch: 3 --- Step:700 / 880.0 --- Loss: 0.26810112595558167\n",
      "Epoch: 3 --- Step:800 / 880.0 --- Loss: 0.44881340861320496\n",
      "Epoch: 4 --- Step:100 / 880.0 --- Loss: 0.1700069010257721\n",
      "Epoch: 4 --- Step:200 / 880.0 --- Loss: 0.250678688287735\n",
      "Epoch: 4 --- Step:300 / 880.0 --- Loss: 0.23646707832813263\n",
      "Epoch: 4 --- Step:400 / 880.0 --- Loss: 0.2579777240753174\n",
      "Epoch: 4 --- Step:500 / 880.0 --- Loss: 0.3057616353034973\n",
      "Epoch: 4 --- Step:600 / 880.0 --- Loss: 0.26826274394989014\n",
      "Epoch: 4 --- Step:700 / 880.0 --- Loss: 0.3567923605442047\n",
      "Epoch: 4 --- Step:800 / 880.0 --- Loss: 0.2900407314300537\n",
      "Epoch: 5 --- Step:100 / 880.0 --- Loss: 0.07798881828784943\n",
      "Epoch: 5 --- Step:200 / 880.0 --- Loss: 0.1874014139175415\n",
      "Epoch: 5 --- Step:300 / 880.0 --- Loss: 0.2420514076948166\n",
      "Epoch: 5 --- Step:400 / 880.0 --- Loss: 0.27988970279693604\n",
      "Epoch: 5 --- Step:500 / 880.0 --- Loss: 0.12907329201698303\n",
      "Epoch: 5 --- Step:600 / 880.0 --- Loss: 0.14898493885993958\n",
      "Epoch: 5 --- Step:700 / 880.0 --- Loss: 0.2537772059440613\n",
      "Epoch: 5 --- Step:800 / 880.0 --- Loss: 0.2690979242324829\n",
      "Epoch: 6 --- Step:100 / 880.0 --- Loss: 0.09862314909696579\n",
      "Epoch: 6 --- Step:200 / 880.0 --- Loss: 0.14505194127559662\n",
      "Epoch: 6 --- Step:300 / 880.0 --- Loss: 0.13368476927280426\n",
      "Epoch: 6 --- Step:400 / 880.0 --- Loss: 0.10300341248512268\n",
      "Epoch: 6 --- Step:500 / 880.0 --- Loss: 0.08823905140161514\n",
      "Epoch: 6 --- Step:600 / 880.0 --- Loss: 0.19296801090240479\n",
      "Epoch: 6 --- Step:700 / 880.0 --- Loss: 0.12419892102479935\n",
      "Epoch: 6 --- Step:800 / 880.0 --- Loss: 0.14851291477680206\n",
      "Epoch: 7 --- Step:100 / 880.0 --- Loss: 0.06550580263137817\n",
      "Epoch: 7 --- Step:200 / 880.0 --- Loss: 0.0762103721499443\n",
      "Epoch: 7 --- Step:300 / 880.0 --- Loss: 0.04395098239183426\n",
      "Epoch: 7 --- Step:400 / 880.0 --- Loss: 0.04633462429046631\n",
      "Epoch: 7 --- Step:500 / 880.0 --- Loss: 0.05990581586956978\n",
      "Epoch: 7 --- Step:600 / 880.0 --- Loss: 0.08614642918109894\n",
      "Epoch: 7 --- Step:700 / 880.0 --- Loss: 0.04712877795100212\n",
      "Epoch: 7 --- Step:800 / 880.0 --- Loss: 0.05789189785718918\n",
      "Epoch: 8 --- Step:100 / 880.0 --- Loss: 0.021388448774814606\n",
      "Epoch: 8 --- Step:200 / 880.0 --- Loss: 0.04583539068698883\n",
      "Epoch: 8 --- Step:300 / 880.0 --- Loss: 0.021541323512792587\n",
      "Epoch: 8 --- Step:400 / 880.0 --- Loss: 0.027660224586725235\n",
      "Epoch: 8 --- Step:500 / 880.0 --- Loss: 0.04741095378994942\n",
      "Epoch: 8 --- Step:600 / 880.0 --- Loss: 0.03978032246232033\n",
      "Epoch: 8 --- Step:700 / 880.0 --- Loss: 0.06611668318510056\n",
      "Epoch: 8 --- Step:800 / 880.0 --- Loss: 0.024628382176160812\n",
      "Epoch: 9 --- Step:100 / 880.0 --- Loss: 0.03505446016788483\n",
      "Epoch: 9 --- Step:200 / 880.0 --- Loss: 0.008366432972252369\n",
      "Epoch: 9 --- Step:300 / 880.0 --- Loss: 0.04468611255288124\n",
      "Epoch: 9 --- Step:400 / 880.0 --- Loss: 0.06252110749483109\n",
      "Epoch: 9 --- Step:500 / 880.0 --- Loss: 0.04162769019603729\n",
      "Epoch: 9 --- Step:600 / 880.0 --- Loss: 0.05476798862218857\n",
      "Epoch: 9 --- Step:700 / 880.0 --- Loss: 0.060088496655225754\n",
      "Epoch: 9 --- Step:800 / 880.0 --- Loss: 0.10764215141534805\n"
     ]
    }
   ],
   "source": [
    "# Training loop\n",
    "n_total_steps = np.ceil(len(train_data) / batch_size)\n",
    "all_losses = []\n",
    "loss_step = 25\n",
    "current_loss = 0\n",
    "\n",
    "for epoch in range(num_epochs):\n",
    "    for i, (feature, label) in enumerate(train_loader):\n",
    "        \n",
    "        # pack seequence\n",
    "        sequence_lengths = get_lengths(feature)\n",
    "        \n",
    "        packed = pack_padded_sequence(feature, sequence_lengths, batch_first=True, enforce_sorted=False)\n",
    "       \n",
    "        # forward pass\n",
    "        output = rnn(packed.float())\n",
    "        \n",
    "        #backward pass\n",
    "        loss = criterion(output, label)\n",
    "        loss.backward()\n",
    "        current_loss += loss\n",
    "        \n",
    "        #update weights\n",
    "        optimizer.step()\n",
    "        optimizer.zero_grad()\n",
    "        \n",
    "        # Store Average Losses for plotting\n",
    "        if (i+1) % loss_step == 0:\n",
    "            avg_loss = current_loss / loss_step\n",
    "            all_losses.append(avg_loss.item())\n",
    "            current_loss = 0\n",
    "\n",
    "        #log results\n",
    "        if (i+1) % 100 == 0:\n",
    "            print(f'Epoch: {epoch} --- Step:{i+1} / {n_total_steps} --- Loss: {all_losses[-1]}') \n",
    "            pass\n",
    "        "
   ]
  },
  {
   "cell_type": "code",
   "execution_count": 42,
   "id": "2244c0d1",
   "metadata": {
    "collapsed": true
   },
   "outputs": [
    {
     "data": {
      "image/png": "[encoded data removed]",
      "text/plain": [
       "<Figure size 432x288 with 1 Axes>"
      ]
     },
     "metadata": {
      "needs_background": "light"
     },
     "output_type": "display_data"
    }
   ],
   "source": [
    "all_losses = [i.item() for i in all_losses]\n",
    "plt.plot(all_losses)\n",
    "plt.show()"
   ]
  },
  {
   "cell_type": "markdown",
   "id": "959d1caf",
   "metadata": {},
   "source": [
    "# Model Evaluation"
   ]
  },
  {
   "cell_type": "code",
   "execution_count": 43,
   "id": "92e29501",
   "metadata": {},
   "outputs": [],
   "source": [
    "with torch.no_grad():\n",
    "    predictions = []\n",
    "    labels = []\n",
    "    for (feature, label) in test_loader:\n",
    "        \n",
    "        #pack sequence\n",
    "        sequence_lengths = get_lengths(feature)\n",
    "        packed = pack_padded_sequence(feature, sequence_lengths, batch_first=True, enforce_sorted=False)\n",
    "        \n",
    "        # forward pass\n",
    "        output = rnn(packed.float())\n",
    "        \n",
    "        for i in range(output.size()[0]):\n",
    "            pred = torch.argmax(output[i]).item()\n",
    "            predictions.append(pred)\n",
    "            actual = label[i]\n",
    "            labels.append(actual)"
   ]
  },
  {
   "cell_type": "code",
   "execution_count": 44,
   "id": "b1d0b4c3",
   "metadata": {},
   "outputs": [],
   "source": [
    "total_acc = accuracy_score(predictions, labels)"
   ]
  },
  {
   "cell_type": "code",
   "execution_count": 45,
   "id": "b1f566a9",
   "metadata": {
    "collapsed": true
   },
   "outputs": [
    {
     "data": {
      "text/plain": [
       "array([[ 35,   4,   5],\n",
       "       [  9, 233,  45],\n",
       "       [  9,  16,  90]])"
      ]
     },
     "execution_count": 45,
     "metadata": {},
     "output_type": "execute_result"
    }
   ],
   "source": [
    "confusion_matrix(predictions, labels)"
   ]
  },
  {
   "cell_type": "markdown",
   "id": "300af4c1",
   "metadata": {},
   "source": [
    "## Logging Model"
   ]
  },
  {
   "cell_type": "code",
   "execution_count": 46,
   "id": "eeb9ab0e",
   "metadata": {
    "collapsed": true
   },
   "outputs": [
    {
     "data": {
      "text/plain": [
       "0.8026905829596412"
      ]
     },
     "execution_count": 46,
     "metadata": {},
     "output_type": "execute_result"
    }
   ],
   "source": [
    "total_acc"
   ]
  },
  {
   "cell_type": "code",
   "execution_count": 106,
   "id": "f3b6137d",
   "metadata": {
    "collapsed": true
   },
   "outputs": [
    {
     "data": {
      "text/plain": [
       "LSTM(\n",
       "  (rnn): LSTM(300, 64, batch_first=True)\n",
       "  (linear1): Linear(in_features=64, out_features=3, bias=True)\n",
       ")"
      ]
     },
     "execution_count": 106,
     "metadata": {},
     "output_type": "execute_result"
    }
   ],
   "source": [
    "rnn"
   ]
  },
  {
   "cell_type": "code",
   "execution_count": 107,
   "id": "7aa75411",
   "metadata": {},
   "outputs": [],
   "source": [
    "log_entry = {\n",
    "    'model': rnn,\n",
    "    'features': 'glove embeddings',\n",
    "    'model_type': 'LSTM',\n",
    "    'num_layers': 1,\n",
    "    'layers': [\"LSTM\", \"Linear\"],\n",
    "    'activation': [\"tanh\", None],\n",
    "    'dropout': [None, None],\n",
    "    'acc': total_acc,\n",
    "    'notes': 'LSTM baseline'\n",
    "    \n",
    "}"
   ]
  },
  {
   "cell_type": "code",
   "execution_count": 73,
   "id": "788cb3b3",
   "metadata": {},
   "outputs": [],
   "source": [
    "model_log = []"
   ]
  },
  {
   "cell_type": "code",
   "execution_count": 108,
   "id": "90163c65",
   "metadata": {},
   "outputs": [],
   "source": [
    "model_log.append(rnn)"
   ]
  },
  {
   "cell_type": "code",
   "execution_count": 109,
   "id": "23683e7d",
   "metadata": {},
   "outputs": [
    {
     "data": {
      "text/plain": [
       "[GRU(\n",
       "   (rnn): GRU(300, 64, batch_first=True)\n",
       "   (linear1): Linear(in_features=64, out_features=3, bias=True)\n",
       " ),\n",
       " LSTM(\n",
       "   (rnn): LSTM(300, 64, batch_first=True)\n",
       "   (linear1): Linear(in_features=64, out_features=3, bias=True)\n",
       " )]"
      ]
     },
     "execution_count": 109,
     "metadata": {},
     "output_type": "execute_result"
    }
   ],
   "source": [
    "model_log"
   ]
  },
  {
   "cell_type": "code",
   "execution_count": null,
   "id": "ef7319d2",
   "metadata": {},
   "outputs": [],
   "source": []
  }
 ],
 "metadata": {
  "hide_input": false,
  "kernelspec": {
   "display_name": "Python 3 (ipykernel)",
   "language": "python",
   "name": "python3"
  },
  "language_info": {
   "codemirror_mode": {
    "name": "ipython",
    "version": 3
   },
   "file_extension": ".py",
   "mimetype": "text/x-python",
   "name": "python",
   "nbconvert_exporter": "python",
   "pygments_lexer": "ipython3",
   "version": "3.8.5"
  },
  "toc": {
   "base_numbering": 1,
   "nav_menu": {},
   "number_sections": true,
   "sideBar": true,
   "skip_h1_title": false,
   "title_cell": "Table of Contents",
   "title_sidebar": "Contents",
   "toc_cell": false,
   "toc_position": {},
   "toc_section_display": true,
   "toc_window_display": false
  }
 },
 "nbformat": 4,
 "nbformat_minor": 5
}
